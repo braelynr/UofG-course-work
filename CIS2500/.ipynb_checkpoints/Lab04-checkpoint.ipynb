{
 "cells": [
  {
   "cell_type": "markdown",
   "metadata": {},
   "source": [
    "# Lab 04 - Structs abd Dynamic Memory (10 marks total)\n",
    "\n",
    "In this lab, you will learn about using structs, an array of structs, and dynamic memory. In the first question you will create a fractions calculator using a static struct. The second question will create a list of structs that require dynamic memory allocation (allocate enough memory to store a student's name). We will also use the fractions element as a member inside of another struct to save the students grade.\n",
    "\n",
    "Again, you will be submitting this lab via git. Please have your submission in the lab04 directory of your git repository.\n",
    "\n",
    "*Reminder*: Your SoCS credentials default to your userID and student number for your password. So, make sure to test both passwords before asking fo assistance.\n",
    "\n",
    "**Deliverables**: Please submit the following in your lab03 directory via git. You **must** make sure that the files are located in your \"lab04\" directory.\n",
    "- In the lab04 directory include the following files,\n",
    "    - fractions.c\n",
    "    - studentGrades.c \n",
    "    \n",
    "    \n",
    "**Evaluation**: (10 marks)\n",
    "- Fractions Calculator (6 marks)\n",
    "    - Common denominator function (1 mark)\n",
    "    - add, subtract, multiply, and divide operations (4x1 mark)\n",
    "    - percent as an integer function (1 mark)\n",
    "    - **Make sure to always put the fraction in lowest terms before returning the result or your answer will be incorrect.**\n",
    "- Static Struct List (4 marks)\n",
    "    - create a new student entry and allocate enough memory for a string (2 marks)\n",
    "    - Functions to find the average, top and bottom grades from an array of \"<tt>StudentGrade</tt>\" variables (2 marks).\n"
   ]
  },
  {
   "cell_type": "markdown",
   "metadata": {},
   "source": [
    "## 1. Setup Environment \n",
    "\n",
    "There are a couple issues to address when we use Jupyter Notebooks so we are going to use a slightly different structure when we code. Our environemnt will store our \"<tt>\\*.c</tt>\" files and \"<tt>lab04.h</tt>\" file directly in the lab04 directory instead of src and include. We will also write the executable inside of the lab04 directory.\n",
    "\n",
    "Changes:\n",
    "- No src, bin, include directories. *(Leaving these directories out is for simplicity/stability while you're using a Notebook, it's always good practice to use an environment like the src, bin, and include directories to stay organized though)*.\n",
    "- \"<tt>\\*.c</tt>\" source files will be directly in the lab04 directoty.\n",
    "- \"<tt>lab04.h</tt>\" header file will be directly in the lab04 directory.\n",
    "- The executable will be compiled in the \"lab04\" directory.\n",
    "- We are going to compile individual files into .o files.\n",
    "\n",
    "We're now going to create the lab04 directory to work in.\n",
    "\n",
    "**Warning: This is the last time your labs will be compiled for you. Make sure you understand what is happening when we are compiling so you can do it independently in the future.**"
   ]
  },
  {
   "cell_type": "code",
   "execution_count": 1,
   "metadata": {
    "collapsed": true
   },
   "outputs": [],
   "source": [
    "%%bash\n",
    "mkdir -p lab04\n",
    "mkdir -p lab04/objFiles"
   ]
  },
  {
   "cell_type": "markdown",
   "metadata": {},
   "source": [
    "Now we can create our \"<tt>\\*.c</tt>\" files and \"<tt>lab04.h</tt>\" header file so we can get started with the coding. Again, the header file will have all of the required function prototypes and structs. The header file below will every function required for this lab.\n",
    "\n",
    "Notice that there are self-defined data structures in the header file. Structs in c are basically a convenient way to store multiple variables that are closely related within a single variable. All the same rules for variables apply to structs in c (this includes pass by reference vs. pass by value)."
   ]
  },
  {
   "cell_type": "code",
   "execution_count": 2,
   "metadata": {
    "collapsed": false
   },
   "outputs": [
    {
     "name": "stdout",
     "output_type": "stream",
     "text": [
      "Writing lab04/lab04.h\n"
     ]
    }
   ],
   "source": [
    "%%file lab04/lab04.h\n",
    "\n",
    "\n",
    "/*****\n",
    "* Standard Libraries\n",
    "*****/\n",
    "\n",
    "#include<stdio.h>\n",
    "#include <string.h>\n",
    "#include <stdlib.h>\n",
    "\n",
    "\n",
    "/*****\n",
    "* Self-defined Data Structures\n",
    "*****/\n",
    "\n",
    "/* Fraction for saving the exact answer */\n",
    "struct fraction {\n",
    "    int numerator; /* Top */\n",
    "    int denominator; /* Bottom */\n",
    "};\n",
    "\n",
    "/* Typedef creates an alias data type named \"Fraction\". No need to always write struct fraction */\n",
    "typedef struct fraction Fraction;\n",
    "\n",
    "\n",
    "/* Notice how a typedef can be used two different ways */\n",
    "typedef struct studentNameAndGrade {\n",
    "    /* Student name, THIS IS JUST A POINTER!! You need to allocate your own memory */\n",
    "    char *name;\n",
    "    \n",
    "    /* struct fraction member */\n",
    "    Fraction grade;\n",
    "} StudentGrade;\n",
    "\n",
    "\n",
    "/*****\n",
    "* Function Prototypes\n",
    "*****/\n",
    "\n",
    "\n",
    "/***\n",
    "* 2. fractions.c \n",
    "***/\n",
    "\n",
    "/* Already completed functions */\n",
    "int absoluteValue(int value);\n",
    "\n",
    "Fraction newFraction(int num, int denom);\n",
    "\n",
    "int GCD(int one, int two);\n",
    "\n",
    "int percentage(Fraction frac);\n",
    "\n",
    "void printFraction(Fraction p);\n",
    "\n",
    "/* Functions that need to be written*/\n",
    "void commonDenominator(Fraction *one, Fraction *two);\n",
    "\n",
    "Fraction lowestTerms(Fraction toLower);\n",
    "\n",
    "Fraction add(Fraction fracOne, Fraction fracTwo);\n",
    "\n",
    "Fraction subtract(Fraction fracOne, Fraction fracTwo);\n",
    "\n",
    "Fraction multiply(Fraction one, Fraction two);\n",
    "\n",
    "Fraction divide(Fraction one, Fraction two);\n",
    "\n",
    "\n",
    "/***\n",
    "* 3. studentGrades.c\n",
    "***/\n",
    "\n",
    "StudentGrade newStudentGrade(char *studentName, int numerator, int denominator);\n",
    "\n",
    "int classAverage(StudentGrade *classList, int length);\n",
    "\n",
    "int lowestMark(StudentGrade *classList, int length);\n",
    "\n",
    "int topMark(StudentGrade *classList, int length);\n",
    "\n"
   ]
  },
  {
   "cell_type": "code",
   "execution_count": 3,
   "metadata": {
    "collapsed": false
   },
   "outputs": [
    {
     "name": "stdout",
     "output_type": "stream",
     "text": [
      "Writing lab04/main.c\n"
     ]
    }
   ],
   "source": [
    "%%file lab04/main.c\n",
    "\n",
    "\n",
    "#include \"lab04.h\"\n",
    "\n",
    "\n",
    "int main(int argc, char *argv[]) {\n",
    "    \n",
    "    printf(\"Hello, World\\n\");\n",
    "    \n",
    "    return 0;\n",
    "}\n",
    "\n"
   ]
  },
  {
   "cell_type": "code",
   "execution_count": 4,
   "metadata": {
    "collapsed": false
   },
   "outputs": [
    {
     "name": "stdout",
     "output_type": "stream",
     "text": [
      "Writing lab04/fractions.c\n"
     ]
    }
   ],
   "source": [
    "%%file lab04/fractions.c\n",
    "\n",
    "#include \"lab04.h\"\n",
    "\n"
   ]
  },
  {
   "cell_type": "code",
   "execution_count": 5,
   "metadata": {
    "collapsed": false
   },
   "outputs": [
    {
     "name": "stdout",
     "output_type": "stream",
     "text": [
      "Writing lab04/studentGrades.c\n"
     ]
    }
   ],
   "source": [
    "%%file lab04/studentGrades.c\n",
    "\n",
    "#include \"lab04.h\"\n",
    "\n"
   ]
  },
  {
   "cell_type": "code",
   "execution_count": 6,
   "metadata": {
    "collapsed": false
   },
   "outputs": [
    {
     "name": "stdout",
     "output_type": "stream",
     "text": [
      "Hello, World\n"
     ]
    }
   ],
   "source": [
    "%%bash\n",
    "gcc -Wall -pedantic -ansi -Ilab04 lab04/main.c -o lab04/runMe\n",
    "./lab04/runMe"
   ]
  },
  {
   "cell_type": "markdown",
   "metadata": {},
   "source": [
    "**Required Flags**: \n",
    "- Wall\n",
    "- pedantic\n",
    "- ansi\n",
    "\n",
    "In this lab we will be compiling a little different this week, we are going to compile each individual file and link them together afterwards. The actual makefile should look like the example below. Notice how each .c file is compiled into a .o and linked at the very end."
   ]
  },
  {
   "cell_type": "raw",
   "metadata": {},
   "source": [
    "CFLAGS = -Wall -pedantic -ansi -Ilab04\n",
    "\n",
    "compile: main fractions studentGrades\n",
    "    gcc $(CFLAGS) lab04/objFiles/*.o -o lab04/runMe\n",
    "    \n",
    "main:\n",
    "    gcc $(CFLAGS) -c lab04/main.c -o lab04/objFiles/main.o\n",
    "    \n",
    "fractions:\n",
    "    gcc $(CFLAGS) -c lab04/fractions.c -o lab04/objFiles/fractions.o\n",
    "\n",
    "studentGrades:\n",
    "    gcc $(CFLAGS) -c lab04/studentGrades.c -o lab04/objFiles/studentGrades.o  \n",
    "    \n",
    "run: compile\n",
    "    ./lab04/runMe\n"
   ]
  },
  {
   "cell_type": "markdown",
   "metadata": {},
   "source": [
    "To do this, we will need to use the same work around in python we did last week to make sure we can put the tabs where they belong."
   ]
  },
  {
   "cell_type": "code",
   "execution_count": 7,
   "metadata": {
    "collapsed": true
   },
   "outputs": [],
   "source": [
    "\n",
    "file = open(\"makefile\", \"w\")\n",
    "\n",
    "# These are the flags we use when compiling\n",
    "file.write(\"CFLAGS = -Wall -pedantic -Ilab04\\n\")\n",
    "file.write(\"CSTANDARD = -ansi\\n\")\n",
    "file.write(\"\\n\")\n",
    "\n",
    "# compile recipe with dependencies on the main, fractions, and studentGrades recipes\n",
    "file.write(\"compile: main fractions studentGrades\\n\")\n",
    "file.write(\"\\tgcc $(CFLAGS) lab04/objFiles/main.o lab04/objFiles/fractions.o lab04/objFiles/studentGrades.o -o lab04/runMe\\n\")\n",
    "file.write(\"\\n\")\n",
    "\n",
    "# main recipe\n",
    "file.write(\"main: lab04/main.c \\n\")\n",
    "file.write(\"\\tgcc $(CFLAGS) $(CSTANDARD) -c lab04/main.c -o lab04/objFiles/main.o\\n\")\n",
    "file.write(\"\\n\")\n",
    "\n",
    "# fractions recipe\n",
    "file.write(\"fractions: \\n\")\n",
    "file.write(\"\\tgcc $(CFLAGS) $(CSTANDARD) -c lab04/fractions.c -o lab04/objFiles/fractions.o\\n\")\n",
    "file.write(\"\\n\")\n",
    "\n",
    "# studentGrades recipe\n",
    "file.write(\"studentGrades: \\n\")\n",
    "file.write(\"\\tgcc $(CFLAGS) $(CSTANDARD) -c lab04/studentGrades.c -o lab04/objFiles/studentGrades.o  \\n\")\n",
    "file.write(\"\\n\")\n",
    "\n",
    "# run recipe with a dependcy on compile\n",
    "file.write(\"run: compile\\n\")\n",
    "file.write(\"\\t./lab04/runMe\\n\")\n",
    "file.write(\"\\n\")\n",
    "\n",
    "file.close()\n"
   ]
  },
  {
   "cell_type": "code",
   "execution_count": 8,
   "metadata": {
    "collapsed": false
   },
   "outputs": [
    {
     "name": "stdout",
     "output_type": "stream",
     "text": [
      "gcc -Wall -pedantic -Ilab04 -ansi -c lab04/main.c -o lab04/objFiles/main.o\n",
      "gcc -Wall -pedantic -Ilab04 -ansi -c lab04/fractions.c -o lab04/objFiles/fractions.o\n",
      "gcc -Wall -pedantic -Ilab04 -ansi -c lab04/studentGrades.c -o lab04/objFiles/studentGrades.o  \n",
      "gcc -Wall -pedantic -Ilab04 lab04/objFiles/main.o lab04/objFiles/fractions.o lab04/objFiles/studentGrades.o -o lab04/runMe\n",
      "./lab04/runMe\n",
      "Hello, World\n"
     ]
    }
   ],
   "source": [
    "%%bash\n",
    "make run"
   ]
  },
  {
   "cell_type": "markdown",
   "metadata": {},
   "source": [
    "## 2. Using a Struct (6 marks)"
   ]
  },
  {
   "cell_type": "markdown",
   "metadata": {},
   "source": [
    "In this section you will learn how to use a struct to store a fraction. This will let us make calculations without ever needing to store the floating decimal. Storing the numerator and denominator as individual integers has a few benefits. For example, it allows use to store the exact fraction of an irrational number, there are fewer memory requirements, no need for converting datatypes, and no rounding errors (rounding errors are common even with floating point numbers).\n",
    "\n",
    "**Make sure to always put the fraction in lowest terms before returning the result or your answer will be incorrect.** You will be provided with the GCD (greatest common divisor) function. The GCD will find the largest divisor of two integers so you only need to divide each by the gcd to put both into lowest terms.\n",
    "\n"
   ]
  },
  {
   "cell_type": "code",
   "execution_count": 40,
   "metadata": {
    "collapsed": false
   },
   "outputs": [
    {
     "name": "stdout",
     "output_type": "stream",
     "text": [
      "Overwriting lab04/fractions.c\n"
     ]
    }
   ],
   "source": [
    "%%file lab04/fractions.c\n",
    "\n",
    "#include \"lab04.h\"\n",
    "\n",
    "\n",
    "/* Finds the absolute value of an integer */\n",
    "int absoluteValue(int value) {\n",
    "    if (value < 0) {\n",
    "        value = -value;\n",
    "    }\n",
    "    \n",
    "    return value;\n",
    "}\n",
    "\n",
    "\n",
    "/* This function is used for returning a new fraction */\n",
    "Fraction newFraction(int num, int denom) {\n",
    "    Fraction new;\n",
    "    \n",
    "    new.numerator = num;\n",
    "    new.denominator = denom;\n",
    "    \n",
    "    return new;\n",
    "}\n",
    "\n",
    "\n",
    "/* Finds the greatest common divisor between two integers */\n",
    "int GCD(int one, int two) {\n",
    "    /* GCD == Greatest Common Divisor */\n",
    "    int smallest;\n",
    "    \n",
    "    /* Get absolute value */\n",
    "    one = absoluteValue(one);\n",
    "    two = absoluteValue(two);\n",
    "    \n",
    "    /* Get smallest starting value */\n",
    "    if (one < two) {\n",
    "        smallest = one;\n",
    "    } else {\n",
    "        smallest = two;\n",
    "    }\n",
    "    \n",
    "    /* Continue to negatively iterate until finding the gcd */\n",
    "    while(smallest > 1) {\n",
    "        /* Find an integer where the remainder is 0 */\n",
    "        if (one%smallest == 0 && two%smallest == 0) {\n",
    "            return smallest;\n",
    "        }\n",
    "        \n",
    "        smallest--;\n",
    "    }\n",
    "    \n",
    "    return smallest;\n",
    "}\n",
    "\n",
    "\n",
    "/* Simple function to print the content of a fraction */\n",
    "void printFraction(Fraction p) {\n",
    "    printf(\"%d/%d\\n\", p.numerator, p.denominator);\n",
    "}\n",
    "\n",
    "\n",
    "/* Returns the integer percentage of a fraction. It does not round the result */\n",
    "int percentage(Fraction frac) {\n",
    "    int result;\n",
    "\n",
    "    result = (frac.numerator*100)/frac.denominator;\n",
    "    \n",
    "    return result;\n",
    "}\n",
    "\n",
    "\n",
    "\n",
    "/***\n",
    "* Functions for you to complete\n",
    "***/\n",
    "\n",
    "/* This function finds a common denominator and scales the numerator and denominator of both fractions. */\n",
    "void commonDenominator(Fraction *one, Fraction *two) {\n",
    "    /* Hint: you do not need to add/subtract in lowest terms. You can convert to lowest after */\n",
    "    int comDenom = one->denominator * two->denominator;\n",
    "    \n",
    "    one->numerator = one->numerator * two->denominator;\n",
    "    two->numerator = two->numerator * one->denominator;\n",
    "    one->denominator = comDenom;\n",
    "    two->denominator = comDenom;\n",
    "}\n",
    "\n",
    "/* Returns a fraction in the lowest terms possible from the fraction passed */\n",
    "Fraction lowestTerms(Fraction toLower) {\n",
    "    /* Hint: Used gcd to find the greatest common divisor */\n",
    "    Fraction inLowest;\n",
    "    int comDivisor;\n",
    "    \n",
    "    comDivisor = GCD(toLower.numerator, toLower.denominator);\n",
    "    inLowest.numerator = toLower.numerator / comDivisor;\n",
    "    inLowest.denominator = toLower.denominator / comDivisor;\n",
    "\n",
    "    return inLowest;\n",
    "}\n",
    "\n",
    "/* Adds fraction one and two together */\n",
    "Fraction add(Fraction fracOne, Fraction fracTwo) {\n",
    "    Fraction result;\n",
    "    \n",
    "    commonDenominator (&fracOne, &fracTwo);\n",
    "    result.numerator = fracOne.numerator + fracTwo.numerator;\n",
    "    result.denominator = fracOne.denominator;\n",
    "    \n",
    "    result = lowestTerms(result);\n",
    "    \n",
    "    return result;\n",
    "}\n",
    "\n",
    "/* Subtracts two fractions (one - two) */\n",
    "Fraction subtract(Fraction fracOne, Fraction fracTwo) {\n",
    "    Fraction result;\n",
    "    \n",
    "    commonDenominator (&fracOne, &fracTwo);\n",
    "    result.numerator = fracOne.numerator - fracTwo.numerator;\n",
    "    result.denominator = fracOne.denominator;\n",
    "    \n",
    "    result = lowestTerms(result);\n",
    "    \n",
    "    return result;\n",
    "}\n",
    "\n",
    "/* Multiplies fractions together */\n",
    "Fraction multiply(Fraction one, Fraction two) {\n",
    "    Fraction result;\n",
    "    \n",
    "    result.numerator = one.numerator * two.numerator;\n",
    "    result.denominator = one.denominator * two.denominator;\n",
    "    result = lowestTerms(result);\n",
    "    \n",
    "    return result;\n",
    "}\n",
    "\n",
    "/* Fraction one divided by fraction two */\n",
    "Fraction divide(Fraction one, Fraction two) {\n",
    "    /* Hint: you may want to use a temp variable when flipping fraction two */\n",
    "    Fraction result;\n",
    "    Fraction tempTwo;\n",
    "    \n",
    "    tempTwo.numerator = two.denominator;\n",
    "    tempTwo.denominator = two.numerator;\n",
    "    result.numerator = one.numerator * tempTwo.numerator;\n",
    "    result.denominator = one.denominator * tempTwo.denominator;\n",
    "    \n",
    "    result = lowestTerms(result);\n",
    "    \n",
    "    \n",
    "    return result;\n",
    "}\n",
    "\n",
    "\n"
   ]
  },
  {
   "cell_type": "code",
   "execution_count": 41,
   "metadata": {
    "collapsed": false
   },
   "outputs": [
    {
     "name": "stdout",
     "output_type": "stream",
     "text": [
      "Overwriting lab04/main.c\n"
     ]
    }
   ],
   "source": [
    "%%file lab04/main.c\n",
    "\n",
    "\n",
    "#include \"lab04.h\"\n",
    "\n",
    "\n",
    "int main(int argc, char *argv[]) {\n",
    "    \n",
    "    Fraction one = newFraction(1, 3);\n",
    "    Fraction two = newFraction(4, 7);\n",
    "    Fraction three = newFraction(2, 3);\n",
    "    Fraction four = newFraction(2, 15);\n",
    "    \n",
    "    printf(\"\\n***** Print Original Fractions *****\\n\");\n",
    "    printf(\"1 (%d%%): \", percentage(one)); printFraction(one);\n",
    "    printf(\"2 (%d%%): \", percentage(two)); printFraction(two);\n",
    "    printf(\"3 (%d%%): \", percentage(three)); printFraction(three);\n",
    "    printf(\"4 (%d%%): \", percentage(four)); printFraction(four);\n",
    "    \n",
    "    \n",
    "    /* Testing Fraction operations, you can add whatever you want but this testing is done for you */\n",
    "    /* Uncomment the code as functionality progresses */\n",
    "    printf(\"\\n***** Testing Add *****\\n\");\n",
    "    printf(\"Should be 19/21: \"); printFraction(add(one, two));\n",
    "    printf(\"Should be  4/5: \"); printFraction(add(three, four));\n",
    "    \n",
    "    printf(\"\\n***** Testing Subtract *****\\n\");\n",
    "    printf(\"Should be -5/21: \"); printFraction(subtract(one, two));\n",
    "    printf(\"Should be  8/15:  \"); printFraction(subtract(three, four));\n",
    "    \n",
    "    printf(\"\\n***** Testing Multiply *****\\n\");\n",
    "    printf(\"Should be 4/21: \"); printFraction(multiply(one, two));\n",
    "    printf(\"Should be 4/45: \"); printFraction(multiply(three, four));\n",
    "    \n",
    "    printf(\"\\n***** Testing Divide *****\\n\");\n",
    "    printf(\"Should be 7/12: \"); printFraction(divide(one, two));\n",
    "    printf(\"Should be 5/1:  \"); printFraction(divide(three, four));\n",
    "    \n",
    "    return 0;\n",
    "}\n",
    "\n"
   ]
  },
  {
   "cell_type": "code",
   "execution_count": 42,
   "metadata": {
    "collapsed": false
   },
   "outputs": [
    {
     "name": "stdout",
     "output_type": "stream",
     "text": [
      "gcc -Wall -pedantic -Ilab04 -ansi -c lab04/main.c -o lab04/objFiles/main.o\n",
      "gcc -Wall -pedantic -Ilab04 -ansi -c lab04/fractions.c -o lab04/objFiles/fractions.o\n",
      "gcc -Wall -pedantic -Ilab04 -ansi -c lab04/studentGrades.c -o lab04/objFiles/studentGrades.o  \n",
      "gcc -Wall -pedantic -Ilab04 lab04/objFiles/main.o lab04/objFiles/fractions.o lab04/objFiles/studentGrades.o -o lab04/runMe\n",
      "./lab04/runMe\n",
      "\n",
      "***** Print Original Fractions *****\n",
      "1 (33%): 1/3\n",
      "2 (57%): 4/7\n",
      "3 (66%): 2/3\n",
      "4 (13%): 2/15\n",
      "\n",
      "***** Testing Add *****\n",
      "Should be 19/21: 19/21\n",
      "Should be  4/5: 4/5\n",
      "\n",
      "***** Testing Subtract *****\n",
      "Should be -5/21: -5/21\n",
      "Should be  8/15:  8/15\n",
      "\n",
      "***** Testing Multiply *****\n",
      "Should be 4/21: 4/21\n",
      "Should be 4/45: 4/45\n",
      "\n",
      "***** Testing Divide *****\n",
      "Should be 7/12: 7/12\n",
      "Should be 5/1:  5/1\n"
     ]
    }
   ],
   "source": [
    "%%bash\n",
    "make run"
   ]
  },
  {
   "cell_type": "markdown",
   "metadata": {},
   "source": [
    "## 3. Structs in Arrays (4 marks)"
   ]
  },
  {
   "cell_type": "markdown",
   "metadata": {},
   "source": [
    "In this section of the lab we will write functions for processing an array of structs and allocate memory for a string within each struct stored. Complete the functions below.\n",
    "\n",
    "*Instruction*:\n",
    "- Write functions for finding the best and worst grade in a stack array.\n",
    "- Find the average mark of the arrays."
   ]
  },
  {
   "cell_type": "code",
   "execution_count": 78,
   "metadata": {
    "collapsed": false
   },
   "outputs": [
    {
     "name": "stdout",
     "output_type": "stream",
     "text": [
      "Overwriting lab04/studentGrades.c\n"
     ]
    }
   ],
   "source": [
    "%%file lab04/studentGrades.c \n",
    "\n",
    "\n",
    "#include \"lab04.h\"\n",
    "\n",
    "/*Returns a new student with from the passed arguments */\n",
    "StudentGrade newStudentGrade(char *studentName, int numerator, int denominator) {\n",
    "    /* Hint 1: If you are confused about the purpose of this function look at newFraction */\n",
    "    /* Hint 2: Do not forget to null terminate your string */\n",
    "    StudentGrade toReturn;\n",
    "    \n",
    "    toReturn.name = malloc(strlen(studentName));\n",
    "    strcpy(toReturn.name, studentName);\n",
    "    toReturn.grade.numerator = numerator;\n",
    "    toReturn.grade.denominator = denominator;\n",
    "    \n",
    "    return toReturn;\n",
    "}\n",
    "\n",
    "\n",
    "/* Entire class average as a percentage */\n",
    "int classAverage(StudentGrade *classList, int length) {\n",
    "    /* Hint: use the percentage function in the fractions.c file */\n",
    "    int avg;\n",
    "    int sumGrade = 0;\n",
    "    int i;\n",
    "    \n",
    "    for (i = 0 ; i < length ; i++)\n",
    "    {\n",
    "        sumGrade = sumGrade + percentage(classList[i].grade);\n",
    "    }\n",
    "    avg = sumGrade / length;\n",
    "    \n",
    "    return avg;\n",
    "}\n",
    "\n",
    "/* Find the top mark in an array of grades (top mark is a percentage) */\n",
    "int topMark(StudentGrade *classList, int length) {\n",
    "    /* Hint: Remember to use the percentage function */\n",
    "    int current;\n",
    "    int i;\n",
    "    \n",
    "    current = percentage(classList[0].grade);\n",
    "    for (i  = 0 ; i < length ; i++)\n",
    "    {\n",
    "        if (current < percentage(classList[i].grade))\n",
    "        {\n",
    "            current = percentage(classList[i].grade);\n",
    "        }\n",
    "    }\n",
    "    \n",
    "    return current;\n",
    "}\n",
    "\n",
    "/* Find the lowest mark in an array of grades (lowest mark is a percentage) */\n",
    "int lowestMark(StudentGrade *classList, int length) {\n",
    "    /* Hint: Remember to use the percentage function */\n",
    "    int current;\n",
    "    int i;\n",
    "    \n",
    "    current = percentage(classList[0].grade);\n",
    "    for (i  = 0 ; i < length ; i++)\n",
    "    {\n",
    "        if (current > percentage(classList[i].grade))\n",
    "        {\n",
    "            current = percentage(classList[i].grade);\n",
    "        }\n",
    "    }\n",
    "    \n",
    "    return current;\n",
    "}\n",
    "\n"
   ]
  },
  {
   "cell_type": "code",
   "execution_count": 79,
   "metadata": {
    "collapsed": false
   },
   "outputs": [
    {
     "name": "stdout",
     "output_type": "stream",
     "text": [
      "Overwriting lab04/main.c\n"
     ]
    }
   ],
   "source": [
    "%%file lab04/main.c\n",
    "\n",
    "\n",
    "#include \"lab04.h\"\n",
    "\n",
    "void printFraction(Fraction p);\n",
    "\n",
    "\n",
    "int main(int argc, char *argv[]) {\n",
    "    StudentGrade classList[5];\n",
    "    classList[0] =  newStudentGrade(\"First Last\", 12, 20);\n",
    "    classList[1] =  newStudentGrade(\"name NaMe\", 19, 20);\n",
    "    classList[2] =  newStudentGrade(\"foo bar\", 20, 20);\n",
    "    classList[3] =  newStudentGrade(\"food Bar\", 1, 20);\n",
    "    classList[4] =  newStudentGrade(\"Bar Food \", 15, 20);\n",
    "    \n",
    "    /* For testing you can just use a random number generator */\n",
    "    /*Uncomment code when you ready and add any testing you want */\n",
    "    printf(\"Average = %d%% (=67%%)\\n\", classAverage(classList, 5));\n",
    "    printf(\"Top Mark = %d%% (=100%%)\\n\", topMark(classList, 5));\n",
    "    printf(\"Lowest Mark = %d%% (=5%%)\\n\", lowestMark(classList, 5));\n",
    "    \n",
    "    return 0;\n",
    "}\n",
    "\n"
   ]
  },
  {
   "cell_type": "code",
   "execution_count": 80,
   "metadata": {
    "collapsed": false
   },
   "outputs": [
    {
     "name": "stdout",
     "output_type": "stream",
     "text": [
      "gcc -Wall -pedantic -Ilab04 -ansi -c lab04/main.c -o lab04/objFiles/main.o\n",
      "gcc -Wall -pedantic -Ilab04 -ansi -c lab04/fractions.c -o lab04/objFiles/fractions.o\n",
      "gcc -Wall -pedantic -Ilab04 -ansi -c lab04/studentGrades.c -o lab04/objFiles/studentGrades.o  \n",
      "gcc -Wall -pedantic -Ilab04 lab04/objFiles/main.o lab04/objFiles/fractions.o lab04/objFiles/studentGrades.o -o lab04/runMe\n",
      "./lab04/runMe\n",
      "Average = 67% (=67%)\n",
      "Top Mark = 100% (=100%)\n",
      "Lowest Mark = 5% (=5%)\n"
     ]
    }
   ],
   "source": [
    "%%bash\n",
    "make run"
   ]
  },
  {
   "cell_type": "markdown",
   "metadata": {},
   "source": [
    "### Congrats!\n",
    "\n",
    "You've made it through the second individual lab exercise <tt>Lab03.ipynb</tt>. Look at the top of this page for submission instructions."
   ]
  }
 ],
 "metadata": {
  "kernelspec": {
   "display_name": "Python 3",
   "language": "python",
   "name": "python3"
  },
  "language_info": {
   "codemirror_mode": {
    "name": "ipython",
    "version": 3
   },
   "file_extension": ".py",
   "mimetype": "text/x-python",
   "name": "python",
   "nbconvert_exporter": "python",
   "pygments_lexer": "ipython3",
   "version": "3.5.3"
  }
 },
 "nbformat": 4,
 "nbformat_minor": 2
}
