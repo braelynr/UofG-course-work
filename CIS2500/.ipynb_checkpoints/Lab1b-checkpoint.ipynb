{
 "cells": [
  {
   "cell_type": "markdown",
   "metadata": {},
   "source": [
    "# Lab 01B - Writing, Compiling and Running C Programs With Jupyter\n",
    "\n",
    "By the end of this lab we will learn the basics of using jupyter notebooks. Specifically, we will learn to write, compile and run simple c programs using Jupyter Notebooks. This lab is very similar to 1a, it's all about repetition to make sure everyone gets the practice in. The exercises are not meant to trick you (there are no uncaught runtime errors), but they do emphasize paying attention to small details in the code."
   ]
  },
  {
   "cell_type": "markdown",
   "metadata": {},
   "source": [
    "## Step 1: Getting started by creating a file\n",
    "\n",
    "To start this lab, we are going to create a file named \"<tt>lab1.c</tt>\". In the \"<tt>lab1.c</tt>\" file we will write the main function that will print a \"<tt>hello, world</tt>\" program. Just like in lab1a, we can use %% to run a multi-line expression. To run the highlighted cell either click the run cell at the top of your screen or press \"<tt>shift enter</tt>\"."
   ]
  },
  {
   "cell_type": "code",
   "execution_count": 10,
   "metadata": {
    "collapsed": false
   },
   "outputs": [
    {
     "name": "stdout",
     "output_type": "stream",
     "text": [
      "Overwriting lab1.c\n"
     ]
    }
   ],
   "source": [
    "%%file lab1.c \n",
    "/***\n",
    "* Name:\n",
    "* Date: January 17, 2018\n",
    "* Course: CIS 2500\n",
    "*\n",
    "* Description:\n",
    "***/\n",
    "\n",
    "\n",
    "#include \"lab1.h\"\n",
    "\n",
    "\n",
    "int main() {\n",
    "    printf(\"hello, world\\n\");\n",
    "    \n",
    "    return 0;\n",
    "}\n",
    "\n"
   ]
  },
  {
   "cell_type": "markdown",
   "metadata": {},
   "source": [
    "If the cell above says, \"Writing main.c\" above, the file has been created. Before we move on to compiling files we're going to create a header file to go with the lab1.c file. The included header file is for self-defined data structures, function prototypes and included libraries (I like to put most of my documentation in header files but that is just personal preference). To include a header file, we need to create a directory named \"<tt>include</tt>\"."
   ]
  },
  {
   "cell_type": "code",
   "execution_count": 11,
   "metadata": {
    "collapsed": false
   },
   "outputs": [
    {
     "name": "stderr",
     "output_type": "stream",
     "text": [
      "mkdir: cannot create directory ‘include’: File exists\n"
     ]
    }
   ],
   "source": [
    "%%bash\n",
    "mkdir include"
   ]
  },
  {
   "cell_type": "markdown",
   "metadata": {},
   "source": [
    "We should make sure it was actually created the file and directory before moving on. Let's see if you remember how to list the content in the directory."
   ]
  },
  {
   "cell_type": "code",
   "execution_count": 12,
   "metadata": {
    "collapsed": false
   },
   "outputs": [
    {
     "name": "stdout",
     "output_type": "stream",
     "text": [
      "include\n",
      "lab1\n",
      "Lab1a.ipynb\n",
      "Lab1b.ipynb\n",
      "lab1.c\n",
      "Lesson00.ipynb\n",
      "Lesson01.ipynb\n",
      "Lesson02.ipynb\n",
      "main\n",
      "main.c\n",
      "RotmanBraelyn_lab1.c\n"
     ]
    }
   ],
   "source": [
    "%%bash\n",
    "ls\n"
   ]
  },
  {
   "cell_type": "markdown",
   "metadata": {},
   "source": [
    "Now we will create the header file named \"<tt>lab1.h</tt>\" in the \"<tt>include</tt>\" directory. For now, the only thing we will do in the header file is include \"<tt>stdio.h</tt>\" library."
   ]
  },
  {
   "cell_type": "code",
   "execution_count": 28,
   "metadata": {
    "collapsed": false
   },
   "outputs": [
    {
     "name": "stdout",
     "output_type": "stream",
     "text": [
      "Overwriting include/lab1.h\n"
     ]
    }
   ],
   "source": [
    "%%file include/lab1.h\n",
    "\n",
    "/***\n",
    "* Name: \n",
    "* Date:\n",
    "* Course:\n",
    "*\n",
    "* Description:\n",
    "***/\n",
    "\n",
    "\n",
    "#include<stdio.h>\n"
   ]
  },
  {
   "cell_type": "markdown",
   "metadata": {},
   "source": [
    "## Step 2: Compiling a c File\n",
    "\n",
    "Now that we have created the necessary files, it is time to compile the file to an executable. We will compile using the gcc compiler, the same way as lab1a with one exception. The exception is that we need to tell the compiler where to look for our header file. To do this we will use the \"<tt>-I</tt>\" flag, this flag tells the compiler to search in the directory next to the flag."
   ]
  },
  {
   "cell_type": "code",
   "execution_count": 1,
   "metadata": {
    "collapsed": false
   },
   "outputs": [],
   "source": [
    "%%bash\n",
    "gcc -Wall -ansi -pedantic -Iinclude lab1.c -o lab1"
   ]
  },
  {
   "cell_type": "markdown",
   "metadata": {},
   "source": [
    "## Step 3: Running a c File\n",
    "\n",
    "We have compiled the source code from file \"<tt>lab1.c</tt>\" into the executable \"<tt>lab1</tt>\" so we can run the executable the exact same way."
   ]
  },
  {
   "cell_type": "code",
   "execution_count": 15,
   "metadata": {
    "collapsed": false
   },
   "outputs": [
    {
     "name": "stdout",
     "output_type": "stream",
     "text": [
      "hello, world\n"
     ]
    }
   ],
   "source": [
    "%%bash\n",
    "./lab1"
   ]
  },
  {
   "cell_type": "markdown",
   "metadata": {},
   "source": [
    "## Step 4: Write a Sum Function\n",
    "\n",
    "We are now going to add a sum function like in lab one, but this time we need to fill in the blank code blocks and add a function prototype to the lab1.h file. We also need to debug any of the errors in the code! \n",
    "\n",
    "**Hint**: There is a total of 3 errors between the \"<tt>lab1.c</tt>\" code and bash script for compiling.\n",
    "\n",
    "**Note**: You can call the sum function below the \"<tt>lab1.h</tt>\" function without the prototype in the \"<tt>lab1.c</tt>\" file because the compiler reads the prototype before calling \"<tt>main</tt>\" when reading the \"<tt>lab1.h</tt>\" header file."
   ]
  },
  {
   "cell_type": "code",
   "execution_count": 36,
   "metadata": {
    "collapsed": false
   },
   "outputs": [
    {
     "name": "stdout",
     "output_type": "stream",
     "text": [
      "Overwriting include/lab1.h\n"
     ]
    }
   ],
   "source": [
    "%%file include/lab1.h\n",
    "\n",
    "/***\n",
    "* Name:\n",
    "* Date:\n",
    "* Course:\n",
    "*\n",
    "* Description:\n",
    "***/\n",
    "\n",
    "\n",
    "/***\n",
    "* Included libraries\n",
    "***/\n",
    "\n",
    "/* Standard input/output in c */\n",
    "#include<stdio.h>\n",
    "\n",
    "/***\n",
    "* Function prototypes below \n",
    "***/\n",
    "\n",
    "/* Summation function to add the individual elements of an array together */\n",
    "int sum(int array[], int arrayLength);\n"
   ]
  },
  {
   "cell_type": "code",
   "execution_count": 37,
   "metadata": {
    "collapsed": false
   },
   "outputs": [
    {
     "name": "stdout",
     "output_type": "stream",
     "text": [
      "Overwriting lab1.c\n"
     ]
    }
   ],
   "source": [
    "%%file lab1.c\n",
    "\n",
    "/***\n",
    "* Name:\n",
    "* Date:\n",
    "* Course:\n",
    "*\n",
    "* Description:\n",
    "***/\n",
    "\n",
    "\n",
    "#include \"lab1.h\"\n",
    "\n",
    "\n",
    "int main() {\n",
    "    int arr[] = {1, 6, 7, 9};\n",
    "    \n",
    "    printf(\"hello, world\\n\");\n",
    "    printf(\"The total sum is %d\\n\", sum(arr, 4));\n",
    "    \n",
    "    return 0;\n",
    "}\n",
    "\n",
    "int sum(int array[], int arrayLength) {\n",
    "    int i=0;\n",
    "    int totalSum=0;\n",
    "    \n",
    "    for (i=0; i < arrayLength ; i++) {\n",
    "        totalSum+=array[i];\n",
    "    }\n",
    "    \n",
    "    return totalSum;\n",
    "}\n",
    "\n",
    "\n"
   ]
  },
  {
   "cell_type": "markdown",
   "metadata": {},
   "source": [
    "We can now compile and run the file to see if the program executes properly, the resulting sum should be 23.\n",
    "\n",
    "**Note**: The size of the array is hardcoded in this example, it is possible to check the size of the array manually but you need to understand the size of the datatype saved in the array. This can be complicated because different computers have various datatype sizes so if it's not done properly the code will no longer be portable. We will return to this later in the semester when we learn about dynamic memory allocation!"
   ]
  },
  {
   "cell_type": "code",
   "execution_count": 38,
   "metadata": {
    "collapsed": false
   },
   "outputs": [
    {
     "name": "stdout",
     "output_type": "stream",
     "text": [
      "hello, world\n",
      "The total sum is 23\n"
     ]
    }
   ],
   "source": [
    "%%bash\n",
    "gcc -Wall -ansi -pedantic -Iinclude lab1.c -o lab1\n",
    "./lab1"
   ]
  },
  {
   "cell_type": "markdown",
   "metadata": {},
   "source": [
    "## Step 5: Saving a Notebook With Checkpoints\n",
    "\n",
    "To save the notebook with checkpoints go to the top left corner select \"<tt>file</tt>\" -> \"<tt>save and checkpoint</tt>\". When you reopen your notebook all your previous work in the notebook will be saved including any changes to the code in the cells. Try to save and reopen the notebook now to make sure you can save your work."
   ]
  },
  {
   "cell_type": "markdown",
   "metadata": {},
   "source": [
    "## Step 6: Using The Command Line\n",
    "\n",
    "Now that we have learned the basics of using a Jupyter Notebook (writing, compiling and running C programs), it's time to do it with the command line. Navigate to the location you created your \"<tt>lab1.c</tt>\" file. Don't worry if you're not sure where you saved the \"<tt>lab1.c</tt>\" file, just type the following bash script to print work directory and check the location."
   ]
  },
  {
   "cell_type": "code",
   "execution_count": 2,
   "metadata": {
    "collapsed": false
   },
   "outputs": [
    {
     "name": "stdout",
     "output_type": "stream",
     "text": [
      "/home/socs/Downloads\n"
     ]
    }
   ],
   "source": [
    "%%bash\n",
    "pwd"
   ]
  },
  {
   "cell_type": "markdown",
   "metadata": {},
   "source": [
    "We are now going to edit the file now that you know which directory your \"<tt>lab1.c</tt>\" file is in. Just like we did before, we need to cd to the directory and open your favourite text editor on the virtual machine. Nano, vim, or atom will be fine but atom is likely the most user friendly. \n",
    "\n",
    "Now your job is to add a single function in the \"<tt>lab1.c</tt>\" file to print the values of the array separated by commas and the last has an and written in front of it. i.e. the integer array used in \"<tt>main</tt>\" will print as \"1, 6, 7 and 9\". Use the function skeleton below to write the required code, you **must** use an if/else if statement in the loop instead of a switch statement. You should check what will happen when you use a switch statement fot this example.\n",
    "\n",
    "- First, write the code for the \"<tt>printIntegerArray</tt>\" function.\n",
    "- Then edit the \"<tt>main</tt>\" function to print the values of the array before the sum.\n",
    "\n",
    "**Note**: Remember to prototype the new function in the \"<tt>lab1.h</tt>\" file or you will receive an implicit declaration statement from the compiler."
   ]
  },
  {
   "cell_type": "code",
   "execution_count": 5,
   "metadata": {
    "collapsed": false
   },
   "outputs": [
    {
     "name": "stdout",
     "output_type": "stream",
     "text": [
      "Overwriting include/lab1.h\n"
     ]
    }
   ],
   "source": [
    "%%file include/lab1.h\n",
    "\n",
    "\n",
    "/***\n",
    "* Included libraries\n",
    "***/\n",
    "\n",
    "/* Standard input/output in c */\n",
    "#include<stdio.h>\n",
    "\n",
    "\n",
    "/***\n",
    "* Function prototypes below \n",
    "***/\n",
    "\n",
    "/* Summation function to add the individual elements of an array together */\n",
    "int sum(int array[], int arrayLength);\n",
    "void printIntegerArray(int arr[], int arrLength);\n"
   ]
  },
  {
   "cell_type": "code",
   "execution_count": 23,
   "metadata": {
    "collapsed": false
   },
   "outputs": [
    {
     "name": "stdout",
     "output_type": "stream",
     "text": [
      "Overwriting lab1.c\n"
     ]
    }
   ],
   "source": [
    "%%file lab1.c\n",
    "\n",
    "#include \"lab1.h\"\n",
    "\n",
    "\n",
    "int main() {\n",
    "    int arr[] = {1, 6, 7, 9};\n",
    "    \n",
    "    printf(\"hello, world\\n\");\n",
    "    printf(\"The total sum of \");\n",
    "    printIntegerArray(arr, 4);\n",
    "    printf(\" is %d\\n\", sum(arr, 4));\n",
    "    \n",
    "    return 0;\n",
    "}\n",
    "\n",
    "\n",
    "/* Used to print the elements of an integer array */\n",
    "void printIntegerArray(int arr[], int arrLength) {\n",
    "    int i=0;\n",
    "    \n",
    "    for(i=0; i < arrLength ; i++) {\n",
    "        \n",
    "        /* Hint: there are more cases to consider than the lab1a switch statement. i.e. > 2 cases */\n",
    "        if (i <arrLength-2) {\n",
    "            printf(\"%d, \", arr[i]);\n",
    "        } else if (i<arrLength-1) {\n",
    "            printf(\"%d and \", arr[i]);\n",
    "        } else if (i<arrLength){\n",
    "            printf(\"%d\", arr[i]);\n",
    "        }\n",
    "    }\n",
    "}\n",
    "\n",
    "\n",
    "/* You can code this function however you would like */\n",
    "int sum(int array[], int arrayLength) {\n",
    "    int i=0;\n",
    "    int totalSum=0;\n",
    "    \n",
    "    for (i=0; i < arrayLength ; i++) {\n",
    "        totalSum+=array[i];\n",
    "    }\n",
    "    \n",
    "    return totalSum;\n",
    "}\n",
    "\n"
   ]
  },
  {
   "cell_type": "markdown",
   "metadata": {},
   "source": [
    "With the finished \"<tt>lab1.c</tt>\" file, you can now compile and run from the command line using the same bash script previously used. Let's see if you can compile with the proper flags and run the executable in a single cell using a multi-line bash script, make sure your executable is named \"lab1\".\n",
    "\n",
    "**Note**: Remember not to always rely on compilers, occasionally they will make mistakes when writing the location of an error. For example no new line at the end of a file can occassionally get confused and write that the error is at the top of the next file read."
   ]
  },
  {
   "cell_type": "code",
   "execution_count": 24,
   "metadata": {
    "collapsed": false
   },
   "outputs": [
    {
     "name": "stdout",
     "output_type": "stream",
     "text": [
      "hello, world\n",
      "The total sum of 1,6,7 and 9 is 23\n"
     ]
    }
   ],
   "source": [
    "%%bash\n",
    "gcc -Wall -ansi -pedantic -Iinclude lab1.c -o lab1\n",
    "./lab1"
   ]
  },
  {
   "cell_type": "markdown",
   "metadata": {},
   "source": [
    "### Congrats!\n",
    "\n",
    "Now that you've made it through the first individual lab exercise <tt>Lab1b.ipynb</tt>. Lab1b must be submitted using git and will be part of your final grade."
   ]
  },
  {
   "cell_type": "code",
   "execution_count": null,
   "metadata": {
    "collapsed": true
   },
   "outputs": [],
   "source": []
  }
 ],
 "metadata": {
  "kernelspec": {
   "display_name": "Python 3",
   "language": "python",
   "name": "python3"
  },
  "language_info": {
   "codemirror_mode": {
    "name": "ipython",
    "version": 3
   },
   "file_extension": ".py",
   "mimetype": "text/x-python",
   "name": "python",
   "nbconvert_exporter": "python",
   "pygments_lexer": "ipython3",
   "version": "3.5.3"
  }
 },
 "nbformat": 4,
 "nbformat_minor": 2
}
