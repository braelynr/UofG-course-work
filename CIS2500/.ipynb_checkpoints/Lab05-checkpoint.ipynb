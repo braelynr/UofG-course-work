{
 "cells": [
  {
   "cell_type": "markdown",
   "metadata": {},
   "source": [
    "# Lab 05 - Dynamic Arrays and Structs (6 marks total)\n",
    "\n",
    "In the last lab you learned about allocating the correct amount of memory for a character array (string) stored inside of a struct. In this lab, the only new concept from last week is allocating memory for an array of structs to store student information. You will read a text file and store student name and number into a dynamically allocated struct.\n",
    "\n",
    "Again, you will be submitting this lab via git. Please have your submission in the lab05 directory of your git repository. \n",
    "\n",
    "https://username@git.socs.uoguelph.ca/cis2500/username/lab05\n",
    "\n",
    "*Reminder*: Your SoCS credentials default to your userID and student number for your password, before\" asking for assistance try your student number and central id login.\n",
    "\n",
    "**Deliverables**: Please submit the following in your lab05 directory via git. You **must** make sure that the files are located in your \"lab05\" directory.\n",
    "- In the lab05 directory include the following files,\n",
    "    - students.c\n",
    "    \n",
    "    \n",
    "**Evaluation**: (6 marks)\n",
    "- Storing student info into a dynamic struct array. (6 marks)\n",
    "    - Read a single text file. (2 marks)\n",
    "    - Allocate memory and create a struct from a single string. (2 marks)\n",
    "    - Free the content in a single struct. (1 mark)\n",
    "    - Free the entire array of structs. (1 mark)\n"
   ]
  },
  {
   "cell_type": "markdown",
   "metadata": {},
   "source": [
    "## 1. Setup Environment \n",
    "\n",
    "Please set up your environment the same way as last lab so your source files (.c) and header files (.h) are directly in the lab05 directory. You will be also be creating a .txt file that will be put in the \"docs\" directory."
   ]
  },
  {
   "cell_type": "code",
   "execution_count": 1,
   "metadata": {
    "collapsed": true
   },
   "outputs": [],
   "source": [
    "%%bash\n",
    "mkdir -p lab05\n",
    "mkdir -p lab05/objFiles\n",
    "mkdir -p lab05/docs"
   ]
  },
  {
   "cell_type": "code",
   "execution_count": 2,
   "metadata": {
    "collapsed": false
   },
   "outputs": [
    {
     "name": "stdout",
     "output_type": "stream",
     "text": [
      "Overwriting lab05/lab05.h\n"
     ]
    }
   ],
   "source": [
    "%%file lab05/lab05.h\n",
    "\n",
    "\n",
    "/*****\n",
    "* Standard Libraries\n",
    "*****/\n",
    "\n",
    "#include<stdio.h>\n",
    "#include <string.h>\n",
    "#include <stdlib.h>\n",
    "\n",
    "\n",
    "/*****\n",
    "* Self-defined Data Structures\n",
    "*****/\n",
    "\n",
    "\n",
    "/* Typedef creates an alias data type named \"Student\" to student student name and number. */\n",
    "struct studentInfo {\n",
    "    char *name;\n",
    "    int number;\n",
    "};\n",
    "typedef struct studentInfo Student;\n",
    "\n",
    "\n",
    "/*****\n",
    "* Function Prototypes\n",
    "*****/\n",
    "\n",
    "\n",
    "/***\n",
    "* students.c \n",
    "***/\n",
    "\n",
    "/* Creating a new struct from a string in the form \"name, studentNumber\" */\n",
    "Student newStudent(char *string);\n",
    "\n",
    "/* Free the memory inside of the struct */\n",
    "void freeStudent(Student student);\n",
    "\n",
    "/* Free all associated memory of a list of structs (including all memory in each struct)*/\n",
    "void freeStudentArray(Student *studentList, int length);\n",
    "\n",
    "/* Read an entire file and return a dynamically allocated array */\n",
    "Student *readStudentFile(char *fileName);\n",
    "\n"
   ]
  },
  {
   "cell_type": "code",
   "execution_count": 3,
   "metadata": {
    "collapsed": false
   },
   "outputs": [
    {
     "name": "stdout",
     "output_type": "stream",
     "text": [
      "Overwriting lab05/main.c\n"
     ]
    }
   ],
   "source": [
    "%%file lab05/main.c\n",
    "\n",
    "\n",
    "#include \"lab05.h\"\n",
    "\n",
    "\n",
    "int main(int argc, char *argv[]) {\n",
    "    \n",
    "    printf(\"Hello, World\\n\");\n",
    "    \n",
    "    return 0;\n",
    "}\n",
    "\n"
   ]
  },
  {
   "cell_type": "code",
   "execution_count": 4,
   "metadata": {
    "collapsed": false
   },
   "outputs": [
    {
     "name": "stdout",
     "output_type": "stream",
     "text": [
      "Overwriting lab05/students.c\n"
     ]
    }
   ],
   "source": [
    "%%file lab05/students.c\n",
    "\n",
    "#include \"lab05.h\"\n",
    "\n"
   ]
  },
  {
   "cell_type": "code",
   "execution_count": 16,
   "metadata": {
    "collapsed": false
   },
   "outputs": [
    {
     "name": "stdout",
     "output_type": "stream",
     "text": [
      "Overwriting lab05/docs/testFile.txt\n"
     ]
    }
   ],
   "source": [
    "%%file lab05/docs/testFile.txt\n",
    "Foo Bar, 1234567\n",
    "First Last, 9876543\n",
    "Bar Foo, 1928374\n",
    "Last First, 5647382\n",
    "Lenny Leonard, 7777777\n"
   ]
  },
  {
   "cell_type": "markdown",
   "metadata": {},
   "source": [
    "## 2. Compiling\n",
    "\n",
    "**Required Flags**: \n",
    "- Wall\n",
    "- pedantic\n",
    "- ansi\n",
    "\n",
    "You may choose how you would like to compile your files for this lab. You can either stop the linking process and compile into individual .o files or compile with a single long command.\n",
    "\n",
    "**Warning:** You will be given the example makefile from the last lab to use as a reference for compiling. In your next lab, you will need to compile without an supplied references."
   ]
  },
  {
   "cell_type": "raw",
   "metadata": {},
   "source": [
    "%%file makefile\n",
    "CFLAGS = -Wall -pedantic -ansi -Ilab04\n",
    "\n",
    "compile: main fractions studentGrades\n",
    "    gcc $(CFLAGS) lab04/objFiles/*.o -o lab04/runMe\n",
    "    \n",
    "main:\n",
    "    gcc $(CFLAGS) -c lab04/main.c -o lab04/objFiles/main.o\n",
    "    \n",
    "fractions:\n",
    "    gcc $(CFLAGS) -c lab04/fractions.c -o lab04/objFiles/fractions.o\n",
    "\n",
    "studentGrades:\n",
    "    gcc $(CFLAGS) -c lab04/studentGrades.c -o lab04/objFiles/studentGrades.o  \n",
    "    \n",
    "run: compile\n",
    "    ./lab04/runMe\n"
   ]
  },
  {
   "cell_type": "markdown",
   "metadata": {},
   "source": [
    "To do this, we will need to use the same work around in python we did last week to make sure ."
   ]
  },
  {
   "cell_type": "code",
   "execution_count": 1,
   "metadata": {
    "collapsed": false
   },
   "outputs": [],
   "source": [
    "file = open(\"makefile\", \"w\")\n",
    "\n",
    "# These are the flags we use when compiling\n",
    "file.write(\"CFLAGS = -Wall -pedantic -Ilab05\\n\")\n",
    "file.write(\"CSTANDARD = -ansi\\n\")\n",
    "file.write(\"\\n\")\n",
    "\n",
    "# compile recipe with dependencies on the main, fractions, and studentGrades recipes\n",
    "file.write(\"compile: main students\\n\")\n",
    "file.write(\"\\tgcc $(CFLAGS) lab05/objFiles/main.o lab05/objFiles/students.o -o lab05/runMe\\n\")\n",
    "file.write(\"\\n\")\n",
    "\n",
    "# main recipe\n",
    "file.write(\"main: lab05/main.c \\n\")\n",
    "file.write(\"\\tgcc $(CFLAGS) $(CSTANDARD) -c lab05/main.c -o lab05/objFiles/main.o\\n\")\n",
    "file.write(\"\\n\")\n",
    "\n",
    "# students recipe\n",
    "file.write(\"students: \\n\")\n",
    "file.write(\"\\tgcc $(CFLAGS) $(CSTANDARD) -c lab05/students.c -o lab05/objFiles/students.o  \\n\")\n",
    "file.write(\"\\n\")\n",
    "\n",
    "# run recipe with a dependcy on compile\n",
    "file.write(\"run: compile\\n\")\n",
    "file.write(\"\\t./lab05/runMe\\n\")\n",
    "file.write(\"\\n\")\n",
    "\n",
    "file.close()\n"
   ]
  },
  {
   "cell_type": "code",
   "execution_count": 2,
   "metadata": {
    "collapsed": false
   },
   "outputs": [
    {
     "name": "stdout",
     "output_type": "stream",
     "text": [
      "gcc -Wall -pedantic -Ilab05 -ansi -c lab05/main.c -o lab05/objFiles/main.o\n",
      "gcc -Wall -pedantic -Ilab05 -ansi -c lab05/students.c -o lab05/objFiles/students.o  \n",
      "gcc -Wall -pedantic -Ilab05 lab05/objFiles/main.o lab05/objFiles/students.o -o lab05/runMe\n",
      "./lab05/runMe\n",
      "makefile:14: recipe for target 'run' failed\n"
     ]
    },
    {
     "name": "stderr",
     "output_type": "stream",
     "text": [
      "make: *** [run] Segmentation fault\n"
     ]
    }
   ],
   "source": [
    "%%bash\n",
    "make run"
   ]
  },
  {
   "cell_type": "code",
   "execution_count": 3,
   "metadata": {
    "collapsed": false
   },
   "outputs": [
    {
     "name": "stderr",
     "output_type": "stream",
     "text": [
      "bash: line 2:  1529 Segmentation fault      ./lab05/runMe\n"
     ]
    }
   ],
   "source": [
    "%%bash\n",
    "gcc -Wall -pedantic -Ilab04 -ansi lab05/main.c lab05/students.c -o lab05/runMe\n",
    "./lab05/runMe"
   ]
  },
  {
   "cell_type": "markdown",
   "metadata": {},
   "source": [
    "## 3. Reading a Text File into a Dynamic Struct Array"
   ]
  },
  {
   "cell_type": "markdown",
   "metadata": {},
   "source": [
    "You will write four functions to complete saving and freeing a list of students. Feel free to write the code in any order but it is recommended that you complete it in the following order but move to other functions as needed.\n",
    "\n",
    "- readStudentFile - Read an entire text file into a single array of dynamically allocated students (make sure you actually opened the file).\n",
    "- newStudent - Return a new student from a single string passed \"student name, number\"\n",
    "- freeStudent - Free any of the allocated memory from within the student struct.\n",
    "- freeStudentArray - Free all memory associated with any memory allocated in the array.\n",
    "\n",
    "*Hint 1*: Use fgets to read from a file into a buffer before creating a student. Continue to read from the file until fgets returns null.\n",
    "\n",
    "*Hint 2*: Use strtok to split the string passed to newStudent.\n",
    "\n",
    "*Hint 3*: atoi converts a string to integer.\n"
   ]
  },
  {
   "cell_type": "code",
   "execution_count": 1,
   "metadata": {
    "collapsed": false
   },
   "outputs": [
    {
     "name": "stdout",
     "output_type": "stream",
     "text": [
      "Overwriting lab05/main.c\n"
     ]
    }
   ],
   "source": [
    "%%file lab05/main.c\n",
    "\n",
    "\n",
    "#include \"lab05.h\"\n",
    "\n",
    "\n",
    "int main(int argc, char *argv[]) {\n",
    "    Student *list = NULL;\n",
    "    int i;\n",
    "    \n",
    "    if (argc < 1) {\n",
    "        printf(\"No file name was specified... Now exiting \\n\");\n",
    "    } else {\n",
    "        list = readStudentFile(argv[1]);\n",
    "    }\n",
    "    \n",
    "    /* Print of the students before freeing */\n",
    "    for (i = 0; i < 5; i++) {\n",
    "        printf(\"Name = \\\"%s\\\" \\n\", list[i].name);\n",
    "        printf(\"Number = \\\"%d\\\" \\n\", list[i].number);\n",
    "    }\n",
    "    \n",
    "    /* Free content in the array, then free the array pointer */\n",
    "    freeStudentArray(list, 5);\n",
    "    free(list);\n",
    "    \n",
    "    return 0;\n",
    "}\n",
    "\n"
   ]
  },
  {
   "cell_type": "code",
   "execution_count": 6,
   "metadata": {
    "collapsed": false
   },
   "outputs": [
    {
     "name": "stdout",
     "output_type": "stream",
     "text": [
      "Overwriting lab05/students.c\n"
     ]
    }
   ],
   "source": [
    "%%file lab05/students.c\n",
    "\n",
    "#include \"lab05.h\"\n",
    "\n",
    "\n",
    "/* It is recommended Write the files in the order they are listed when the need arises */\n",
    "\n",
    "/* Creating a new struct from a string in the form \"name, studentNumber\" */\n",
    "Student newStudent(char *string) {\n",
    "    Student new;\n",
    "    char *info;\n",
    "    \n",
    "    info = strtok(string, \",\");\n",
    "    new.name = malloc(strlen(info)+1);\n",
    "    \n",
    "    strcpy(new.name, info);\n",
    "    \n",
    " \n",
    "    info = strtok(NULL, \",\");\n",
    "    new.number = atoi(info);\n",
    "    \n",
    "    /* Hint: use strtok to split the string using a comma as the delimiter */\n",
    "    \n",
    "    \n",
    "    return new;\n",
    "}\n",
    "\n",
    "\n",
    "/* Free any memory allocated inside of the student struct */\n",
    "void freeStudent(Student studentToFree) {\n",
    "\n",
    "    free(studentToFree.name);\n",
    "}\n",
    "\n",
    "\n",
    "/* Free all associated memory of a list of structs (including all memory in each struct)*/\n",
    "void freeStudentArray(Student *studentList, int length) {\n",
    "    int i = 0;\n",
    "    \n",
    "    for (i = 0 ; i < length ; i++)\n",
    "    {\n",
    "        freeStudent(studentList[i]);\n",
    "    }\n",
    "}\n",
    "\n",
    "\n",
    "/* Read an entire file and return a dynamically allocated array */\n",
    "Student *readStudentFile(char *fileName) {\n",
    "    char buffer[50];\n",
    "    FILE *fPtr;\n",
    "    Student *list = NULL;\n",
    "    int studentCount = 0;\n",
    "    \n",
    "    /* Allocate enough memory to store 5 students */\n",
    "    list = malloc(sizeof(struct studentInfo)*5);\n",
    "    \n",
    "    /* Open the file in read mode and see if it exists */\n",
    "    fPtr = fopen(fileName, \"r\");\n",
    "    if (fPtr != NULL)\n",
    "    {\n",
    "       /* printf(\"File exists\\n\");*/\n",
    "        while ( fgets ( buffer, 50 , fPtr ) != NULL ) /* read a line */\n",
    "        {\n",
    "            list[studentCount]=newStudent(buffer);\n",
    "            studentCount++;\n",
    "        }        \n",
    "    }\n",
    "    else\n",
    "    {\n",
    "        printf(\"ERROR: File does not exist\\n\");\n",
    "        exit(0);\n",
    "    }\n",
    "    \n",
    "    /* Make sure to close the file stream after opening to read */\n",
    "    fclose(fPtr);\n",
    "    \n",
    "    return list;\n",
    "}\n"
   ]
  },
  {
   "cell_type": "code",
   "execution_count": 10,
   "metadata": {
    "collapsed": false,
    "scrolled": true
   },
   "outputs": [
    {
     "name": "stdout",
     "output_type": "stream",
     "text": [
      "Name = \"Foo Bar\" \n",
      "Number = \"1234567\" \n",
      "Name = \"First Last\" \n",
      "Number = \"9876543\" \n",
      "Name = \"Bar Foo\" \n",
      "Number = \"1928374\" \n",
      "Name = \"Last First\" \n",
      "Number = \"5647382\" \n",
      "Name = \"Lenny Leonard\" \n",
      "Number = \"7777777\" \n"
     ]
    }
   ],
   "source": [
    "%%bash\n",
    "gcc -Wall -pedantic -ansi -Ilab05 lab05/*.c -o lab05/runMe\n",
    "./lab05/runMe lab05/docs/testFile.txt"
   ]
  },
  {
   "cell_type": "markdown",
   "metadata": {},
   "source": [
    "### Congrats!\n",
    "\n",
    "You've made it through the second individual lab exercise <tt>Lab05.ipynb</tt>. Look at the top of this page for submission instructions."
   ]
  },
  {
   "cell_type": "code",
   "execution_count": null,
   "metadata": {
    "collapsed": true
   },
   "outputs": [],
   "source": []
  }
 ],
 "metadata": {
  "kernelspec": {
   "display_name": "Python 3",
   "language": "python",
   "name": "python3"
  },
  "language_info": {
   "codemirror_mode": {
    "name": "ipython",
    "version": 3
   },
   "file_extension": ".py",
   "mimetype": "text/x-python",
   "name": "python",
   "nbconvert_exporter": "python",
   "pygments_lexer": "ipython3",
   "version": "3.5.3"
  }
 },
 "nbformat": 4,
 "nbformat_minor": 2
}
