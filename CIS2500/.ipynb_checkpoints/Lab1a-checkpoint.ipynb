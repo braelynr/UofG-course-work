{
 "cells": [
  {
   "cell_type": "markdown",
   "metadata": {},
   "source": [
    "# Lab 01A - Writing, Compiling and Running C Programs With Jupyter\n",
    "\n",
    "By the end of this lab we will learn the basics of using jupyter notebooks. Specifically, we will learn to write, compile and run simple c programs using Jupyter Notebooks."
   ]
  },
  {
   "cell_type": "markdown",
   "metadata": {},
   "source": [
    "## Step 1: Getting started by creating a file\n",
    "\n",
    "To start this lab we are going to create a file named \"<tt>main.c</tt>\". In the \"<tt>main.c</tt>\" file we will write the main function that will print a \"<tt>hello, world</tt>\" program. First of all, note that we can use %% to run a multi-line expression. With this in mind we can create a multi-line file named \"<tt>main.c</tt>\" by using the cell below. To run the highlighted cell either click the run cell at the top of your screen or press \"<tt>shift enter</tt>\"."
   ]
  },
  {
   "cell_type": "code",
   "execution_count": 1,
   "metadata": {
    "collapsed": false
   },
   "outputs": [
    {
     "name": "stdout",
     "output_type": "stream",
     "text": [
      "Overwriting main.c\n"
     ]
    }
   ],
   "source": [
    "%%file main.c \n",
    "#include <stdio.h>\n",
    "\n",
    "int main() {\n",
    "    printf(\"hello, world\\n\");\n",
    "    \n",
    "    return 0;\n",
    "}"
   ]
  },
  {
   "cell_type": "markdown",
   "metadata": {},
   "source": [
    "If it says \"Writing main.c\" above, the file has been created. Even if it says the file has been created, we should make sure it was actually created before moving on. To do this we need to check what's in the directory using bash. Similar to above the \"%%bash\" is required to write the script we use to check for the file. Before moving on, make sure \"main.c\" one of the files listed when you list directory content?"
   ]
  },
  {
   "cell_type": "code",
   "execution_count": 2,
   "metadata": {
    "collapsed": false
   },
   "outputs": [
    {
     "name": "stdout",
     "output_type": "stream",
     "text": [
      "Lab1a.ipynb\n",
      "Lab1b.ipynb\n",
      "Lesson00.ipynb\n",
      "Lesson01.ipynb\n",
      "Lesson02.ipynb\n",
      "main.c\n"
     ]
    }
   ],
   "source": [
    "%%bash\n",
    "ls"
   ]
  },
  {
   "cell_type": "markdown",
   "metadata": {},
   "source": [
    "## Step 2: Compiling a c File\n",
    "\n",
    "Now that we have created a file, it is time to compile the file. We will compile using the gcc compiler, the example below will use the \"<tt>-o</tt>\" flag to name the executable. This course will also use the \"<tt>-Wall</tt>\" and \"<tt>-ansi</tt>\" flags for all programs so be sure to add them into the bash script in the cell below."
   ]
  },
  {
   "cell_type": "code",
   "execution_count": 3,
   "metadata": {
    "collapsed": true
   },
   "outputs": [],
   "source": [
    "%%bash\n",
    "gcc main.c -o main"
   ]
  },
  {
   "cell_type": "markdown",
   "metadata": {},
   "source": [
    "## Step 3: Running a c File\n",
    "\n",
    "Now that we have compiled the source code from file \"<tt>main.c</tt>\" into the executable \"<tt>main</tt>\" we can run the executable using bash."
   ]
  },
  {
   "cell_type": "code",
   "execution_count": 4,
   "metadata": {
    "collapsed": false
   },
   "outputs": [
    {
     "name": "stdout",
     "output_type": "stream",
     "text": [
      "hello, world\n"
     ]
    }
   ],
   "source": [
    "%%bash\n",
    "./main"
   ]
  },
  {
   "cell_type": "markdown",
   "metadata": {},
   "source": [
    "## Step 4: Write a Sum Function\n",
    "\n",
    "Since we can write, compile and run simple c files, lets add a bit to make a program that will sum an entire array of integers. To do this we are going to simply overwrite the main.c file to include the new function. The sum function below is not complete and must be finished before the program will execute properly."
   ]
  },
  {
   "cell_type": "code",
   "execution_count": 5,
   "metadata": {
    "collapsed": false
   },
   "outputs": [
    {
     "name": "stdout",
     "output_type": "stream",
     "text": [
      "Overwriting main.c\n"
     ]
    }
   ],
   "source": [
    "%%file main.c\n",
    "\n",
    "#include <stdio.h>\n",
    "\n",
    "int sum(int array[], int arrayLength) {\n",
    "    int i = 0;\n",
    "    int totalSum = 0;\n",
    "    \n",
    "    while(i < arrayLength) {\n",
    "        totalSum += array[i];\n",
    "        i++;\n",
    "    }\n",
    "    \n",
    "    return totalSum;\n",
    "}\n",
    "\n",
    "int main()\n",
    "{\n",
    "    int arr[] = {1, 7, 9};\n",
    "    \n",
    "    printf(\"hello, world\\n\");\n",
    "    printf(\"The total sum is %d\\n\", sum(arr, 3));\n",
    "}\n",
    "\n"
   ]
  },
  {
   "cell_type": "markdown",
   "metadata": {},
   "source": [
    "We can now compile and run the file to see if the program executes properly, the resulting sum should be 17."
   ]
  },
  {
   "cell_type": "code",
   "execution_count": 6,
   "metadata": {
    "collapsed": false
   },
   "outputs": [
    {
     "name": "stdout",
     "output_type": "stream",
     "text": [
      "hello, world\n",
      "The total sum is 17\n"
     ]
    },
    {
     "name": "stderr",
     "output_type": "stream",
     "text": [
      "main.c: In function ‘main’:\n",
      "main.c:22:1: warning: control reaches end of non-void function [-Wreturn-type]\n",
      " }\n",
      " ^\n"
     ]
    }
   ],
   "source": [
    "%%bash\n",
    "gcc -Wall -ansi -pedantic main.c -o main\n",
    "./main"
   ]
  },
  {
   "cell_type": "markdown",
   "metadata": {},
   "source": [
    "## Step 5: Saving a Notebook With Checkpoints\n",
    "\n",
    "To save the notebook with checkpoints go to the top left corner select \"<tt>file</tt>\" -> \"<tt>save and checkpoint</tt>\". When you reopen your notebook all your previous work in the notebook will be saved including any changes to the code in the cells. Try to save and reopen the notebook now to make sure you can save your work."
   ]
  },
  {
   "cell_type": "markdown",
   "metadata": {},
   "source": [
    "## Step 6: Using The Command Line\n",
    "\n",
    "Now that we have learned the basics of using a Jupyter Notebook (writing, compiling and running C programs), it's time to do it with the command line. Navigate to the location you created your \"<tt>main.c</tt>\" file. Don't worry if you're not sure where you saved the main.c file, just type the following bash script to print work directory and check the location."
   ]
  },
  {
   "cell_type": "code",
   "execution_count": 7,
   "metadata": {
    "collapsed": false
   },
   "outputs": [
    {
     "name": "stdout",
     "output_type": "stream",
     "text": [
      "/home/socs/Downloads\n"
     ]
    }
   ],
   "source": [
    "%%bash\n",
    "pwd"
   ]
  },
  {
   "cell_type": "markdown",
   "metadata": {},
   "source": [
    "We are now going to edit the file now that you know which directory your main.c file is in. To edit the file cd to the directory and open your favourite text editor on the virtual machine. Nano, vim, or atom will be fine but atom is likely the most user friendly. Now your job is to add a single function in the \"<tt>main.c</tt>\" file to print the values of the array separated by commas. i.e. the integer array used in main will print as \"1, 7, 9\". There is a function skeleton you can use in the cell below. Main should also be changed to print the value list of integers and the sum. So there are two things to be done,\n",
    "\n",
    "- First, write the code for the \"<tt>printIntegerArray</tt>\" function.\n",
    "- Then edit the main function to print the values of the array before the sum."
   ]
  },
  {
   "cell_type": "code",
   "execution_count": 9,
   "metadata": {
    "collapsed": false
   },
   "outputs": [
    {
     "ename": "SyntaxError",
     "evalue": "invalid syntax (<ipython-input-9-476b3fc920aa>, line 1)",
     "output_type": "error",
     "traceback": [
      "\u001b[0;36m  File \u001b[0;32m\"<ipython-input-9-476b3fc920aa>\"\u001b[0;36m, line \u001b[0;32m1\u001b[0m\n\u001b[0;31m    void printIntegerArray(int arr[], int arrLength) {\u001b[0m\n\u001b[0m                         ^\u001b[0m\n\u001b[0;31mSyntaxError\u001b[0m\u001b[0;31m:\u001b[0m invalid syntax\n"
     ]
    }
   ],
   "source": [
    "void printIntegerArray(int arr[], int arrLength) {\n",
    "    \n",
    "    while (){\n",
    "        \n",
    "    }\n",
    "}\n",
    "\n",
    "\n",
    "int main() {\n",
    "    int arr[] = {1, 7, 9};\n",
    "    \n",
    "    printf(\"hello, world\\n\");\n",
    "    printf(\"The total sum of \");\n",
    "    printIntegerArray(arr, 3);\n",
    "    printf(\" is %d\\n\", sum(arr, 3));\n",
    "    \n",
    "    return 0;\n",
    "}"
   ]
  },
  {
   "cell_type": "markdown",
   "metadata": {},
   "source": [
    "With the finished \"<tt>main.c</tt>\" file, you can now compile and run from the command line using the same bash script previously used."
   ]
  },
  {
   "cell_type": "code",
   "execution_count": 17,
   "metadata": {
    "collapsed": false
   },
   "outputs": [
    {
     "name": "stdout",
     "output_type": "stream",
     "text": [
      "1, 7, 9, \n",
      "hello, world\n",
      "The total sum is 17\n"
     ]
    },
    {
     "name": "stderr",
     "output_type": "stream",
     "text": [
      "main.c: In function ‘main’:\n",
      "main.c:32:1: warning: control reaches end of non-void function [-Wreturn-type]\n",
      " }\n",
      " ^\n"
     ]
    }
   ],
   "source": [
    "%%bash\n",
    "gcc -Wall -ansi -pedantic main.c -o main\n",
    "./main"
   ]
  },
  {
   "cell_type": "markdown",
   "metadata": {},
   "source": [
    "### Good job!\n",
    "\n",
    "Now that you've made it through the first tutorial <tt>Lab1a.ipynb</tt>, open <tt>Lab1b.ipynb</tt> the same way and complete it individually. Lab1b must be submitted for grading."
   ]
  },
  {
   "cell_type": "code",
   "execution_count": null,
   "metadata": {
    "collapsed": true
   },
   "outputs": [],
   "source": []
  }
 ],
 "metadata": {
  "kernelspec": {
   "display_name": "Python 3",
   "language": "python",
   "name": "python3"
  },
  "language_info": {
   "codemirror_mode": {
    "name": "ipython",
    "version": 3
   },
   "file_extension": ".py",
   "mimetype": "text/x-python",
   "name": "python",
   "nbconvert_exporter": "python",
   "pygments_lexer": "ipython3",
   "version": "3.5.3"
  }
 },
 "nbformat": 4,
 "nbformat_minor": 2
}
