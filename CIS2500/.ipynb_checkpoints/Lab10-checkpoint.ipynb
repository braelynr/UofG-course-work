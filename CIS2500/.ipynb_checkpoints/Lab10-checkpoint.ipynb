{
 "cells": [
  {
   "cell_type": "markdown",
   "metadata": {},
   "source": [
    "# Lab 10 - CIS\\*2500 Review  (18 marks total)\n",
    "\n",
    "Lab 10 is the final lab of the semester so we are going to focus on a review of the entire semester. The lab will not be all encompusing but will cover nearly all of the major concepts in CIS\\*2500. At the beginning of the semester, all the concepts in this lab should have been novel. With that being said, lets look at everything we've learned this semester and see how far we've come. \n",
    "\n",
    "1. Pass by Value vs. Pass by reference.\n",
    "    1. Pass by Value\n",
    "    - Pass by reference\n",
    "2. Array (1,2,3...D arrays)\n",
    "    1. Find the sum of a single column in a 2D array.\n",
    "3. Dynamic memory allocation\n",
    "    1. Allocate enough memory to store a single string (don't forget to null terminate!).\n",
    "4. Struct\n",
    "    1. Allocate memory for a single struct and return a pointer to said struct.\n",
    "    2. Free any associated memory with the node, including any variables inside the node.\n",
    "5. Command line arguments\n",
    "    1. Save a list of strings storing all of the individual command line arguments (allocate exact memory for each string) and list.\n",
    "6. Linked list \n",
    "    1. Add a node to the front (push function).\n",
    "    2. Remove a node from the front (pop function).\n",
    "    \n",
    "    \n",
    "This may seem like a lot of topics to cover in a single lab, but the lab is set up in a way that every function should be 10 lines or less (some may even be able to be solved in a single line). This should make it easy for you to write and test the code during the lab. \n",
    "\n",
    "Although it is a review, here are some topics that are not covered in this lab but you may find useful.\n",
    "\n",
    "- Compiling\n",
    "    - Makefiles. If you Know and understand makefiles, it will save you a lot of time.\n",
    "    - Object files (.o) for linking various software projects.\n",
    "- Function pointers\n",
    "    - Function pointers are very useful when you want to write reusable code.\n",
    "- Recursion\n",
    "    - Simple to write when deal with large data structures\n",
    "- enumeration and union\n",
    "- Unit testing\n",
    "    - Testing effectively and efficiently is often overlooked by software developers even though it's critical to the process.\n",
    "- FileIO (input/output)\n",
    "    - Binary Files\n",
    "    - Text Files\n",
    "- ifdef and ifndef\n",
    "    - Useful for large projects when redefining the same functions.\n",
    "\n",
    "You will be submitting this lab via git. Please have your submission in the lab10 directory of your git repository. Your username is your University of Guelph central ID login.\n",
    "\n",
    "https://username@git.socs.uoguelph.ca/cis2500/username/lab10\n",
    "\n",
    "\n",
    "**Deliverables**: Please submit the following in your lab10 directory via git. You **must** make sure that the files are located in your \"lab10\" directory.\n",
    "- In the lab10 directory include the following files,\n",
    "    - passBy.c\n",
    "    - array.c\n",
    "    - dynamicMemory.c\n",
    "    - commandLineArgs.c\n",
    "    - struct.c\n",
    "    - linkedList.c\n",
    "    \n",
    "    \n",
    "**Evaluation**: (18 marks)\n",
    "1. Pass by value vs. pass by reference. (2 marks)\n",
    "    1. Function for calculating a squaring an integer.\n",
    "        1. Pass by value (1 mark)\n",
    "        - Pass by reference (1 mark)\n",
    "2. Array (1,2,3D arrays) (2 marks)\n",
    "    1.\tCalculate the sum of a single column in a 2D array (2 marks).\n",
    "3. Dynamic memory allocation (2 marks)\n",
    "    1. Allocate enough memory to store a single string (don't forget to null terminate!).\n",
    "4. Command line arguments (4 marks)\n",
    "    1. Save a string of all command line arguments into a single pointer (allocate exact memory for each string).\n",
    "5. Struct (4 marks)\n",
    "    1. Allocate memory for a single struct and return a pointer to said struct. (2 marks)\n",
    "    2. Free any associated memory with the node. (2 marks)\n",
    "6. Linked list (4 marks)\n",
    "    1. Add a node to the front (push function). (2 marks)\n",
    "    2. Remove a node from the front (pop function). (2 marks)\n",
    "\n"
   ]
  },
  {
   "cell_type": "markdown",
   "metadata": {},
   "source": [
    "## 1. Setup Environment "
   ]
  },
  {
   "cell_type": "code",
   "execution_count": 1,
   "metadata": {
    "collapsed": true
   },
   "outputs": [],
   "source": [
    "%%bash\n",
    "mkdir -p lab10\n",
    "mkdir -p lab10/objFiles\n",
    "mkdir -p lab10/docs"
   ]
  },
  {
   "cell_type": "code",
   "execution_count": 2,
   "metadata": {
    "collapsed": false
   },
   "outputs": [
    {
     "name": "stdout",
     "output_type": "stream",
     "text": [
      "Writing lab10/lab10.h\n"
     ]
    }
   ],
   "source": [
    "%%file lab10/lab10.h\n",
    "\n",
    "/* This ifndef will stop the pesky \"previous definition\"/\"redefinition\" error when the preprocessor reads the file multiple times */\n",
    "#ifndef LAB_10\n",
    "\n",
    "/* Define this library */\n",
    "#define LAB_10\n",
    "\n",
    "/*****\n",
    "* Standard Libraries\n",
    "*****/\n",
    "\n",
    "#include <stdio.h>\n",
    "#include <string.h>\n",
    "#include <stdlib.h>\n",
    "\n",
    "/*****\n",
    "* Struct Definitions\n",
    "*****/\n",
    "\n",
    "/* enum and typedef of a boolean type */\n",
    "typedef int boolean;\n",
    "enum boolean{false, true};\n",
    "\n",
    "/* Linked list node and typedef */\n",
    "typedef struct listNode Node;\n",
    "struct listNode {\n",
    "    char *data;\n",
    "    Node *next;\n",
    "};\n",
    "\n",
    "\n",
    "/*****\n",
    "* Function Prototypes\n",
    "*****/\n",
    "\n",
    "\n",
    "/*** 1. Passing parameters ***/\n",
    "\n",
    "/* Return the value of num squared */\n",
    "int squared_value(int num);\n",
    "\n",
    "/* Set the value of &num to be num squared */\n",
    "void squared_reference(int *num);\n",
    "\n",
    "\n",
    "/*** 2. Arrays ***/\n",
    "\n",
    "/* Calculate the sum of a single column in an array with 8 rows and 7 columns */\n",
    "int sumColumn(int array[8][7], int column);\n",
    "\n",
    "/*** 3. Dynamic Memory ***/\n",
    "\n",
    "/* Allocate enough memory, and copy the */\n",
    "char *copyString(const char *toCopy);\n",
    "\n",
    "\n",
    "/*** 4. Command Line Arguments ***/\n",
    "\n",
    "/* Allocate the correct amount of memory for storing the string value of all strings passed */\n",
    "void storeCommandLineArgs(int argc, const char *argv[], char ***args);\n",
    "\n",
    "\n",
    "/*** 5. Structs ***/\n",
    "\n",
    "/* Allocate memory for a single Node struct and return a pointer to said struct */\n",
    "Node *newNode(char *string);\n",
    "\n",
    "/* Free any associated memory with a Node, including the node itself */\n",
    "void deleteNode(Node **toDelete);\n",
    "\n",
    "\n",
    "/*** 6. Linked Lists ***/\n",
    "\n",
    "/* Add a node to the front (push function). You can assume the node is already allocated */\n",
    "void addToFront(Node **head, Node *toAdd);\n",
    "\n",
    "/* Remove a node from the front (pop function). Return the node that is removed from the list. */\n",
    "Node *removeFromFront(Node **head);\n",
    "\n",
    "#endif\n",
    "\n"
   ]
  },
  {
   "cell_type": "code",
   "execution_count": 16,
   "metadata": {
    "collapsed": false
   },
   "outputs": [
    {
     "name": "stdout",
     "output_type": "stream",
     "text": [
      "Overwriting lab10/main.c\n"
     ]
    }
   ],
   "source": [
    "%%file lab10/main.c\n",
    "\n",
    "\n",
    "#include \"lab10.h\"\n",
    "\n",
    "\n",
    "int main(int argc, char *argv[]) {\n",
    "    \n",
    "    printf(\"Hello, World\\n\");\n",
    "    \n",
    "    return 0;\n",
    "}\n",
    "\n"
   ]
  },
  {
   "cell_type": "markdown",
   "metadata": {},
   "source": [
    "## 2. Testing File\n",
    "\n",
    "The following file is used for testing so any code you write will automatically return your score. There is no need for you to change anything in this file, it's just included so you can create the testing files locally. If you would like to use the testing files, don't forget to include them when you compile."
   ]
  },
  {
   "cell_type": "code",
   "execution_count": 4,
   "metadata": {
    "collapsed": false
   },
   "outputs": [
    {
     "name": "stdout",
     "output_type": "stream",
     "text": [
      "Writing lab10/testing_10.h\n"
     ]
    }
   ],
   "source": [
    "%%file lab10/testing_10.h\n",
    "\n",
    "#include \"lab10.h\"\n",
    "\n",
    "#ifndef TESTING_10\n",
    "\n",
    "#define TESTING_10\n",
    "\n",
    "/* Return the highest integer value */\n",
    "int max(int one, int two);\n",
    "\n",
    "/* Number 1: Passing Parameters */\n",
    "int testOne(char *result[]);\n",
    "\n",
    "/* Number 2: Arrays */\n",
    "int testTwo(char *result[]);\n",
    "\n",
    "/* Number 3. Dynamic memory allocation */\n",
    "int testThree(char *result[]);\n",
    "\n",
    "/* Number 4. Command line Arguments */\n",
    "int testFour(char *result[], int argc, const char *argv[]);\n",
    "\n",
    "/* Number 5. Structs */\n",
    "int testFive(char *result[]);\n",
    "\n",
    "/* Number 6. Linked list tests */\n",
    "int testSix(char *result[]);\n",
    "\n",
    "\n",
    "#endif\n",
    "\n"
   ]
  },
  {
   "cell_type": "code",
   "execution_count": 40,
   "metadata": {
    "collapsed": false
   },
   "outputs": [
    {
     "name": "stdout",
     "output_type": "stream",
     "text": [
      "Overwriting lab10/testing_10.c\n"
     ]
    }
   ],
   "source": [
    "%%file lab10/testing_10.c\n",
    "\n",
    "#include \"lab10.h\"\n",
    "#include \"testing_10.h\"\n",
    "\n",
    "\n",
    "int max(int one, int two) {\n",
    "    if (one > two) {\n",
    "        return one;\n",
    "    } else {\n",
    "        return two;\n",
    "    }\n",
    "}\n",
    "\n",
    "/* Number 1: Passing Parameters */\n",
    "int testOne(char *result[]) {\n",
    "    int passByValue = 0;\n",
    "    int passByReference = 4;\n",
    "    int score = 0;\n",
    "    \n",
    "    printf(\"*** 1. Testing pass by value vs. pass by reference\\n\");\n",
    "    passByValue = squared_value(4);\n",
    "    squared_reference(&passByReference);\n",
    "    \n",
    "    score += (passByValue == 16);\n",
    "    score += (passByReference == 16);\n",
    "    \n",
    "    printf(\"\\t pass by value result = %s \\n\", result[passByValue == 16]);\n",
    "    printf(\"\\t pass by reference result = %s \\n\", result[16 == passByReference]);\n",
    "    printf(\"\\t\\t score = %d of 2\\n\\n\", score);\n",
    "    \n",
    "    return score;\n",
    "}\n",
    "\n",
    "\n",
    "/* Number 2: Arrays */\n",
    "int testTwo(char *result[]) {\n",
    "    int array[8][7];\n",
    "    int x, y;\n",
    "    int score = 2;\n",
    "    int sums[] = {36, 72, 108, 144, 180, 216, 252};\n",
    "    boolean correctSum = true;\n",
    "    \n",
    "    /* Initialize array */\n",
    "    for (y = 0; y < 8; y++) {\n",
    "        for (x = 0; x < 7; x++) {\n",
    "            array[y][x] = (x+1)*(y+1);\n",
    "        }\n",
    "    }\n",
    "    \n",
    "    printf(\"*** 2. Arrays\\n\");\n",
    "    for (x = 0; x < 7; x++) {\n",
    "        score -= (sumColumn(array, x) != sums[x]);\n",
    "        \n",
    "        if (sumColumn(array, x) != sums[x]) {\n",
    "            correctSum = false;\n",
    "            printf(\"\\t FAILED: %d != %d \\n\", sumColumn(array, x), sums[x]);\n",
    "        }\n",
    "    }\n",
    "    \n",
    "    score = max(score, 0);\n",
    "    printf(\"\\t\\t sum column result: %s\\n\", result[correctSum]);\n",
    "    printf(\"\\t\\t score = %d of 2\\n\\n\", score);\n",
    "    \n",
    "    return score;\n",
    "}\n",
    "\n",
    "\n",
    "/* Number 3. Dynamic memory allocation */\n",
    "int testThree(char *result[]) {\n",
    "    const char stringTest[] = \"asdfg 98765 abc123\";\n",
    "    char *copyTest = NULL;\n",
    "    int score;\n",
    "    \n",
    "    printf(\"*** 3. Dynamic memory allocation \\n\");\n",
    "    copyTest = copyString(stringTest);\n",
    "    \n",
    "    printf(\"\\t\\t CopyString result = %s \\n\", result[strcmp(stringTest, copyTest) == 0]);\n",
    "    score = 2*(strcmp(stringTest, copyTest) == 0);\n",
    "    printf(\"\\t\\t score = %d of 2\\n\\n\", score);\n",
    "    \n",
    "    free(copyTest);\n",
    "    \n",
    "    return score;\n",
    "}\n",
    "\n",
    "\n",
    "/* Number 4. Command line Arguments */\n",
    "int testFour(char *result[], int argc, const char *argv[]) {\n",
    "    int y, score = 4;\n",
    "    char **commandArgs = NULL;\n",
    "    boolean argsCopied = true;\n",
    "    \n",
    "    printf(\"*** 4. CommandLineArguments\\n\");\n",
    "    storeCommandLineArgs(argc, argv, &commandArgs);\n",
    "    for (y = 0; y < argc; y++) {\n",
    "        if (strcmp(argv[y], commandArgs[y]) != 0) {\n",
    "            argsCopied = false;\n",
    "            printf(\"\\t FAILED: %s != %s \\n\", argv[y], commandArgs[y]);\n",
    "            score -= 1;\n",
    "        }\n",
    "    }\n",
    "    \n",
    "    /* Get score and free memory */\n",
    "    score = max(score, 0);\n",
    "    for (y = 0; y < argc; y++) {\n",
    "        free(commandArgs[y]);\n",
    "    }\n",
    "    free(commandArgs);\n",
    "    \n",
    "    printf(\"\\t\\t command line arguments copied = %s\\n\", result[argsCopied]);\n",
    "    printf(\"\\t\\t score = %d of 4\\n\\n\", score);\n",
    "    \n",
    "    return score;\n",
    "}\n",
    "\n",
    "/* Number 5. Structs */\n",
    "int testFive(char *result[]) {\n",
    "    boolean newNodeTest = true;\n",
    "    boolean deleteNodeTest = true;\n",
    "    Node *list[5];\n",
    "    char *strings[] = {\" First \\n String\", \"second\", \"stringthree\", \"String 4\", \"LaSt\"};\n",
    "    \n",
    "    int i;\n",
    "    int score, delScore = 2, newScore = 2;\n",
    "    \n",
    "    printf(\"*** 5. Structs \\n\");\n",
    "    for (i = 0; i < 5; i++) {\n",
    "        /*list[i] = newNode(strings[i]);*/\n",
    "        list[i] = newNode(strings[i]);\n",
    "    \n",
    "        if (strcmp(strings[i], list[i]->data) != 0 || list[i]->next != NULL) {\n",
    "            printf(\"\\t FAILED: %s != %s \\n\", strings[i], list[i]->data);\n",
    "            \n",
    "            if (list[i]->next != NULL) {\n",
    "                printf(\"\\t - Don't forget about NULL...\\n\");\n",
    "            }\n",
    "            \n",
    "            newNodeTest = false;\n",
    "            newScore -= 1;\n",
    "        }\n",
    "    }\n",
    "    \n",
    "    for (i = 0; i < 5; i++) {\n",
    "        deleteNode(&list[i]);\n",
    "        \n",
    "        if (list[i] != NULL) {\n",
    "            printf(\"\\t FAILED delete: for node %d: %s \\n\", i, strings[i]);\n",
    "            printf(\"\\t - Make sure you set the pointers to NULL after it has be freed.\\n\");\n",
    "            deleteNodeTest = false;\n",
    "            delScore -= 1;\n",
    "        }\n",
    "    }\n",
    "    \n",
    "    score = max(newScore, 0) + max(delScore, 0);\n",
    "    printf(\"\\t\\t struct allocate result = %s\\n\", result[newNodeTest]);\n",
    "    printf(\"\\t\\t linked list remove result = %s\\n\", result[deleteNodeTest]);\n",
    "    printf(\"\\t\\t score = %d of 4\\n\\n\", score);\n",
    "    \n",
    "    return score;\n",
    "}\n",
    "\n",
    "/* Number 6. Linked list tests */\n",
    "int testSix(char *result[]) {\n",
    "    Node *head = NULL;\n",
    "    boolean addToFrontTest = true;\n",
    "    boolean removeFromFrontTest = true;\n",
    "    int i, score, pushScore = 2, popScore = 2;\n",
    "    char *strings[] = {\"one\", \"two\", \"three\", \"head\"};\n",
    "    \n",
    "    printf(\"*** 6. Linked list\\n\");\n",
    "    \n",
    "    for (i = 0; i < 4; i++) {\n",
    "        Node *new = newNode(strings[i]);\n",
    "        addToFront(&head, new);\n",
    "        \n",
    "        if (strcmp(strings[i], head->data) != 0) {\n",
    "            printf(\"\\t FAILED add: %s != %s \\n\", strings[i], head->data);\n",
    "            addToFrontTest = false;\n",
    "            pushScore -= 1;\n",
    "        }\n",
    "    }\n",
    "    \n",
    "    i = 3;\n",
    "    while (head != NULL) {\n",
    "        Node *removed = removeFromFront(&head);\n",
    "        \n",
    "        if (strcmp(strings[i], removed->data) != 0) {\n",
    "            printf(\"\\t FAILED remove: %s != %s \\n\", strings[i], removed->data);\n",
    "            removeFromFrontTest = false;\n",
    "            popScore -= 1;\n",
    "        }\n",
    "        \n",
    "        /* ***NEED TO FREE MEMORY HERE*** */\n",
    "        deleteNode(&removed);\n",
    "        \n",
    "        i--;\n",
    "    }\n",
    "    \n",
    "    score = max(pushScore, 0) + max(popScore, 0);\n",
    "    printf(\"\\t\\t linked list add result = %s\\n\", result[addToFrontTest]);\n",
    "    printf(\"\\t\\t linked list remove result = %s\\n\", result[removeFromFrontTest]);\n",
    "    printf(\"\\t\\t score = %d of 4\\n\\n\", score);\n",
    "    \n",
    "    return score;\n",
    "}\n",
    "\n",
    "\n"
   ]
  },
  {
   "cell_type": "markdown",
   "metadata": {},
   "source": [
    "## 3. Compiling Flags\n",
    "\n",
    "The standard flags for compiling during this lab are below.\n",
    "\n",
    "- Wall\n",
    "- pedantic\n",
    "- ansi"
   ]
  },
  {
   "cell_type": "markdown",
   "metadata": {},
   "source": [
    "## 4. Review files"
   ]
  },
  {
   "cell_type": "markdown",
   "metadata": {},
   "source": [
    "- Pass by value = creating a copy of the data passed\n",
    "- Pass by reference = passing a reference to the data (pointer to data)\n",
    "    \n",
    "    \n",
    "**Note:** There is a way to code a swap function for all pointers using void pointers, but this lab will typecast the data.\n"
   ]
  },
  {
   "cell_type": "code",
   "execution_count": 41,
   "metadata": {
    "collapsed": false
   },
   "outputs": [
    {
     "name": "stdout",
     "output_type": "stream",
     "text": [
      "Overwriting lab10/passBy.c\n"
     ]
    }
   ],
   "source": [
    "%%file lab10/passBy.c\n",
    "\n",
    "\n",
    "#include \"lab10.h\"\n",
    "\n",
    "\n",
    "/* Return the value of num squared */\n",
    "int squared_value(int num) {\n",
    "    \n",
    "    \n",
    "    return num*num;\n",
    "}\n",
    "\n",
    "/* Set the value of &num to be num squared */\n",
    "void squared_reference(int *num) {\n",
    "    \n",
    "    *num = (*num) * (*num);\n",
    "\n",
    "}\n",
    "\n",
    "\n"
   ]
  },
  {
   "cell_type": "code",
   "execution_count": 42,
   "metadata": {
    "collapsed": false
   },
   "outputs": [
    {
     "name": "stdout",
     "output_type": "stream",
     "text": [
      "Overwriting lab10/array.c\n"
     ]
    }
   ],
   "source": [
    "%%file lab10/array.c\n",
    "\n",
    "\n",
    "#include \"lab10.h\"\n",
    "\n",
    "/* Calculate the sum of a single column in an array. 8 rows and 7 columns */\n",
    "int sumColumn(int array[8][7], int column) {\n",
    "    \n",
    "    int sum = 0;\n",
    "    int i;\n",
    "    \n",
    "    for(i = 0; i < 8; i++)\n",
    "    {\n",
    "        sum = sum + array[i][column];\n",
    "    }\n",
    "    \n",
    "    return sum;\n",
    "}\n",
    "\n"
   ]
  },
  {
   "cell_type": "code",
   "execution_count": 43,
   "metadata": {
    "collapsed": false
   },
   "outputs": [
    {
     "name": "stdout",
     "output_type": "stream",
     "text": [
      "Overwriting lab10/dynamicMemory.c\n"
     ]
    }
   ],
   "source": [
    "%%file lab10/dynamicMemory.c\n",
    "\n",
    "\n",
    "#include \"lab10.h\"\n",
    "\n",
    "\n",
    "/* Allocate enough memory, and copy the */\n",
    "char *copyString(const char *toCopy) {\n",
    "    \n",
    "    char *ptr;\n",
    "    \n",
    "    ptr = malloc(strlen(toCopy)+1);\n",
    "    memcpy(ptr, toCopy, strlen(toCopy)+1);\n",
    "    \n",
    "    return ptr;\n",
    "}\n",
    "\n"
   ]
  },
  {
   "cell_type": "code",
   "execution_count": 49,
   "metadata": {
    "collapsed": false
   },
   "outputs": [
    {
     "name": "stdout",
     "output_type": "stream",
     "text": [
      "Overwriting lab10/commandLineArgs.c\n"
     ]
    }
   ],
   "source": [
    "%%file lab10/commandLineArgs.c\n",
    "\n",
    "\n",
    "#include \"lab10.h\"\n",
    "\n",
    "\n",
    "void storeCommandLineArgs(int argc, const char *argv[], char ***args) {\n",
    "    /* Hint: you have already written a copy string function */\n",
    "\n",
    "    int i;\n",
    "    \n",
    "    \n",
    "    *args = calloc(argc, sizeof(char *));\n",
    "    \n",
    "    for(i = 0; i < argc; i++)\n",
    "    {\n",
    "        (*args)[i] = copyString(argv[i]);\n",
    "       \n",
    "    }\n",
    "    \n",
    "}\n",
    "\n",
    "\n"
   ]
  },
  {
   "cell_type": "code",
   "execution_count": 50,
   "metadata": {
    "collapsed": false
   },
   "outputs": [
    {
     "name": "stdout",
     "output_type": "stream",
     "text": [
      "Overwriting lab10/struct.c\n"
     ]
    }
   ],
   "source": [
    "%%file lab10/struct.c\n",
    "\n",
    "\n",
    "#include \"lab10.h\"\n",
    "\n",
    "\n",
    "/* Allocate memory for a single Node struct and return a pointer to said struct */\n",
    "Node *newNode(char *string) {\n",
    "    /* Hint: You should allocate memory for the new node, and the pointer in the node */\n",
    "    \n",
    "    Node *item;\n",
    "    item = malloc(sizeof(Node));\n",
    "    item->data = malloc((strlen(string) +1));\n",
    "    item->next = NULL;\n",
    "    \n",
    "    strcpy(item->data, string);\n",
    "    \n",
    "    return item;\n",
    "}\n",
    "\n",
    "/* Free any associated memory with a Node, including the node itself */\n",
    "void deleteNode(Node **toDelete) {\n",
    "    /* Hint: Make sure you set the node you free to NULL!*/\n",
    "    \n",
    "    *toDelete = NULL;\n",
    "    free(*toDelete);\n",
    "    \n",
    "}\n",
    "\n"
   ]
  },
  {
   "cell_type": "code",
   "execution_count": 51,
   "metadata": {
    "collapsed": false
   },
   "outputs": [
    {
     "name": "stdout",
     "output_type": "stream",
     "text": [
      "Overwriting lab10/linkedList.c\n"
     ]
    }
   ],
   "source": [
    "%%file lab10/linkedList.c\n",
    "\n",
    "\n",
    "#include \"lab10.h\"\n",
    "\n",
    "\n",
    "/* Add a node to the front (push function). */\n",
    "void addToFront(Node **head, Node *toAdd) {\n",
    "    /* You can assume that the node toAdd has already been allocated and is not empty */\n",
    "    Node *item_ptr;\n",
    "    item_ptr = toAdd;\n",
    "    \n",
    "    item_ptr->next = *head;\n",
    "    *head = item_ptr;\n",
    "    \n",
    "}\n",
    "\n",
    "/* Remove a node from the front (pop function). Return the node that is removed from the list. */\n",
    "Node *removeFromFront(Node **head) {\n",
    "    /* Hint: remember to check if the linked list is empty. */\n",
    "    \n",
    "    Node *item;\n",
    "    \n",
    "    item = *head;\n",
    "    *head = item->next;\n",
    "    item->next = NULL;\n",
    "    \n",
    "    return item;\n",
    "}\n",
    "\n",
    "\n"
   ]
  },
  {
   "cell_type": "code",
   "execution_count": 52,
   "metadata": {
    "collapsed": false
   },
   "outputs": [
    {
     "name": "stdout",
     "output_type": "stream",
     "text": [
      "Overwriting lab10/main.c\n"
     ]
    }
   ],
   "source": [
    "%%file lab10/main.c\n",
    "\n",
    "/* Lab header file */\n",
    "#include \"lab10.h\"\n",
    "\n",
    "/* Testing prototypes */\n",
    "#include \"testing_10.h\"\n",
    "\n",
    "/* Here is the main function for testing */\n",
    "int main(int argc, const char *argv[]) {\n",
    "    char *result[] = {\"FAIL\", \"PASS\"};\n",
    "    int score = 0;\n",
    "    \n",
    "    printf(\"Lab 10: CIS*2500 Review \\n\");\n",
    "    printf(\"\\t - Many hardcoded unit tests are included for your use in this lab, no need for you to change main.\\n\"); \n",
    "    printf(\"\\t - Any failed test cases will be printed for you \\n\\n\");\n",
    "    \n",
    "    /*** Uncomment the tests when you are ready to begin testing ***/\n",
    "    score += testOne(result);\n",
    "    score += testTwo(result);\n",
    "    score += testThree(result);\n",
    "    score += testFour(result, argc, argv);\n",
    "    score += testFive(result);\n",
    "    score += testSix(result);\n",
    "    \n",
    "    printf(\"Your score = %d/18\\n\", score);\n",
    "    \n",
    "    return 0;\n",
    "}\n",
    "\n",
    "\n"
   ]
  },
  {
   "cell_type": "code",
   "execution_count": 53,
   "metadata": {
    "collapsed": false
   },
   "outputs": [
    {
     "name": "stdout",
     "output_type": "stream",
     "text": [
      "Lab 10: CIS*2500 Review \n",
      "\t - Many hardcoded unit tests are included for your use in this lab, no need for you to change main.\n",
      "\t - Any failed test cases will be printed for you \n",
      "\n",
      "*** 1. Testing pass by value vs. pass by reference\n",
      "\t pass by value result = PASS \n",
      "\t pass by reference result = PASS \n",
      "\t\t score = 2 of 2\n",
      "\n",
      "*** 2. Arrays\n",
      "\t\t sum column result: PASS\n",
      "\t\t score = 2 of 2\n",
      "\n",
      "*** 3. Dynamic memory allocation \n",
      "\t\t CopyString result = PASS \n",
      "\t\t score = 2 of 2\n",
      "\n",
      "*** 4. CommandLineArguments\n",
      "\t\t command line arguments copied = PASS\n",
      "\t\t score = 4 of 4\n",
      "\n",
      "*** 5. Structs \n",
      "\t\t struct allocate result = PASS\n",
      "\t\t linked list remove result = PASS\n",
      "\t\t score = 4 of 4\n",
      "\n",
      "*** 6. Linked list\n",
      "\t\t linked list add result = PASS\n",
      "\t\t linked list remove result = PASS\n",
      "\t\t score = 4 of 4\n",
      "\n",
      "Your score = 18/18\n"
     ]
    }
   ],
   "source": [
    "%%bash\n",
    "gcc -Wall -pedantic -ansi -Ilab10 lab10/*.c -o lab10/runMe\n",
    "./lab10/runMe "
   ]
  },
  {
   "cell_type": "markdown",
   "metadata": {},
   "source": [
    "### Congrats!\n",
    "\n",
    "You've made it through the second individual lab exercise <tt>Lab10.ipynb</tt>. Look at the top of this page for submission instructions."
   ]
  },
  {
   "cell_type": "code",
   "execution_count": null,
   "metadata": {
    "collapsed": true
   },
   "outputs": [],
   "source": []
  },
  {
   "cell_type": "code",
   "execution_count": null,
   "metadata": {
    "collapsed": true
   },
   "outputs": [],
   "source": []
  }
 ],
 "metadata": {
  "kernelspec": {
   "display_name": "Python 3",
   "language": "python",
   "name": "python3"
  },
  "language_info": {
   "codemirror_mode": {
    "name": "ipython",
    "version": 3
   },
   "file_extension": ".py",
   "mimetype": "text/x-python",
   "name": "python",
   "nbconvert_exporter": "python",
   "pygments_lexer": "ipython3",
   "version": "3.5.3"
  }
 },
 "nbformat": 4,
 "nbformat_minor": 2
}
