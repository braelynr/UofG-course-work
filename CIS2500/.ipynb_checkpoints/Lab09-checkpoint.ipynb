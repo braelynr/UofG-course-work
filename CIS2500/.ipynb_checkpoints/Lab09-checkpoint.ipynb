{
 "cells": [
  {
   "cell_type": "markdown",
   "metadata": {},
   "source": [
    "# Lab 09 - Recursion and Function Pointers  (6 marks total)\n",
    "\n",
    "This lab will focus on a new concept known as recursion. Recursion is simply when a function calls itself before terminating. Recursive functions are useful for developing many algorithms that require traversing through data structures. You have already seen some simple data structures this semester (arrays, linked list etc.). The reason recursion is frequently used because the actual code is typically simple and recursion often avoids nesting many loops/conditional statements.\n",
    "\n",
    "A common bug with recursive algorithms is entering an infinite loop. A recursive infinite loop will normally cause a segmentation fault when the program runs out of memory, so be careful your segmentation fault is actually related to dynamic memory and not an infinite loop. Before entering new a block of code, the required memory for the variables is statically allocated. This static allocation uses <tt>\"stack\"</tt> memory where dynamic memory (malloc, realloc, etc.) is allocated from the <tt>\"heap\"</tt> memory. This means that each time a function is called, the required variables are allocated so the program will run out of <tt>\"stack\"</tt> memory. This is known as a *stack overflow*.\n",
    "\n",
    "Pointers and recursion and generally accepted as the two difficult concepts in programming. If you can wrap your head both pointers and recursion early, you can become a better software developer.\n",
    "\n",
    "There are two functions that you will need to write for this lab. The first function will swap the value of a string (char \\*) pointer. This swap function will accept two void pointers and swap the values. The Second, will be a recursive function that reverses the order of the strings in the list/array. When you find a solution, you will realize how simple the code in a recursive function can be. We will also use a function pointer for the swap function in the reverse function. This way the code will be more flexible making the program reusable reusable/dynamic.\n",
    "\n",
    "1. Swap function accepting void pointers.\n",
    "2. Recursive reverse list function.\n",
    "\n",
    "*Prerequisites*: You should make sure to quickly review passing a function pointer and typecasting in c.\n",
    "\n",
    "You will be submitting this lab via git. Please have your submission in the lab09 directory of your git repository. Your username is your University of Guelph central ID login.\n",
    "\n",
    "https://username@git.socs.uoguelph.ca/cis2500/username/lab09\n",
    "\n",
    "\n",
    "**Deliverables**: Please submit the following in your lab09 directory via git. You **must** make sure that the files are located in your \"lab09\" directory.\n",
    "- In the lab09 directory include the following files,\n",
    "    - recursiveReverse.c\n",
    "    \n",
    "    \n",
    "**Evaluation**: (6 marks)\n",
    "- Swap function for swapping pointers (2 marks)\n",
    "- Recursive reverse list (4 marks)\n",
    "    - You will receive a zero if recursion is not used\n",
    "\n"
   ]
  },
  {
   "cell_type": "markdown",
   "metadata": {},
   "source": [
    "## 1. Setup Environment "
   ]
  },
  {
   "cell_type": "code",
   "execution_count": 1,
   "metadata": {
    "collapsed": true
   },
   "outputs": [],
   "source": [
    "%%bash\n",
    "mkdir -p lab09\n",
    "mkdir -p lab09/objFiles\n",
    "mkdir -p lab09/docs"
   ]
  },
  {
   "cell_type": "code",
   "execution_count": 2,
   "metadata": {
    "collapsed": false
   },
   "outputs": [
    {
     "name": "stdout",
     "output_type": "stream",
     "text": [
      "Writing lab09/lab09.h\n"
     ]
    }
   ],
   "source": [
    "%%file lab09/lab09.h\n",
    "\n",
    "\n",
    "/* you are not submitting the lab09.h file, so do not change this file */\n",
    "\n",
    "\n",
    "/*****\n",
    "* Standard Libraries\n",
    "*****/\n",
    "\n",
    "#include <stdio.h>\n",
    "#include <string.h>\n",
    "#include <stdlib.h>\n",
    "\n",
    "\n",
    "/*****\n",
    "* Function Prototypes for recursiveReverse.c\n",
    "*****/\n",
    "\n",
    "/* Swap the value of two strings */\n",
    "void swapString(void **a, void **b);\n",
    "\n",
    "/* This is the recursiveReverse function that will reverse the order of a list */\n",
    "void recursiveReverse(void **listPtr, int lowIndex, int highIndex, void (*swapFunction) (void **, void **));\n",
    "\n",
    "\n"
   ]
  },
  {
   "cell_type": "code",
   "execution_count": 3,
   "metadata": {
    "collapsed": false
   },
   "outputs": [
    {
     "name": "stdout",
     "output_type": "stream",
     "text": [
      "Writing lab09/main.c\n"
     ]
    }
   ],
   "source": [
    "%%file lab09/main.c\n",
    "\n",
    "\n",
    "#include \"lab09.h\"\n",
    "\n",
    "\n",
    "int main(int argc, char *argv[]) {\n",
    "    \n",
    "    printf(\"Hello, World\\n\");\n",
    "    \n",
    "    return 0;\n",
    "}\n",
    "\n"
   ]
  },
  {
   "cell_type": "code",
   "execution_count": 11,
   "metadata": {
    "collapsed": false
   },
   "outputs": [
    {
     "name": "stdout",
     "output_type": "stream",
     "text": [
      "Overwriting lab09/recursiveReverse.c\n"
     ]
    }
   ],
   "source": [
    "%%file lab09/recursiveReverse.c\n",
    "\n",
    "#include \"lab09.h\"\n"
   ]
  },
  {
   "cell_type": "markdown",
   "metadata": {},
   "source": [
    "## 2. Compiling\n",
    "\n",
    "You're responsible for compiling your program in this lab, just make sure to use the following flags. \n",
    "\n",
    "**Required Flags**: \n",
    "- Wall\n",
    "- pedantic\n",
    "- ansi"
   ]
  },
  {
   "cell_type": "markdown",
   "metadata": {},
   "source": [
    "## 3. Write a Recursive Algorithm to Reverse the Order of a String"
   ]
  },
  {
   "cell_type": "markdown",
   "metadata": {},
   "source": [
    "\n",
    "**Note:** There is a way to code a swap function for all pointers using void pointers, but this lab will typecast the data.\n",
    "\n",
    "**Note:** You will receive a zero if you do not use recursion!"
   ]
  },
  {
   "cell_type": "code",
   "execution_count": 19,
   "metadata": {
    "collapsed": false
   },
   "outputs": [
    {
     "name": "stdout",
     "output_type": "stream",
     "text": [
      "Overwriting lab09/recursiveReverse.c\n"
     ]
    }
   ],
   "source": [
    "%%file lab09/recursiveReverse.c\n",
    "\n",
    "#include \"lab09.h\"\n",
    "\n",
    "\n",
    "void swapString(void **a, void **b){\n",
    "    void *temp;\n",
    "    \n",
    "    temp = *a;\n",
    "    *a = *b;\n",
    "    *b = temp;\n",
    "}\n",
    "\n",
    "void recursiveReverse(void **listPtr, int lowIndex, int highIndex, void (*swapFunction) (void **, void **)){\n",
    "    \n",
    "  if (lowIndex < highIndex) {\n",
    "        swapString(listPtr[lowIndex], listPtr[highIndex]);\n",
    "\n",
    "        recursiveReverse(listPtr, lowIndex + 1, highIndex - 1, swapFunction);\n",
    "    }\n",
    "\n",
    "}"
   ]
  },
  {
   "cell_type": "code",
   "execution_count": 20,
   "metadata": {
    "collapsed": false
   },
   "outputs": [
    {
     "name": "stdout",
     "output_type": "stream",
     "text": [
      "Overwriting lab09/main.c\n"
     ]
    }
   ],
   "source": [
    "%%file lab09/main.c\n",
    "\n",
    "\n",
    "#include \"lab09.h\"\n",
    "\n",
    "\n",
    "int main(int argc, char *argv[]) {\n",
    "    \n",
    "    printf(\"Hello, World\\n\");\n",
    "    \n",
    "    \n",
    "    return 0;\n",
    "}\n",
    "\n",
    "\n"
   ]
  },
  {
   "cell_type": "code",
   "execution_count": 21,
   "metadata": {
    "collapsed": false
   },
   "outputs": [
    {
     "name": "stdout",
     "output_type": "stream",
     "text": [
      "Hello, World\n"
     ]
    }
   ],
   "source": [
    "%%bash\n",
    "gcc -Wall -pedantic -Ilab09 -ansi lab09/main.c lab09/recursiveReverse.c -o lab09/runMe\n",
    "./lab09/runMe"
   ]
  },
  {
   "cell_type": "markdown",
   "metadata": {},
   "source": [
    "### Congrats!\n",
    "\n",
    "You've made it through the second individual lab exercise <tt>Lab09.ipynb</tt>. Look at the top of this page for submission instructions."
   ]
  },
  {
   "cell_type": "code",
   "execution_count": null,
   "metadata": {
    "collapsed": true
   },
   "outputs": [],
   "source": []
  }
 ],
 "metadata": {
  "kernelspec": {
   "display_name": "Python 3",
   "language": "python",
   "name": "python3"
  },
  "language_info": {
   "codemirror_mode": {
    "name": "ipython",
    "version": 3
   },
   "file_extension": ".py",
   "mimetype": "text/x-python",
   "name": "python",
   "nbconvert_exporter": "python",
   "pygments_lexer": "ipython3",
   "version": "3.5.3"
  }
 },
 "nbformat": 4,
 "nbformat_minor": 2
}
