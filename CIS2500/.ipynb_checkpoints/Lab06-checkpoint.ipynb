{
 "cells": [
  {
   "cell_type": "markdown",
   "metadata": {},
   "source": [
    "# Lab 06 - Unknown Memory Requirements (6 marks total)\n",
    "\n",
    "This lab is similar to Lab 05, but the length of the file will not be known. You will allocate more memory as required, in discrete steps of 5 structs. You will repeat some parts of lab05 to solidify the use of dynamic memory, but there will be two differences. You start from scratch or use some of your previous code by pulling your lab05 git repository.\n",
    "\n",
    "1. The file you read into data structures can be any length.\n",
    "2. studentInfo array will be stored in another struct called studentList that will contain the Student pointer and current length of the list.\n",
    "\n",
    "Again, you will be submitting this lab via git. Please have your submission in the lab06 directory of your git repository. username is your University of Guelph central ID login.\n",
    "\n",
    "https://username@git.socs.uoguelph.ca/cis2500/username/lab06\n",
    "\n",
    "*Reminder*: Your SoCS credentials default to your userID and student number for your password, before\" asking for assistance try your student number and central id login.\n",
    "\n",
    "**Deliverables**: Please submit the following in your lab06 directory via git. You **must** make sure that the files are located in your \"lab06\" directory.\n",
    "- In the lab06 directory include the following files,\n",
    "    - students.c\n",
    "    \n",
    "    \n",
    "**Evaluation**: (6 marks)\n",
    "- Read a single text into a data structure using dynamic memory (4 marks)\n",
    "    - Single text file with a specified length (2 marks)\n",
    "    - Reallocate memory as needed while rereading a text file of dynamic size (2 marks)\n",
    "\n",
    "\n",
    " - Freeing all allocated memory properly (2 marks)\n"
   ]
  },
  {
   "cell_type": "markdown",
   "metadata": {},
   "source": [
    "## 1. Setup Environment \n",
    "\n",
    "Please set up your environment the same way as last lab so your source files (.c) and header files (.h) are directly in the lab06 directory. You will be also be creating a .txt file that will be put in the \"docs\" directory."
   ]
  },
  {
   "cell_type": "code",
   "execution_count": 1,
   "metadata": {
    "collapsed": true
   },
   "outputs": [],
   "source": [
    "%%bash\n",
    "mkdir -p Lab06\n",
    "mkdir -p Lab06/objFiles\n",
    "mkdir -p Lab06/docs"
   ]
  },
  {
   "cell_type": "code",
   "execution_count": 2,
   "metadata": {
    "collapsed": false
   },
   "outputs": [
    {
     "name": "stdout",
     "output_type": "stream",
     "text": [
      "Writing Lab06/lab06.h\n"
     ]
    }
   ],
   "source": [
    "%%file Lab06/lab06.h\n",
    "\n",
    "\n",
    "/*****\n",
    "* Standard Libraries\n",
    "*****/\n",
    "\n",
    "#include <stdio.h>\n",
    "#include <string.h>\n",
    "#include <stdlib.h>\n",
    "\n",
    "\n",
    "/*****\n",
    "* Self-defined Data Structures\n",
    "*****/\n",
    "\n",
    "\n",
    "/* Typedef creates an alias data type named \"Student\" to student student name and number. */\n",
    "struct studentInfo {\n",
    "    char *name;\n",
    "    int number;\n",
    "};\n",
    "typedef struct studentInfo Student;\n",
    "\n",
    "/* Notice how you can use \"Student\" instead of \"struct studentInfo\" after the typedef */\n",
    "struct studentList {\n",
    "    int length;\n",
    "    Student *list;\n",
    "};\n",
    "typedef struct studentList List;\n",
    "\n",
    "\n",
    "/*****\n",
    "* Function Prototypes\n",
    "*****/\n",
    "\n",
    "\n",
    "/***\n",
    "* students.c \n",
    "***/\n",
    "\n",
    "/* Creating a new struct from a string in the form \"name, studentNumber\" */\n",
    "Student newStudent(char *string);\n",
    "\n",
    "/* Free the memory inside of the struct */\n",
    "void freeStudent(Student student);\n",
    "\n",
    "/* Free all associated memory of a list of structs (including all memory in each struct)*/\n",
    "void freeStudentArray(Student *studentList, int length);\n",
    "\n",
    "/* Read an entire file and return a student list object variable */\n",
    "List *readStudentFile(char *fileName);\n",
    "\n",
    "\n",
    "/***\n",
    "* New functions for lab06\n",
    "***/\n",
    "\n",
    "/* Allocates new memory if required, then adds a student to the end of the list */\n",
    "void addStudent(List *studentList, char *toAdd);\n",
    "\n",
    "/* Free all memory inside a list of structs (including all memory in each struct)*/\n",
    "void freeAllStudents(List *studentList);\n",
    "\n",
    "\n"
   ]
  },
  {
   "cell_type": "code",
   "execution_count": 9,
   "metadata": {
    "collapsed": false
   },
   "outputs": [
    {
     "name": "stdout",
     "output_type": "stream",
     "text": [
      "Overwriting Lab06/main.c\n"
     ]
    }
   ],
   "source": [
    "%%file Lab06/main.c\n",
    "\n",
    "\n",
    "#include \"lab06.h\"\n",
    "\n",
    "\n",
    "int main(int argc, char *argv[]) {\n",
    "    \n",
    "    printf(\"Hello, World\\n\");\n",
    "    \n",
    "    return 0;\n",
    "}\n",
    "\n"
   ]
  },
  {
   "cell_type": "code",
   "execution_count": 10,
   "metadata": {
    "collapsed": false
   },
   "outputs": [
    {
     "name": "stdout",
     "output_type": "stream",
     "text": [
      "Overwriting Lab06/students.c\n"
     ]
    }
   ],
   "source": [
    "%%file Lab06/students.c\n",
    "\n",
    "#include \"lab06.h\"\n",
    "\n"
   ]
  },
  {
   "cell_type": "code",
   "execution_count": 11,
   "metadata": {
    "collapsed": false
   },
   "outputs": [
    {
     "name": "stdout",
     "output_type": "stream",
     "text": [
      "Overwriting Lab06/docs/testFile.txt\n"
     ]
    }
   ],
   "source": [
    "%%file Lab06/docs/testFile.txt\n",
    "Foo Bar, 1234567\n",
    "First Last, 9876543\n",
    "Bar Foo, 1928374\n",
    "Last First, 5647382\n",
    "Lenny Leonard, 7777777\n",
    "sixth name, 6666667\n",
    "name seven, 3216547\n",
    "one two, 1231222\n",
    "three four, 0101921\n",
    "five six, 5656565\n",
    "seven eight, 7878878\n"
   ]
  },
  {
   "cell_type": "markdown",
   "metadata": {},
   "source": [
    "## 2. Compiling\n",
    "\n",
    "In this lab you are responsible for compiling your program. If you're unsure about how to compile, please review your previous labs/assignments. It's your decision how you compile, feel free to compile from the command line or using a makefile.\n",
    "\n",
    "**Required Flags**: \n",
    "- Wall\n",
    "- pedantic\n",
    "- ansi"
   ]
  },
  {
   "cell_type": "code",
   "execution_count": 12,
   "metadata": {
    "collapsed": true
   },
   "outputs": [],
   "source": [
    "\n",
    "file = open(\"makefile\", \"w\")\n",
    "\n",
    "# These are the flags we use when compiling\n",
    "file.write(\"CFLAGS = -Wall -pedantic -Ilab04\\n\")\n",
    "file.write(\"CSTANDARD = -ansi\\n\")\n",
    "file.write(\"\\n\")\n",
    "\n",
    "file.close()\n"
   ]
  },
  {
   "cell_type": "code",
   "execution_count": 13,
   "metadata": {
    "collapsed": false
   },
   "outputs": [
    {
     "name": "stdout",
     "output_type": "stream",
     "text": [
      "Hello, World\n"
     ]
    }
   ],
   "source": [
    "%%bash\n",
    "gcc -Wall -pedantic -ILab06 -ansi Lab06/main.c Lab06/students.c -o Lab06/runMe\n",
    "./Lab06/runMe"
   ]
  },
  {
   "cell_type": "markdown",
   "metadata": {},
   "source": [
    "## 3. Reading a Text File into a Dynamic Struct Array"
   ]
  },
  {
   "cell_type": "markdown",
   "metadata": {},
   "source": [
    "As mentioned earlier there are two changes we are going to make from lab 5,\n",
    "\n",
    "1. The file you read into data structures can be any length.\n",
    "2. studentInfo array will be stored in another struct called studentList that will contain the Student pointer and current length of the list.\n",
    "\n",
    "Sometimes data can be used in structs that correlate between variables so it's convenient to store the data in the same struct. Instead of tracking a length variable all the way through our program, we will create a struct that stores the total number of current students in the list and the list itself. To do this, you can reuse some of the code YOU wrote in lab05 and implement the ability to read files of any size. \n",
    "\n",
    "You will write the following functions (newStudent, freeStudent, and freeStudentArray will be the exact same),\n",
    "\n",
    "**Similar Functions from lab05**\n",
    "\n",
    "- newStudent - Return a new student from a single string passed \"student name, number\"\n",
    "- freeStudent - Free any of the allocated memory from within the student struct.\n",
    "- freeStudentArray - Free all memory associated with any memory allocated in the array.\n",
    "- readStudentFile - Read an entire text file into a single studentList struct. The struct is a pointer and reallocates memory as needed (make sure you actually opened the file). You can reallocate memory for studentList->\n",
    "\n",
    "**Entirely new functions for lab06**\n",
    "\n",
    "- addStudent - A \"wrapper\" function to add a student to the studentList->list. If there is not enough memory, you need to allocate more memory in increments of 5 students.\n",
    "- freeAllStudents - Free all memory inside a list of structs (including all memory in each struct).\n",
    "\n",
    "*Hint 1*: Use fgets() to read from a file into a buffer before creating a student. Continue to read from the file until fgets returns null (while(fgets != null)).\n",
    "\n",
    "*Hint 2*: Use strtok to split the string passed to newStudent.\n",
    "\n",
    "*Hint 3*: atoi converts a string to integer.\n",
    "\n",
    "*Hint 4*: Remember to allocate memory for your studentList before assigning pointers.\n",
    "\n",
    "\n"
   ]
  },
  {
   "cell_type": "code",
   "execution_count": 14,
   "metadata": {
    "collapsed": false
   },
   "outputs": [
    {
     "name": "stdout",
     "output_type": "stream",
     "text": [
      "Overwriting Lab06/main.c\n"
     ]
    }
   ],
   "source": [
    "%%file Lab06/main.c\n",
    "\n",
    "\n",
    "#include \"lab06.h\"\n",
    "\n",
    "/**/\n",
    "int main(int argc, char *argv[]) {\n",
    "    List *all = NULL;\n",
    "    int i;  \n",
    "    \n",
    "    if (argc < 1) {\n",
    "        printf(\"No file name was specified... Now exiting \\n\");\n",
    "        exit(0);\n",
    "    } else {\n",
    "        all = readStudentFile(argv[1]);\n",
    "    }\n",
    "    \n",
    "    printf(\"Now printing the student list before freeing the allocated memory \\n\");\n",
    "    for (i = 0; i < all->length; i++) {\n",
    "        printf(\"\\t%d: %s, %d\\n\", i, all->list[i].name, all->list[i].number);\n",
    "    }\n",
    "    \n",
    "    /* Free memory */\n",
    "    freeAllStudents(all);\n",
    "    free(all);\n",
    "    \n",
    "    return 0;\n",
    "}\n",
    "\n"
   ]
  },
  {
   "cell_type": "code",
   "execution_count": 1,
   "metadata": {
    "collapsed": false
   },
   "outputs": [
    {
     "name": "stdout",
     "output_type": "stream",
     "text": [
      "Overwriting Lab06/students.c\n"
     ]
    }
   ],
   "source": [
    "%%file Lab06/students.c\n",
    "\n",
    "#include \"lab06.h\"\n",
    "\n",
    "/* Creating a new struct from a string in the form \"name, studentNumber\" */\n",
    "Student newStudent(char *string) {\n",
    "    Student new;\n",
    "    char *info;\n",
    "    \n",
    "    info = strtok(string, \",\");\n",
    "    new.name = malloc(strlen(info)+1);\n",
    "    \n",
    "    strcpy(new.name, info);\n",
    "    \n",
    " \n",
    "    info = strtok(NULL, \",\");\n",
    "    new.number = atoi(info);\n",
    "    \n",
    "    /* Hint: use strtok to split the string using a comma as the delimiter */\n",
    "    \n",
    "    \n",
    "    return new;\n",
    "}\n",
    "\n",
    "\n",
    "/* Free any memory allocated inside of the student struct */\n",
    "void freeStudent(Student studentToFree) {\n",
    "    \n",
    "    free(studentToFree.name);\n",
    "}\n",
    "\n",
    "\n",
    "/* Free all associated memory of a list of structs (including all memory in each struct)*/\n",
    "void freeStudentArray(Student *studentList, int length) {\n",
    "    int i = 0;\n",
    "    \n",
    "    for (i = 0 ; i < length ; i++)\n",
    "    {\n",
    "        freeStudent(studentList[i]);\n",
    "    }\n",
    "}\n",
    "\n",
    "\n",
    "/* Read an entire file and return a dynamically allocated array */\n",
    "List *readStudentFile(char *fileName) {\n",
    "    List *allStudents = NULL;\n",
    "    char buffer[50];\n",
    "    FILE *fp;\n",
    "    \n",
    "\n",
    "    /* Initialize the student List pointer (allocate memory), allocate enough memory to store 5 students */\n",
    "    allStudents = malloc(sizeof(Student));\n",
    "    allStudents->list = malloc(sizeof(Student)*5);\n",
    "   /* allStudents->length = 0;*/\n",
    "    \n",
    "    /* Open the file, read content with fgets, close file */\n",
    "    fp = fopen(fileName, \"r\");\n",
    "    if (fp != NULL)\n",
    "    {\n",
    "       /* printf(\"File exists\\n\");*/\n",
    "        while ( fgets ( buffer, 50 , fp ) != NULL ) /* read a line */\n",
    "        {\n",
    "            allStudents->length++;\n",
    "            addStudent(allStudents, buffer);\n",
    "        }        \n",
    "    }\n",
    "    else\n",
    "    {\n",
    "        printf(\"ERROR: File does not exist\\n\");\n",
    "        exit(0);\n",
    "    }\n",
    "    fclose(fp);\n",
    "    \n",
    "    return allStudents;\n",
    "}\n",
    "\n",
    "\n",
    "/***\n",
    "* Entirely new functions for lab06\n",
    "***/\n",
    "\n",
    "/* Allocate more memory for the list when the memory is full, then add to the back of the list */\n",
    "void addStudent(List *studentList, char *toAdd) {\n",
    "    /* Hint: use the length studentList->length \n",
    "printf(\"length = %d\\n\", studentList->length);*/\n",
    "\n",
    "    if (studentList->length % 5 == 0) \n",
    "    {\n",
    "        studentList->list = realloc(studentList->list, sizeof(Student)*(studentList->length+5));\n",
    "    }\n",
    "    studentList->list[studentList->length-1] = newStudent(toAdd);\n",
    "\n",
    "   \n",
    "}\n",
    "\n",
    "\n",
    "/* Free all memory inside a list of structs (including all memory in each struct)*/\n",
    "void freeAllStudents(List *studentList) {\n",
    "    /* Hint: this function can be written easily in a couple lines (reuse other code) */\n",
    "    \n",
    "    freeStudentArray(studentList->list, studentList->length);\n",
    "    free(studentList->list);\n",
    "    \n",
    "}\n",
    "\n"
   ]
  },
  {
   "cell_type": "code",
   "execution_count": 2,
   "metadata": {
    "collapsed": false
   },
   "outputs": [
    {
     "name": "stdout",
     "output_type": "stream",
     "text": [
      "Now printing the student list before freeing the allocated memory \n",
      "\t0: Foo Bar, 1234567\n",
      "\t1: First Last, 9876543\n",
      "\t2: Bar Foo, 1928374\n",
      "\t3: Last First, 5647382\n",
      "\t4: Lenny Leonard, 7777777\n",
      "\t5: sixth name, 6666667\n",
      "\t6: name seven, 3216547\n",
      "\t7: one two, 1231222\n",
      "\t8: three four, 101921\n",
      "\t9: five six, 5656565\n",
      "\t10: seven eight, 7878878\n"
     ]
    }
   ],
   "source": [
    "%%bash\n",
    "gcc -Wall -pedantic -ILab06 -ansi Lab06/main.c Lab06/students.c -o Lab06/runMe\n",
    "./Lab06/runMe Lab06/docs/testFile.txt"
   ]
  },
  {
   "cell_type": "markdown",
   "metadata": {},
   "source": [
    "### Congrats!\n",
    "\n",
    "You've made it through the second individual lab exercise <tt>Lab05.ipynb</tt>. Look at the top of this page for submission instructions."
   ]
  },
  {
   "cell_type": "code",
   "execution_count": null,
   "metadata": {
    "collapsed": true
   },
   "outputs": [],
   "source": []
  }
 ],
 "metadata": {
  "kernelspec": {
   "display_name": "Python 3",
   "language": "python",
   "name": "python3"
  },
  "language_info": {
   "codemirror_mode": {
    "name": "ipython",
    "version": 3
   },
   "file_extension": ".py",
   "mimetype": "text/x-python",
   "name": "python",
   "nbconvert_exporter": "python",
   "pygments_lexer": "ipython3",
   "version": "3.5.3"
  }
 },
 "nbformat": 4,
 "nbformat_minor": 2
}
