{
 "cells": [
  {
   "cell_type": "markdown",
   "metadata": {},
   "source": [
    "# Lab 08 - Reading Binary Files (8 marks total)\n",
    "\n",
    "Now that we have had seven labs with a lot of new programming concepts, we can focus on using some of the new tools to perform tasks that once seemed daunting with limited instruction. This lab will only require three functions to be written and will allow you to come up with a solution any way you like. In this lab, we will read structs from a binary file and create a schedule of events. The structs in the file will consist of individual events that form a schedule for an individual's work day, or even a venue scedule. The program written for this lab will be capable printing a schedule of these events. The exact format of the printed schedule will be shown below. Before starting to write the program, you will also need to create a binary file. This means you will need to hard code a create function for your own testing. The list below is a recap of the tasks to complete writing this program.\n",
    "\n",
    "1. Read structs from a binary file.\n",
    "2. Print a schedule from the events listed in the binary file.\n",
    "\n",
    "Again, you will be submitting this lab via git. Please have your submission in the lab08 directory of your git repository. Your username is your University of Guelph central ID login.\n",
    "\n",
    "https://username@git.socs.uoguelph.ca/cis2500/username/lab08\n",
    "\n",
    "\n",
    "**Deliverables**: Please submit the following in your lab08 directory via git. You **must** make sure that the files are located in your \"lab08\" directory.\n",
    "- In the lab08 directory include the following files,\n",
    "    - schedule.c\n",
    "    - schedule.h\n",
    "    \n",
    "    \n",
    "**Evaluation**: (8 marks)\n",
    "- Reading the events from a binary file (4 marks)\n",
    "- Printing the schedule from the events (4 marks)\n",
    "\n"
   ]
  },
  {
   "cell_type": "markdown",
   "metadata": {},
   "source": [
    "## 1. Setup Environment "
   ]
  },
  {
   "cell_type": "code",
   "execution_count": 36,
   "metadata": {
    "collapsed": true
   },
   "outputs": [],
   "source": [
    "%%bash\n",
    "mkdir -p lab08\n",
    "mkdir -p lab08/objFiles\n",
    "mkdir -p lab08/docs"
   ]
  },
  {
   "cell_type": "code",
   "execution_count": 6,
   "metadata": {
    "collapsed": false
   },
   "outputs": [
    {
     "name": "stdout",
     "output_type": "stream",
     "text": [
      "Overwriting lab08/schedule.h\n"
     ]
    }
   ],
   "source": [
    "%%file lab08/schedule.h\n",
    "\n",
    "/* You can add anything you would like to the header file but DO NOT DELETE ANYTHING */\n",
    "\n",
    "/*****\n",
    "* Standard Libraries\n",
    "*****/\n",
    "\n",
    "#include <stdio.h>\n",
    "#include <string.h>\n",
    "#include <stdlib.h>\n",
    "\n",
    "\n",
    "/*****\n",
    "* Self-defined Data Structures\n",
    "*****/\n",
    "\n",
    "/* enumerate a Boolean datatype for convenience */\n",
    "typedef int abstractBoolean;\n",
    "enum abstractBoolean {\n",
    "\tfalse,\n",
    "\ttrue\n",
    "};\n",
    "typedef abstractBoolean boolean;\n",
    "\n",
    "/* Start time is in hours, duration is in minutes */\n",
    "typedef struct eventNode {\n",
    "    char name[64];\n",
    "    int startTime;\n",
    "    boolean halfHour;\n",
    "    int duration;\n",
    "} Event;\n",
    "\n",
    "\n",
    "/*****\n",
    "* Function Prototypes for schedule.c\n",
    "*****/\n",
    "\n",
    "/***** The only stipulation of this lab is that you must make these functional *****/\n",
    "\n",
    "/* Writes to a binary file */\n",
    "void createBinaryFile(char *fileame);\n",
    "\n",
    "/* Prints a schedule of events from a list of events */\n",
    "void printSchedule(Event *list, int listLength);\n",
    "\n",
    "/* Reads the content from a binary file named fileName into the Event list pointer. Returns the number of Events. */\n",
    "int readBinaryFile(char *fileName, Event **list);\n",
    "\n",
    "Event **ptr_return();\n",
    "\n",
    "\n"
   ]
  },
  {
   "cell_type": "code",
   "execution_count": 7,
   "metadata": {
    "collapsed": false
   },
   "outputs": [
    {
     "name": "stdout",
     "output_type": "stream",
     "text": [
      "Overwriting lab08/main.c\n"
     ]
    }
   ],
   "source": [
    "%%file lab08/main.c\n",
    "\n",
    "\n",
    "#include \"schedule.h\"\n",
    "\n",
    "\n",
    "int main(int argc, char *argv[]) {\n",
    "    \n",
    "    printf(\"Hello, World\\n\");\n",
    "    \n",
    "    return 0;\n",
    "}\n",
    "\n"
   ]
  },
  {
   "cell_type": "code",
   "execution_count": 8,
   "metadata": {
    "collapsed": false
   },
   "outputs": [
    {
     "name": "stdout",
     "output_type": "stream",
     "text": [
      "Overwriting lab08/schedule.c\n"
     ]
    }
   ],
   "source": [
    "%%file lab08/schedule.c\n",
    "\n",
    "#include \"lab08.h\"\n",
    "\n"
   ]
  },
  {
   "cell_type": "markdown",
   "metadata": {},
   "source": [
    "## 2. Compiling\n",
    "\n",
    "You're responsible for compiling your program in this lab, just make sure to use the following flags. \n",
    "\n",
    "**Required Flags**: \n",
    "- Wall\n",
    "- pedantic\n",
    "- ansi"
   ]
  },
  {
   "cell_type": "markdown",
   "metadata": {},
   "source": [
    "## 3. Creating a Schedule"
   ]
  },
  {
   "cell_type": "markdown",
   "metadata": {},
   "source": [
    "All of these functions are not meant to be dependent on one another like typical labs/assignments. This is intended to be three independent exercises. For example, when reading from a file, the binary file is read into dynamic memory where the timeAvailable function checks for availability directly from a file pointer.\n",
    "\n",
    "**Format of struct evernt Variables:**\n",
    "1. name - This is the name of the event and has a limit of 64 characters.\n",
    "2. startTime - The start time of an event. An event can start any time between 8 am and 8 pm (we won't be error checking any events that start before/after 8 am/pm). Start times are stored as an hour using a 24 hour clock. i.e. 14 = 2:00 pm.\n",
    "3. halfHour - boolean type to say whether or not the event starts after a half hour or at the start of the hour. i.e. startTime of 14 and halfHour = true starts at 2:30 pm.\n",
    "4. duration - This is the length of an event in minutes. i.e. If an event starts at 10:00 am and has a duration of 60 minutes, the event ends at 11:00 am and thus is NOT listed as an event at 11:00 am. Events can last any length of time.\n",
    "\n",
    "\n",
    "\n",
    "\n",
    "- **Creating the binary file.**\n",
    "\n",
    "The function for writing a binary file for testing has already been written for you. The binary file created for testing is hard coded to test cases. You just need to make sure you call the function or the fill will not be created. Feel free to add, remove, switch order, or change any of the events in the generic schedule included (remeber you solution needs should be adaptable for events that are not saved in order).\n",
    "\n",
    "- **Reading the binary file.** (out of 4)\n",
    "\n",
    "The file can contain any amount of events in any order. The passed file name must be opened and read into the list pointer. It can be assumed that the pointer passed is empty and set to null. This means you are responsible for allocating memory to store the entire content of the file.\n",
    "\n",
    "- **Printing the schedule.** (out of 4)\n",
    "\n",
    "The schedule will be printed in a format that is similar to a table. It will be printed from 8:00 am to 9:30 pm in half an hour intervals. It will print the schedule in the following format <tt>\"08:00 am - name\"</tt>. It is assumed there will be no overlapping events. The name of the event will be written beside the time from start to finish and left blank when there are no events. For example, breakfast starts at 8:00 am for 30 minutes and commute starts at 9:00 am for 50 minutes. You must make sure that the schedule is printed in the proper format to receive any marks.    \n",
    "\n",
    "08:00 am - breakfast          \n",
    "08:30 am -    \n",
    "09:00 am - commute    \n",
    "09:30 am - commute   \n",
    "10:00 am - \n",
    "\n"
   ]
  },
  {
   "cell_type": "markdown",
   "metadata": {},
   "source": [
    "### A Couple Remarks About the Schedule\n",
    "\n",
    "There are a few points to take note of before you start developing the program. Make sure to read the following instructions carefully so the schedule format is understood.\n",
    "\n",
    "1. The binary file of the scheduled events do not need to be saved in order relative to time.\n",
    "2. When printing the schedule, make sure to add a space after the - even if there is not an event in that time slot.\n",
    "3. The event only flows over to the next half hour if it is **strictly greater than** the amount of time. i.e. if commute above was 60 minutes, the time would not overflow and would only show 9 am.\n",
    "4. When you get to the afternoon, the time switches from a 24 hour clock to the 12 hour am/pm model.\n",
    "5. Remember to seek/set the file pointer to the file location where you would like to begin reading when a file pointer is passed. \n",
    "\n",
    "*Hint*: Since start times are limited to everything 30 minutes, treat the length of times as a discrete number of blocks.\n",
    "\n"
   ]
  },
  {
   "cell_type": "code",
   "execution_count": 9,
   "metadata": {
    "collapsed": false
   },
   "outputs": [
    {
     "name": "stdout",
     "output_type": "stream",
     "text": [
      "Overwriting lab08/extras.c\n"
     ]
    }
   ],
   "source": [
    "%%file lab08/extras.c\n",
    "\n",
    "#include \"schedule.h\"\n",
    "\n",
    "/* These are extras to test the functionality for the autograder */\n",
    "\n",
    "\n"
   ]
  },
  {
   "cell_type": "code",
   "execution_count": 10,
   "metadata": {
    "collapsed": false
   },
   "outputs": [
    {
     "name": "stdout",
     "output_type": "stream",
     "text": [
      "Overwriting lab08/schedule.c\n"
     ]
    }
   ],
   "source": [
    "%%file lab08/schedule.c\n",
    "\n",
    "#include \"schedule.h\"\n",
    "\n",
    "Event **list_ptr;\n",
    "\n",
    "int compar_time(const void *a, const void *b)\n",
    "{\n",
    "    const Event *struct_a, *struct_b;\n",
    "\n",
    "    struct_a = a;\n",
    "    struct_b = b;\n",
    "\n",
    "    return ((struct_a->startTime)-(struct_b->startTime));\n",
    "}\n",
    "\n",
    "Event **ptr_return()\n",
    "{\n",
    "    return list_ptr;\n",
    "}\n",
    "\n",
    "/* Writes to a binary file */\n",
    "void createBinaryFile(char *name) {\n",
    "    int i;\n",
    "    FILE *ptr = fopen(name,\"wb\");\n",
    "    char names[][64] = {\"breakfast\", \"commute\", \"meeting\", \"lunch\", \"seminar\", \"gym\", \"commute\", \"dinner\"};\n",
    "    int starts[] = {8, 8, 10, 12, 13, 16, 18, 19};\n",
    "    boolean halfHours[] = {false, true, false, false, false, true, false, false};\n",
    "    int durations[] = {30, 45, 75, 60, 180, 80, 45, 30};\n",
    "    \n",
    "    \n",
    "    for(i = 0; i < 8; i++) {\n",
    "        Event new;\n",
    "        \n",
    "        sprintf(new.name, \"%s\", names[i]);\n",
    "        new.startTime = starts[i];\n",
    "        new.halfHour = halfHours[i];\n",
    "        new.duration = durations[i];\n",
    "        \n",
    "        fwrite(&new, sizeof(Event), 1, ptr);\n",
    "    }\n",
    "    \n",
    "    fclose(ptr);\n",
    "}\n",
    "\n",
    "\n",
    "/* Prints a schedule of events from a list of events */\n",
    "void printSchedule(Event *list, int listLength) {\n",
    "\n",
    "    int i;\n",
    "    int time1 = 8;\n",
    "    int time2 = 8;\n",
    "    int j;\n",
    "    int durations = 0;\n",
    "    int check;\n",
    "    char *name;\n",
    "    Event *list_2 = list;\n",
    "    char scheduleFormat[2] = \"am\";\n",
    "    name = malloc(64*sizeof(char));;\n",
    "    \n",
    "    for (i = 0; i < 28; i++)\n",
    "    {   \n",
    "        strcpy(name, \"\");\n",
    "        if ((i % 2) != 0)\n",
    "        {\n",
    "                j = 0;\n",
    "                while (j < listLength)\n",
    "                {\n",
    "                    if (list_2[j].halfHour == 1 && list_2[j].startTime == time2)\n",
    "                    {\n",
    "                        strcpy(name, list_2[j].name);\n",
    "                        durations = list_2[j].duration;\n",
    "                        check = 1;\n",
    "                    }\n",
    "                    j++;\n",
    "                }\n",
    "                printf(\"%.2d:30 %.2s - %s\\n\", time1, scheduleFormat, name); \n",
    "                \n",
    "                list_2 = list;\n",
    "                time1++;\n",
    "                time2++;\n",
    "            }\n",
    "            else\n",
    "            {\n",
    "                j = 0;\n",
    "                while (j < listLength)\n",
    "                {\n",
    "                    if(list_2[j].halfHour == 0 && list_2[j].startTime == time2)\n",
    "                    {\n",
    "                        strcpy(name, list_2[j].name);\n",
    "                        durations = list_2[j].duration;\n",
    "                        check = 2;\n",
    "                    }\n",
    "                    j++;\n",
    "                }\n",
    "                printf(\"%.2d:00 %.2s - %s\\n\", time1, scheduleFormat, name); \n",
    "                list_2 = list; \n",
    "            }\n",
    "        while (durations > 30)\n",
    "        {\n",
    "            i++;\n",
    "            if (time1 == 13)\n",
    "            {\n",
    "                time1 = time1 - 12; \n",
    "            }\n",
    "            if (time1 == 12)\n",
    "            {\n",
    "                scheduleFormat[0] = 'p'; \n",
    "            }\n",
    "            if (check == 1)\n",
    "            {\n",
    "                printf(\"%.2d:00 %.2s - %s\\n\", time1, scheduleFormat, name);\n",
    "                check = 2;\n",
    "            }\n",
    "            else if (check == 2)\n",
    "            {\n",
    "                printf(\"%.2d:30 %.2s - %s\\n\", time1, scheduleFormat, name); \n",
    "                check = 1;\n",
    "                time1++;\n",
    "                time2++;\n",
    "            }\n",
    "            durations -= 30;\n",
    "        }\n",
    "        if (time1 == 13)\n",
    "        {\n",
    "            time1 = time1 - 12;\n",
    "        }\n",
    "        if (time1 == 12)\n",
    "        {\n",
    "            scheduleFormat[0] = 'p'; \n",
    "        }\n",
    "    }\n",
    "    free(name);\n",
    "}\n",
    "\n",
    "    \n",
    "\n",
    "\n",
    "\n",
    "/* Reads the content from a binary file named fileName. Returns the length of the list. */\n",
    "int readBinaryFile(char *fileName, Event **list) {\n",
    "    int listLength = 0;\n",
    "    int file_size = 0, i = 0;\n",
    "    FILE* fPtr = NULL;\n",
    "    Event *temp;\n",
    "    fPtr = fopen(fileName, \"rb\");\n",
    "    \n",
    "    if(fPtr == NULL)\n",
    "    {\n",
    "        printf(\"The file could not be opened.\\n\");\n",
    "    }\n",
    "    else\n",
    "    {\n",
    "        fseek(fPtr, 0, SEEK_END);\n",
    "        file_size = ftell(fPtr);\n",
    "        listLength = file_size/(sizeof(Event));\n",
    "        list = malloc(listLength * sizeof(Event));\n",
    "        temp = malloc(sizeof(Event) * listLength);\n",
    "\n",
    "        fseek(fPtr, 0, SEEK_SET);\n",
    "        while(!feof(fPtr) && i < listLength)\n",
    "        {\n",
    "            fread(&temp[i], sizeof(Event), 1, fPtr);\n",
    "            i++;\n",
    "        }\n",
    "        \n",
    "        qsort(temp, listLength, sizeof(Event), compar_time);\n",
    "        \n",
    "        i = 0;\n",
    "        while(i < listLength)\n",
    "        {\n",
    "            list[i] = &temp[i];\n",
    "            i++;\n",
    "        }\n",
    "        list_ptr = list;\n",
    "    }\n",
    "    \n",
    "    fclose(fPtr);\n",
    "    return listLength;\n",
    "}\n",
    "\n",
    "\n",
    "\n"
   ]
  },
  {
   "cell_type": "code",
   "execution_count": 11,
   "metadata": {
    "collapsed": false
   },
   "outputs": [
    {
     "name": "stdout",
     "output_type": "stream",
     "text": [
      "Overwriting lab08/main.c\n"
     ]
    }
   ],
   "source": [
    "%%file lab08/main.c\n",
    "\n",
    "\n",
    "#include \"schedule.h\"\n",
    "\n",
    "\n",
    "int main(int argc, char *argv[]) {\n",
    "    char *fileName = \"lab08/docs/schedule.bin\";\n",
    "    \n",
    "    Event **full_list = NULL;\n",
    "    int noItems = 0;\n",
    "    \n",
    "    createBinaryFile(fileName);\n",
    "    noItems = readBinaryFile(fileName, full_list);\n",
    "    full_list = ptr_return();\n",
    "    printSchedule((*full_list), noItems);\n",
    "    free(full_list);\n",
    "    \n",
    "    return 0;\n",
    "}\n",
    "\n"
   ]
  },
  {
   "cell_type": "code",
   "execution_count": 12,
   "metadata": {
    "collapsed": false
   },
   "outputs": [],
   "source": [
    "%%bash\n",
    "gcc -Wall -pedantic -ansi -c lab08/schedule.c -o lab08/objFiles/obj1.o\n",
    "gcc -Wall -pedantic -ansi -c lab08/extras.c -o lab08/objFiles/obj2.o\n",
    "gcc -Wall -pedantic -ansi lab08/objFiles/obj1.o lab08/main.c -o lab08/runMe\n"
   ]
  },
  {
   "cell_type": "markdown",
   "metadata": {},
   "source": [
    "### Congrats!\n",
    "\n",
    "You've made it through the second individual lab exercise <tt>Lab08.ipynb</tt>. Look at the top of this page for submission instructions."
   ]
  },
  {
   "cell_type": "code",
   "execution_count": 13,
   "metadata": {
    "collapsed": false
   },
   "outputs": [
    {
     "name": "stdout",
     "output_type": "stream",
     "text": [
      "08:00 am - breakfast\n",
      "08:30 am - commute\n",
      "09:00 am - commute\n",
      "09:30 am - \n",
      "10:00 am - meeting\n",
      "10:30 am - meeting\n",
      "11:00 am - meeting\n",
      "11:30 am - \n",
      "12:00 pm - lunch\n",
      "12:30 pm - lunch\n",
      "01:00 pm - seminar\n",
      "01:30 pm - seminar\n",
      "02:00 pm - seminar\n",
      "02:30 pm - seminar\n",
      "03:00 pm - seminar\n",
      "03:30 pm - seminar\n",
      "04:00 pm - \n",
      "04:30 pm - gym\n",
      "05:00 pm - gym\n",
      "05:30 pm - gym\n",
      "06:00 pm - commute\n",
      "06:30 pm - commute\n",
      "07:00 pm - dinner\n",
      "07:30 pm - \n",
      "08:00 pm - \n",
      "08:30 pm - \n",
      "09:00 pm - \n",
      "09:30 pm - \n"
     ]
    }
   ],
   "source": [
    "%%bash\n",
    "./lab08/runMe"
   ]
  },
  {
   "cell_type": "code",
   "execution_count": null,
   "metadata": {
    "collapsed": true
   },
   "outputs": [],
   "source": []
  }
 ],
 "metadata": {
  "kernelspec": {
   "display_name": "Python 3",
   "language": "python",
   "name": "python3"
  },
  "language_info": {
   "codemirror_mode": {
    "name": "ipython",
    "version": 3
   },
   "file_extension": ".py",
   "mimetype": "text/x-python",
   "name": "python",
   "nbconvert_exporter": "python",
   "pygments_lexer": "ipython3",
   "version": "3.5.3"
  }
 },
 "nbformat": 4,
 "nbformat_minor": 2
}
