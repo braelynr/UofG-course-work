{
 "cells": [
  {
   "cell_type": "markdown",
   "metadata": {},
   "source": [
    "## Bounded arrays in C\n",
    "\n",
    "As we have seen, arrays in C are implemented in the most simple way possible.  They are simply represended as a memory address with no start of end indices, no bounds checking.  Only very simple math is used to calculate the positions of elements within the array (since the compiler knows the size (width) of each element in the array).\n",
    "\n",
    "In this example we will go over a better DIY array representation.  These arrays will have arbitrary element indices and include bounds checking.\n",
    "\n",
    "The purpose of this exercise is two fold:\n",
    "1) to show how you might go about implementing your own better arrays, and\n",
    "2) to exercise our use of pointers."
   ]
  },
  {
   "cell_type": "markdown",
   "metadata": {},
   "source": [
    "## Specifics\n",
    "Our arrays will have a user-specified start index (it doesn't have to be zero).  We only require that it is an integer.\n",
    "\n",
    "Our arrays will have a user-specified number of elements.  Any attempt to read or write outside of the valid bounds of the array will be prevented and instead an error code and error message will be generated."
   ]
  },
  {
   "cell_type": "markdown",
   "metadata": {},
   "source": [
    "## Storage\n",
    "We will store our arrays as a structure as follows."
   ]
  },
  {
   "cell_type": "code",
   "execution_count": null,
   "metadata": {
    "collapsed": true
   },
   "outputs": [],
   "source": [
    "%%file barray.h\n",
    "#ifndef BARRAY_H\n",
    "#define BARRAY_H\n",
    "\n",
    "struct barray_struct\n",
    "{\n",
    "  void *memptr;    /* pointer to the location in memory where the data of the \n",
    "                      array is stored */    \n",
    "  int start_index; /* lowest index permitted */\n",
    "  int n_elements;  /* number of elements in the array */\n",
    "};\n",
    "\n",
    "struct barray_struct *new_barray( int start_index, int n_elements, int element_size );\n",
    "/* This function will return a pointer to a newly allocated barray_struct structure,\n",
    "   of NULL if the call to malloc fails.  The start_index is the lowest index permitted.\n",
    "   n_elements is the number of elements in the array.  element_size is the size of one\n",
    "   element.\n",
    "    \n",
    "   E.g.\n",
    "   struct barray_struct *int_array;\n",
    "   int_array = new_barray( 1, 10, sizeof(int) );\n",
    "\n",
    "   Would assign make int_array point to a new barray_struct structure that can store\n",
    "   10 elements of type integer, with indices 1 to 10.\n",
    "*/\n",
    "\n",
    "int set_item( struct barray_struct *barray, int index, void *value_ptr );\n",
    "/* This function will return the value 0 if the index is valid, and the value -1 if \n",
    "   the index is invalid.  Additionally, it will print an error message to stderr if \n",
    "   the index is not valid.\n",
    "\n",
    "   If the index is valid, this function will set the value of the element given by \n",
    "   index in the array pointed to by barray to to the value pointed to by value_ptr.\n",
    "*/\n",
    "\n",
    "int get_item( struct barray_struct *barray, int index, void *value_ptr );\n",
    "/* This function will return the value 0 if the index is valid, and the value -1 if \n",
    "   the index is invalid.  Additionally, it will print an error message to stderr if \n",
    "   the index is not valid.\n",
    "\n",
    "   If the index is valid, this function will retreive the value of the element given by \n",
    "   index in the array pointed to by barray, and store it at the memory location pointed \n",
    "   to by value_ptr.\n",
    "*/\n",
    "\n",
    "#endif"
   ]
  },
  {
   "cell_type": "code",
   "execution_count": null,
   "metadata": {
    "collapsed": true
   },
   "outputs": [],
   "source": [
    "%%file ex05main.c\n",
    "#include <stdio.h>\n",
    "#include \"barray.h\"\n",
    "\n",
    "int main()\n",
    "{\n",
    "    int i;\n",
    "    int value;\n",
    "    \n",
    "    struct barray_struct *barray;\n",
    "    \n",
    "    barray = new_barray( -3, 14, sizeof(int) ); /* create array of integers with indices\n",
    "                                                   from -3 to 10 */\n",
    "    \n",
    "    for (i=-3;i<=10;i++)\n",
    "    {\n",
    "        value = i*7;  /* store the value of the index multiplied by 7 at each location */\n",
    "        set_item( barray, i, &value );\n",
    "    }\n",
    "    \n",
    "    /* try to set an invalid index */\n",
    "    value = 99;\n",
    "    set_item( barray, 11, &value );\n",
    "    \n",
    "    /* try to get an invalid index */\n",
    "    get_item( barray, -4, &value );\n",
    "    \n",
    "    for (i=-3;i<=10;i++)\n",
    "    {\n",
    "        get_item( barray, i, &value );\n",
    "        printf( \"%+02d: %+02d\\n\", i, value );\n",
    "    }\n",
    "    \n",
    "    return 0;\n",
    "}"
   ]
  },
  {
   "cell_type": "code",
   "execution_count": null,
   "metadata": {
    "collapsed": true
   },
   "outputs": [],
   "source": [
    "print( \"\\t\" );\n"
   ]
  },
  {
   "cell_type": "code",
   "execution_count": null,
   "metadata": {
    "collapsed": true
   },
   "outputs": [],
   "source": [
    "%%file makefile\n",
    "ex05: ex05main.o ex05new_barray.o ex05set_item.o ex05get_item.o\n",
    "\tgcc -ansi -Wall -pedantic ex05main.o ex05new_barray.o ex05set_item.o \\\n",
    "    ex05get_item.o -o ex05\n",
    "    \n",
    "ex05main.o: ex05main.c barray.h\n",
    "\tgcc -ansi -Wall -pedantic -c ex05main.c -o ex05main.o\n",
    "    \n",
    "ex05new_barray.o: ex05new_barray.c barray.h\n",
    "\tgcc -ansi -Wall -pedantic -c ex05new_barray.c -o ex05new_barray.o\n",
    "\n",
    "ex05set_item.o: ex05set_item.c barray.h\n",
    "\tgcc -ansi -Wall -pedantic -c ex05set_item.c -o ex05set_item.o\n",
    "\n",
    "ex05get_item.o: ex05get_item.c barray.h\n",
    "\tgcc -ansi -Wall -pedantic -c ex05get_item.c -o ex05get_item.o\n",
    "    \n",
    "clean:\n",
    "\trm *.o ex05\n"
   ]
  },
  {
   "cell_type": "code",
   "execution_count": null,
   "metadata": {
    "collapsed": true
   },
   "outputs": [],
   "source": [
    "%%file ex05new_barray.c\n",
    "#include \"barray.h\"\n",
    "\n",
    "\n",
    "struct barray_struct *new_barray( int start_index, int n_elements, int element_size )\n",
    "/* This function will return a pointer to a newly allocated barray_struct structure,\n",
    "   of NULL if the call to malloc fails.  The start_index is the lowest index permitted.\n",
    "   n_elements is the number of elements in the array.  element_size is the size of one\n",
    "   element.\n",
    "    \n",
    "   E.g.\n",
    "   struct barray_struct *int_array;\n",
    "   int_array = new_barray( 1, 10, sizeof(int) );\n",
    "\n",
    "   Would assign make int_array point to a new barray_struct structure that can store\n",
    "   10 elements of type integer, with indices 1 to 10.\n",
    "*/\n",
    "{\n",
    "    /* add code here */\n",
    "}\n"
   ]
  },
  {
   "cell_type": "code",
   "execution_count": null,
   "metadata": {
    "collapsed": true
   },
   "outputs": [],
   "source": [
    "%%file ex05set_item.c\n",
    "#include \"barray.h\"\n",
    "\n",
    "\n",
    "int set_item( struct barray_struct *barray, int index, void *value_ptr )\n",
    "/* This function will return the value 0 if the index is valid, and the value -1 if \n",
    "   the index is invalid.  Additionally, it will print an error message to stderr if \n",
    "   the index is not valid.\n",
    "\n",
    "   If the index is valid, this function will set the value of the element given by \n",
    "   index in the array pointed to by barray to to the value pointed to by value_ptr.\n",
    "*/\n",
    "{\n",
    "    /* add code here */\n",
    "}"
   ]
  },
  {
   "cell_type": "code",
   "execution_count": null,
   "metadata": {
    "collapsed": true
   },
   "outputs": [],
   "source": [
    "%%file ex05get_item.c\n",
    "#include \"barray.h\"\n",
    "\n",
    "\n",
    "int get_item( struct barray_struct *barray, int index, void *value_ptr )\n",
    "/* This function will return the value 0 if the index is valid, and the value -1 if \n",
    "   the index is invalid.  Additionally, it will print an error message to stderr if \n",
    "   the index is not valid.\n",
    "\n",
    "   If the index is valid, this function will retreive the value of the element given by \n",
    "   index in the array pointed to by barray, and store it at the memory location pointed \n",
    "   to by value_ptr.\n",
    "*/\n",
    "{\n",
    "    /* add code here */\n",
    "}"
   ]
  },
  {
   "cell_type": "code",
   "execution_count": null,
   "metadata": {
    "collapsed": true
   },
   "outputs": [],
   "source": [
    "%%bash\n",
    "make clean"
   ]
  },
  {
   "cell_type": "code",
   "execution_count": null,
   "metadata": {
    "collapsed": true,
    "scrolled": true
   },
   "outputs": [],
   "source": [
    "%%bash\n",
    "make"
   ]
  },
  {
   "cell_type": "code",
   "execution_count": null,
   "metadata": {
    "collapsed": true
   },
   "outputs": [],
   "source": []
  }
 ],
 "metadata": {
  "kernelspec": {
   "display_name": "Python 3",
   "language": "python",
   "name": "python3"
  },
  "language_info": {
   "codemirror_mode": {
    "name": "ipython",
    "version": 3
   },
   "file_extension": ".py",
   "mimetype": "text/x-python",
   "name": "python",
   "nbconvert_exporter": "python",
   "pygments_lexer": "ipython3",
   "version": "3.5.3"
  }
 },
 "nbformat": 4,
 "nbformat_minor": 2
}
