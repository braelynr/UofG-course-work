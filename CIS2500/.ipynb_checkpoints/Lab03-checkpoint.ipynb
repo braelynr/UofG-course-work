{
 "cells": [
  {
   "cell_type": "markdown",
   "metadata": {},
   "source": [
    "# Lab 03 - Arrays and Pointers ( marks total)\n",
    "\n",
    "In this lab, you will learn about passing arrays and pointers between functions. The lab will also focus on how the arrays can be used when they've been passed.\n",
    "\n",
    "\n",
    "Again, you will be submitting this lab via git. Please have your submission in the lab03 directory of your git repository.\n",
    "\n",
    "*Reminder*: Your SoCS credentials default to your userID and student number for your password, before asking for assistance try your student number and central id login.\n",
    "\n",
    "**Deliverables**: Please submit the following in your lab03 directory via git. You **must** make sure that the files are located in your \"lab03\" directory.\n",
    "- In the lab03/src directory include the following files,\n",
    "    - reverseArray.c\n",
    "    - incrementPointer.c\n",
    "    - commandLineArguments.c\n",
    "    - 2dArray.c\n",
    "    \n",
    "    \n",
    "**Evaluation**: (10 marks)\n",
    "- Reverse Integer Array (2)\n",
    "- Increment Pointer (2)\n",
    "- Command Line Arguments (4)\n",
    "- Multi-Dimensional Arrays (2)\n"
   ]
  },
  {
   "cell_type": "markdown",
   "metadata": {},
   "source": [
    "## 1. Setup Environment \n",
    "\n",
    "**Note** This is included from lab 2, in the near future you will be expected to set up and organize your own environment from simply looking at a list of deliverables.\n",
    "\n",
    "In step 1, we're going to set up a programming environment so we know exactly where all our files are located. Typically, it's standard to have separate directories for your source files, header files and compiled binary files so we're going to make a few directories (recall that the command to create a directory is \"<tt>mkdir</tt>\"). The source files will be saved in \"<tt>src</tt>\", header files in \"<tt>include</tt>\" and the compiled binary files in the \"<tt>bin</tt>\" directory. \n",
    "\n",
    "First, we are going to create a lab03 directory (<tt>mkdir lab03</tt>), move to it (<tt>cd lab03</tt>), then check the directory we're currently in (<tt>pwd</tt>). \n",
    "\n",
    "**Note**: the -p when using mkdir is a conditional so the bash script will create a lab03 directory if it doesn't exist and ignore the command if it does exist."
   ]
  },
  {
   "cell_type": "code",
   "execution_count": 1,
   "metadata": {
    "collapsed": false
   },
   "outputs": [
    {
     "name": "stdout",
     "output_type": "stream",
     "text": [
      "/home/socs/Downloads/lab03\n"
     ]
    }
   ],
   "source": [
    "%%bash\n",
    "mkdir -p lab03\n",
    "cd lab03\n",
    "pwd"
   ]
  },
  {
   "cell_type": "markdown",
   "metadata": {},
   "source": [
    "Now it's time to create the src, bin and include directories. We are going to run multi-line bash and create each directory the same way that lab03 was created. Notice that if you run the cell below twice, you will get an error without the \"<tt>-p</tt>\" flag.\n",
    "\n",
    "**Note**: If you accidently ran your code above and made a new lab03 inside of the original, don't worry, you can move to the previous directory with \"<tt>cd ..</tt>\""
   ]
  },
  {
   "cell_type": "code",
   "execution_count": 2,
   "metadata": {
    "collapsed": true
   },
   "outputs": [],
   "source": [
    "%%bash\n",
    "mkdir -p src\n",
    "mkdir -p bin\n",
    "mkdir -p include"
   ]
  },
  {
   "cell_type": "markdown",
   "metadata": {},
   "source": [
    "There's two small things we must do before we start, we're going to create a \"<tt>main.c</tt>\" file that we will use to test the functions we write, and a header file \"<tt>lab3.h</tt>\" to prototype any of the functions we write.\n",
    "\n",
    "**Note**: Instead of recreating the \"<tt>lab3.h</tt>\" file every time we add something, we will simply create one header function with all of the required protypes and libraries.\n",
    "\n"
   ]
  },
  {
   "cell_type": "code",
   "execution_count": 3,
   "metadata": {
    "collapsed": false
   },
   "outputs": [
    {
     "name": "stdout",
     "output_type": "stream",
     "text": [
      "Writing include/lab3.h\n"
     ]
    }
   ],
   "source": [
    "%%file include/lab3.h\n",
    "\n",
    "\n",
    "#include<stdio.h>\n",
    "#include <string.h>\n",
    "#include <stdlib.h>\n",
    "\n",
    "\n",
    "/***\n",
    "* Function Prototypes\n",
    "***/\n",
    "\n",
    "\n",
    "/* 2. reverseList.c */\n",
    "void swapIntegers(int *one, int *two);\n",
    "\n",
    "void reverseIntegers(int list[], int length);\n",
    "\n",
    "\n",
    "/* 3. incrementPointer.c */\n",
    "void nextChar(char **position);\n",
    "\n",
    "char *findChar(char *string, char toFind);\n",
    "\n",
    "\n",
    "/* 4. commandLineArguments.c */\n",
    "void sortIntegers(int value[], int length);\n",
    "\n",
    "int convertToInt(char *string);\n",
    "\n",
    "int *sortArguments(int argc, char *argv[]);\n",
    "\n",
    "\n",
    "/* 5. 2dArray.c */\n",
    "void printTable(int *arr[], int columnLine, int numRows, int numColumns);\n",
    "\n",
    "\n",
    "\n"
   ]
  },
  {
   "cell_type": "code",
   "execution_count": 4,
   "metadata": {
    "collapsed": false
   },
   "outputs": [
    {
     "name": "stdout",
     "output_type": "stream",
     "text": [
      "Writing src/main.c\n"
     ]
    }
   ],
   "source": [
    "%%file src/main.c\n",
    "/***\n",
    "* Name: Braelyn Rotman\n",
    "* Date: January 31, 2018\n",
    "* Course: CIS 2500\n",
    "*\n",
    "* Description: main.c\n",
    "***/\n",
    "\n",
    "\n",
    "#include \"lab3.h\"\n",
    "\n",
    "\n",
    "int main(int argc, char *argv[]) {\n",
    "    \n",
    "    printf(\"Hello, World\\n\");\n",
    "    \n",
    "    return 0;\n",
    "}\n",
    "\n"
   ]
  },
  {
   "cell_type": "markdown",
   "metadata": {},
   "source": [
    "Time to compile and run the program to make sure everything works...\n",
    "\n",
    "**Reminder**: Here is what all the compiler instructions do,\n",
    "- **-Wall**: Enables warning options that are not always on.\n",
    "- **-pedantic**: Enables warning options that are not always on.\n",
    "- **-ansi**: Requires c source code to be written using the ansi c standard.\n",
    "- **-I**: Tells the compiler to look for header files.\n",
    "- **include**: The directory that the gcc compiler looks for self defined header files.\n",
    "- **src/main.c**: The source code that will be compiled.\n",
    "- **-o**: Tells the compiler that the name of the executable will come next.\n",
    "- **bin/runMe**: The name of the executable from the source code.\n",
    "\n",
    "**Reminder**: Running the program.\n",
    "- \"**./**\" Runs an executable.\n",
    "- bin/runMe Name of the executable that will be run.\n",
    "\n",
    "If you would like to learn more about compiler options,\n",
    "\n",
    "https://gcc.gnu.org/onlinedocs/gcc/Option-Index.html"
   ]
  },
  {
   "cell_type": "code",
   "execution_count": 5,
   "metadata": {
    "collapsed": false
   },
   "outputs": [
    {
     "name": "stdout",
     "output_type": "stream",
     "text": [
      "Hello, World\n"
     ]
    }
   ],
   "source": [
    "%%bash\n",
    "gcc -Wall -pedantic -ansi -Iinclude src/main.c -o bin/runMe\n",
    "./bin/runMe"
   ]
  },
  {
   "cell_type": "markdown",
   "metadata": {},
   "source": [
    "\n",
    "#### MAKEFILE (Not mandatory but very useful)\n",
    "\n",
    "Instead of moving on at this point, we're going to do something a little different. Because most of us are lazy and don't want to type our command to compile every single time, we're going to create a makefile. To do this we're going to use a work around using a work around using a python script. We are not able to directly add tabs from jupyter without changing the settings of the text editor jupyter is using.\n",
    "\n",
    "Most are intimidated by makefiles at first, but they're actually really straight forward! We are going to write a command that will go straight to the command line from the makefile.\n",
    "\n"
   ]
  },
  {
   "cell_type": "code",
   "execution_count": 6,
   "metadata": {
    "collapsed": true
   },
   "outputs": [],
   "source": [
    "\n",
    "file = open(\"makefile\", \"w\")\n",
    "\n",
    "# These are the flags we use when compiling\n",
    "file.write(\"CFLAGS = -Wall -pedantic -ansi -Iinclude \\n\")\n",
    "file.write(\"\\n\")\n",
    "file.write(\"all:\\n\")\n",
    "file.write(\"\\tgcc $(CFLAGS) src/*.c -o bin/runMe \\n\")\n",
    "file.write(\"\\n\")\n",
    "file.write(\"compileMessage: \\n\")\n",
    "file.write(\"\\techo 'Now compiling'\\n\")\n",
    "file.write(\"\\n\")\n",
    "\n",
    "\n",
    "file.close()\n"
   ]
  },
  {
   "cell_type": "code",
   "execution_count": 7,
   "metadata": {
    "collapsed": false
   },
   "outputs": [
    {
     "name": "stdout",
     "output_type": "stream",
     "text": [
      "gcc -Wall -pedantic -ansi -Iinclude  src/*.c -o bin/runMe \n"
     ]
    }
   ],
   "source": [
    "%%bash\n",
    "make"
   ]
  },
  {
   "cell_type": "markdown",
   "metadata": {},
   "source": [
    "Wow, that was easy... Maybe we should try the other recipe (compileMessage). \n",
    "\n",
    "This is a simple makefile but hopefully this helps you understand how they are used. Details will be added through the semester so you can learning how useful makefiles actually are."
   ]
  },
  {
   "cell_type": "code",
   "execution_count": 8,
   "metadata": {
    "collapsed": false
   },
   "outputs": [
    {
     "name": "stdout",
     "output_type": "stream",
     "text": [
      "echo 'Now compiling'\n",
      "Now compiling\n"
     ]
    }
   ],
   "source": [
    "%%bash\n",
    "make compileMessage"
   ]
  },
  {
   "cell_type": "markdown",
   "metadata": {},
   "source": [
    "## 2. Passing an Array (2 marks)"
   ]
  },
  {
   "cell_type": "markdown",
   "metadata": {},
   "source": [
    "Rather than passing members of an array individually, it's often convenient to pass the entire array. This way the code is more modular (so it can be reused) and the array can be entirely processed.\n",
    "\n",
    "In this section we are going to write two functions, the first accepts an array of integers to reverse the order without returning another array and the second swaps two integers.\n",
    "\n",
    "**Note**: You can use either of the following function signatures for the print list function, but we will use the first one.\n",
    "\n",
    "- <tt>void reverseIntegers(int list[], int length)</tt>\n",
    "- <tt>void reverseIntegers(int *list, int length)</tt>\n",
    "\n",
    "*Hint*: Use a while loop when reversing the list. It may not be apparent immediately, but there's a simple solution.\n",
    "\n",
    "**Do not skip the \"<tt>swapIntegers</tt>\" function, it will be used again later!**"
   ]
  },
  {
   "cell_type": "code",
   "execution_count": 8,
   "metadata": {
    "collapsed": false
   },
   "outputs": [
    {
     "name": "stdout",
     "output_type": "stream",
     "text": [
      "Overwriting src/reverseList.c\n"
     ]
    }
   ],
   "source": [
    "%%file src/reverseList.c\n",
    "/*\n",
    "* Name: Braelyn Rotman\n",
    "* Date: January 31, 2018\n",
    "* Course: CIS 2500\n",
    "*/\n",
    "\n",
    "/* Swaps the value of two integers by swapping the pointers */\n",
    "void swapIntegers(int *one, int *two) {\n",
    "\n",
    "    int temp;\n",
    "    temp = *one;\n",
    "    *one = *two;\n",
    "    *two = temp;\n",
    "    \n",
    "}\n",
    "\n",
    "\n",
    "/* Reverse the order of a list of integers. */\n",
    "void reverseIntegers(int list[], int length) {\n",
    "\n",
    "    int temp;\n",
    "    int pos = 0;\n",
    "    while(pos < length/2)\n",
    "    {\n",
    "        temp = list[pos];\n",
    "        list[pos]=list[length-1-pos];\n",
    "        list[length-1-pos]=temp;\n",
    "        pos++;\n",
    "    }\n",
    "    \n",
    "}\n",
    "\n",
    "\n"
   ]
  },
  {
   "cell_type": "code",
   "execution_count": 9,
   "metadata": {
    "collapsed": false
   },
   "outputs": [
    {
     "name": "stdout",
     "output_type": "stream",
     "text": [
      "Overwriting src/main.c\n"
     ]
    }
   ],
   "source": [
    "%%file src/main.c\n",
    "\n",
    "\n",
    "#include \"lab3.h\"\n",
    "\n",
    "void printList(int *list, int length) {\n",
    "    int i;\n",
    "    \n",
    "    for (i = 0; i < length; i++) {\n",
    "        printf(\"%d, \", list[i]);\n",
    "    }\n",
    "        \n",
    "    printf(\"\\n\");\n",
    "}\n",
    "\n",
    "\n",
    "int main(int argc, char *argv[]) {\n",
    "    /* Notice that there are at least one even and one odd list being tested.*/\n",
    "    int intList[] = {1, 2, 3, 4, 5};\n",
    "    int intKnownList[4] = {6, 7, 8, 9};\n",
    "\n",
    "    printf(\"Hello, World\\n\");\n",
    "\n",
    "    printf(\"List 1: \\n\");\n",
    "    printList(intList, 5);\n",
    "    reverseIntegers(intList, 5);\n",
    "    printList(intList, 5);\n",
    "    \n",
    "    printf(\"List 2: \\n\");\n",
    "    printList(intKnownList, 4);\n",
    "    \n",
    "    /* Something interesting about memory in c, try switching the length below from 4 to 5*/\n",
    "    reverseIntegers(intKnownList, 4);\n",
    "    printList(intKnownList, 4);\n",
    "    \n",
    "    return 0;\n",
    "}\n",
    "\n"
   ]
  },
  {
   "cell_type": "code",
   "execution_count": 43,
   "metadata": {
    "collapsed": false
   },
   "outputs": [
    {
     "name": "stdout",
     "output_type": "stream",
     "text": [
      "gcc -Wall -pedantic -ansi -Iinclude  src/*.c -o bin/runMe \n",
      " 00  01  02  03  04 \n",
      " 05  06  07  08  09 \n",
      " 10  11  12  13  14 \n",
      " 15  16  17  18  19 \n",
      " 20  21  22  23  24 \n",
      " 25  26  27  28  29 \n",
      " 30  31  32  33  34 \n",
      " 35  36  37  38  39 \n",
      " 40  41  42  43  44 \n",
      " 45  46  47  48  49 \n",
      " 50  51  52  53  54 \n",
      " 55  56  57  58  59 \n",
      " 60  61  62  63  64 \n",
      " 65  66  67  68  69 \n",
      " 70  71  72  73  74 \n",
      " 75  76  77  78  79 \n",
      " 80  81  82  83  84 \n",
      " 85  86  87  88  89 \n",
      " 90  91  92  93  94 \n",
      " 95  96  97  98  99 \n",
      " 00  01  02  03  04 \n",
      " 05  06  07  08  09 \n",
      " 10  11  12  13  14 \n",
      " 15  16  17  18  19 \n",
      " 20  21  22  23  24 \n",
      " 25  26  27  28  29 \n",
      " 30  31  32  33  34 \n",
      " 35  36  37  38  39 \n",
      " 40  41  42  43  44 \n",
      " 45  46  47  48  49 \n",
      " 00 | 01 | 02 | 03 | 04 \n",
      " 05 | 06 | 07 | 08 | 09 \n",
      " 10 | 11 | 12 | 13 | 14 \n",
      " 15 | 16 | 17 | 18 | 19 \n",
      " 20 | 21 | 22 | 23 | 24 \n",
      " 25 | 26 | 27 | 28 | 29 \n",
      " 30 | 31 | 32 | 33 | 34 \n",
      " 35 | 36 | 37 | 38 | 39 \n",
      " 40 | 41 | 42 | 43 | 44 \n",
      " 45 | 46 | 47 | 48 | 49 \n",
      " 50 | 51 | 52 | 53 | 54 \n",
      " 55 | 56 | 57 | 58 | 59 \n",
      " 60 | 61 | 62 | 63 | 64 \n",
      " 65 | 66 | 67 | 68 | 69 \n",
      " 70 | 71 | 72 | 73 | 74 \n",
      " 75 | 76 | 77 | 78 | 79 \n",
      " 80 | 81 | 82 | 83 | 84 \n",
      " 85 | 86 | 87 | 88 | 89 \n",
      " 90 | 91 | 92 | 93 | 94 \n",
      " 95 | 96 | 97 | 98 | 99 \n",
      " 00 | 01 | 02 | 03 | 04 \n",
      " 05 | 06 | 07 | 08 | 09 \n",
      " 10 | 11 | 12 | 13 | 14 \n",
      " 15 | 16 | 17 | 18 | 19 \n",
      " 20 | 21 | 22 | 23 | 24 \n",
      " 25 | 26 | 27 | 28 | 29 \n",
      " 30 | 31 | 32 | 33 | 34 \n",
      " 35 | 36 | 37 | 38 | 39 \n",
      " 40 | 41 | 42 | 43 | 44 \n",
      " 45 | 46 | 47 | 48 | 49 \n"
     ]
    }
   ],
   "source": [
    "%%bash\n",
    "make\n",
    "./bin/runMe"
   ]
  },
  {
   "cell_type": "markdown",
   "metadata": {},
   "source": [
    "## 3. Relation Between a Pointer and Array (2 marks)"
   ]
  },
  {
   "cell_type": "markdown",
   "metadata": {},
   "source": [
    "As mentioned previously, we could have used two different function signatures for the \"<tt>reverseIntegers</tt>\" function. The signature we used passes an array of integers instead of an integer pointer. The main difference between the two appers when using the \"<tt>sizeof</tt>\" function on a pointer. \n",
    "\n",
    "A pointer is **always** the same size (it only stores a memory address), but an array variable will store the individual elements. The two have very close ties and are occasionally used interchangably because arrays and pointers access individual elements the same way. However, you should make sure you understand the difference or you will frequently run into segmentation faults. \n",
    "\n",
    "For this section, we are going to take a different approach to iterating through an array. We are going to write two functions \"<tt>findChar</tt>\" and \"<tt>nextChar</tt>\".\n",
    "\n",
    " - <tt>nextChar</tt> - Takes in a char pointer and increments it one char sized space in memory\n",
    "\n",
    " - <tt>findChar</tt> - Using <tt>nextChar</tt>, increment through the given list until the char stored in toFind is found, then return the matching chars memory address. If no match is found, return NULL"
   ]
  },
  {
   "cell_type": "code",
   "execution_count": 44,
   "metadata": {
    "collapsed": false
   },
   "outputs": [
    {
     "name": "stdout",
     "output_type": "stream",
     "text": [
      "Overwriting src/incrementPointer.c\n"
     ]
    }
   ],
   "source": [
    "%%file src/incrementPointer.c \n",
    "\n",
    "\n",
    "#include \"lab3.h\"\n",
    "\n",
    "\n",
    "char *findChar(char *string, char toFind) {\n",
    "\n",
    "    int length;\n",
    "    int p;\n",
    "    \n",
    "    length = strlen(string);\n",
    "    \n",
    "    for (p = 0; p < length ; p++)\n",
    "    {\n",
    "        nextChar(&string);\n",
    "        if (*string == toFind)\n",
    "        {\n",
    "            return string;\n",
    "        }\n",
    "    }\n",
    "    return NULL;\n",
    "    \n",
    "}\n",
    "\n",
    "\n",
    "\n",
    "/* Increment pointer */\n",
    "void nextChar(char **position) {\n",
    "    *position = *position + 1;\n",
    "}\n",
    "\n",
    "\n"
   ]
  },
  {
   "cell_type": "code",
   "execution_count": 45,
   "metadata": {
    "collapsed": false
   },
   "outputs": [
    {
     "name": "stdout",
     "output_type": "stream",
     "text": [
      "Overwriting src/main.c\n"
     ]
    }
   ],
   "source": [
    "%%file src/main.c\n",
    "\n",
    "\n",
    "#include \"lab3.h\"\n",
    "\n",
    "/* Test as whatever you would like*/\n",
    "int main(int argc, char *argv[]) {\n",
    "    char *str = \"1234567\";\n",
    "    char *pos;\n",
    "    \n",
    "    printf(\"Hello, World\\n\");\n",
    "    \n",
    "    printf(\"Original - >\");\n",
    "    printf(\"%s\\n\", str);\n",
    "    \n",
    "    pos = findChar(str, '5');\n",
    "    \n",
    "    /* Could easily automate this test using strcmp */\n",
    "    printf(\"pos (Should print 567) - >\");\n",
    "    printf(\"%s\\n\", pos);\n",
    "    \n",
    "    return 0;\n",
    "}\n",
    "\n"
   ]
  },
  {
   "cell_type": "code",
   "execution_count": 46,
   "metadata": {
    "collapsed": false
   },
   "outputs": [
    {
     "name": "stdout",
     "output_type": "stream",
     "text": [
      "gcc -Wall -pedantic -ansi -Iinclude  src/*.c -o bin/runMe \n",
      "Hello, World\n",
      "Original - >1234567\n",
      "pos (Should print 567) - >567\n"
     ]
    }
   ],
   "source": [
    "%%bash\n",
    "make\n",
    "./bin/runMe"
   ]
  },
  {
   "cell_type": "markdown",
   "metadata": {},
   "source": [
    "## 4. Command Line Aguments (4 marks)\n",
    "\n",
    "It's often beneficial to write programs that can dynamically process data without changing the code every time. Imagine only being able to open a single file or visit a single website (although I'm sure it feels like you only use courselink anyways). A useful tool for doing this is command line arguments.\n",
    "\n",
    "Command line arguments are passed to a program when it is run after compiling. Arguments are commonly used to tell a program which flags to activate, or information about the files read/written to.\n",
    "\n",
    "*Instruction*: In this secion we are going to read command line arguments from the terminal, convert them all to integers then sort them from least to greatest.\n"
   ]
  },
  {
   "cell_type": "code",
   "execution_count": 47,
   "metadata": {
    "collapsed": false
   },
   "outputs": [
    {
     "name": "stdout",
     "output_type": "stream",
     "text": [
      "Overwriting src/commandLineArguments.c\n"
     ]
    }
   ],
   "source": [
    "%%file src/commandLineArguments.c\n",
    "\n",
    "#include \"lab3.h\"\n",
    "\n",
    "\n",
    "/* Use the swapIntegers function you already coded */\n",
    "void sortIntegers(int value[], int length) {\n",
    "    /* Hint: Bubble sort is the easiest sorting algorithm to understand */\n",
    "    \n",
    "    int i, j;\n",
    "    for (i = 0; i < length-1; i++)      \n",
    "    {\n",
    "        for (j = 0; j < length-i-1; j++) \n",
    "        {\n",
    "            if (value[j] > value[j+1])\n",
    "            {\n",
    "                swapIntegers(&value[j], &value[j+1]);\n",
    "            }\n",
    "        }\n",
    "    }\n",
    "}\n",
    "\n",
    "\n",
    "/* Hint: atoi */\n",
    "int convertToInt(char *string) {\n",
    "    int i;\n",
    "    i = atoi(string);\n",
    "    return i;\n",
    "}\n",
    "\n",
    "\n",
    "int *sortArguments(int argc, char *argv[]) {\n",
    "    /* allocate enough memory: sizeof(int) times number of integers */\n",
    "    int *list = malloc(sizeof(int) * (argc-1));\n",
    "    int i;\n",
    "    \n",
    "    /*load argv values into list*/\n",
    "    for (i = 0; i <argc-1; i++)\n",
    "    {\n",
    "        list[i] = convertToInt(argv[i+1]);\n",
    "    }\n",
    "\n",
    "    sortIntegers(list, argc-1);\n",
    "    return list;\n",
    "}\n",
    "\n",
    "\n",
    "\n"
   ]
  },
  {
   "cell_type": "code",
   "execution_count": 48,
   "metadata": {
    "collapsed": false
   },
   "outputs": [
    {
     "name": "stdout",
     "output_type": "stream",
     "text": [
      "Overwriting src/main.c\n"
     ]
    }
   ],
   "source": [
    "%%file src/main.c\n",
    "\n",
    "#include \"lab3.h\"\n",
    "\n",
    "/* Pay attention to the boundary conditions on the loop below */\n",
    "int main(int argc, char *argv[]) {\n",
    "    int i = 0;\n",
    "    int *result;\n",
    "    \n",
    "    printf(\"Hello, World\\n\");\n",
    "    \n",
    "    /* Here is how you access the command line arguments*/\n",
    "    printf(\"Before: \");\n",
    "    for (i = 1; i < argc; i++) {\n",
    "        printf(\"%s, \", argv[i]);\n",
    "    }\n",
    "    printf(\"\\n\");\n",
    "    \n",
    "    result = sortArguments(argc, argv);\n",
    "\n",
    "    printf(\"\\nAfter: \");\n",
    "    for (i = 0; i < argc-1; i++) {\n",
    "        printf(\"%d, \", result[i]);\n",
    "    }\n",
    "    \n",
    "    /* Memory must be freed when allocated, but only freed once */\n",
    "    free(result);\n",
    "    \n",
    "    return 0;\n",
    "}\n",
    "\n"
   ]
  },
  {
   "cell_type": "code",
   "execution_count": 49,
   "metadata": {
    "collapsed": false
   },
   "outputs": [
    {
     "name": "stdout",
     "output_type": "stream",
     "text": [
      "Hello, World\n",
      "Before: 0, 234, 345345, 91, -3, 12, 3, 19, 17, \n",
      "\n",
      "After: -3, 0, 3, 12, 17, 19, 91, 234, 345345, "
     ]
    }
   ],
   "source": [
    "%%bash\n",
    "gcc -Wall -pedantic -ansi -Iinclude src/*.c -o bin/runMe\n",
    "./bin/runMe 0 234 345345 91 -3 12 3 19 17"
   ]
  },
  {
   "cell_type": "markdown",
   "metadata": {},
   "source": [
    "## 5. Multi-Dimensional Arrays (2 marks)\n",
    "\n",
    "Multi-dimensional arrays are used to store data for many different reasons. For example, command line arguemts are flexible two dimensional arrays (array of an array). It's common for data to be stored in two dimensional arrays.\n",
    "\n",
    "For this section we will print a table of integers based on the format requested by the user. For simplicity we are only going to use integers from 0 - 99. You can assume the table will not be tested with integers greater than 99 but integers from 0 - 9 must be in the format 00, 01, 02, ... etc. \n",
    "\n",
    "Users will have the option to add a line between all columns or no columns using this character |\n",
    "\n",
    "Format: \n",
    "- The table cell must be printed with a space before and after each integer -> \" 11 \". \n",
    "- If the user would like a line in the column it should print with no lines on the left or right. i.e.\" 01 | 17 | 33 | 27 \"\n",
    "- columnLine = 1 prints columns, anything else ignores them\n",
    "- Print the newline character at the end of each row \"\\n\"\n",
    "\n",
    "\n",
    "**You need to following the instructions exactly when print the array or you will receive 0 marks for this section**"
   ]
  },
  {
   "cell_type": "code",
   "execution_count": 50,
   "metadata": {
    "collapsed": false
   },
   "outputs": [
    {
     "name": "stdout",
     "output_type": "stream",
     "text": [
      "Overwriting src/2dArray.c\n"
     ]
    }
   ],
   "source": [
    "%%file src/2dArray.c\n",
    "\n",
    "#include \"lab3.h\"\n",
    "\n",
    "\n",
    "/* Access arr as arr[row][column] */\n",
    "void printTable(int *arr[], int columnLine, int numRows, int numColumns) {\n",
    "    int i, j;\n",
    "    \n",
    "    for (i = 0 ; i< numRows ; i++)\n",
    "    {\n",
    "        for (j=0; j< numColumns; j++)\n",
    "        {\n",
    "            if (arr[i][j]<10)\n",
    "            {\n",
    "                printf(\" 0%d \", arr[i][j]);\n",
    "                if (columnLine == 1 && j != numColumns -1)\n",
    "                {\n",
    "                    printf(\"|\");\n",
    "                }\n",
    "            }\n",
    "            else\n",
    "            {\n",
    "                printf(\" %d \", arr[i][j]);\n",
    "                if (columnLine == 1 && j != numColumns -1)\n",
    "                {\n",
    "                    printf(\"|\");\n",
    "                }\n",
    "            }\n",
    "        }\n",
    "        printf(\"\\n\");\n",
    "    }\n",
    "}\n",
    "\n"
   ]
  },
  {
   "cell_type": "code",
   "execution_count": 51,
   "metadata": {
    "collapsed": false
   },
   "outputs": [
    {
     "name": "stdout",
     "output_type": "stream",
     "text": [
      "Overwriting src/main.c\n"
     ]
    }
   ],
   "source": [
    "%%file src/main.c\n",
    "\n",
    "#include \"lab3.h\"\n",
    "\n",
    "/* Testing is done for you */\n",
    "int main(int argc, char *argv[]) {\n",
    "    int *array[30];\n",
    "    int temp[30][5];\n",
    "    int i;\n",
    "    int j;\n",
    "    \n",
    "    for (i = 0; i < 30; i++) {\n",
    "        /*int temp[5];*/\n",
    "        \n",
    "        for (j = 0; j < 5; j++) {\n",
    "            int val = (i*5)+j;\n",
    "            temp[i][j] = val%100;\n",
    "        }\n",
    "        array[i] = temp[i];\n",
    "    }\n",
    "    \n",
    "    /* Without lines */\n",
    "    printTable(array, 0, 30, 5);\n",
    "    \n",
    "    /* With lines */\n",
    "    printTable(array, 1, 30, 5);\n",
    "\n",
    "    return 0;\n",
    "}\n",
    "\n"
   ]
  },
  {
   "cell_type": "code",
   "execution_count": 52,
   "metadata": {
    "collapsed": false
   },
   "outputs": [
    {
     "name": "stdout",
     "output_type": "stream",
     "text": [
      " 00  01  02  03  04 \n",
      " 05  06  07  08  09 \n",
      " 10  11  12  13  14 \n",
      " 15  16  17  18  19 \n",
      " 20  21  22  23  24 \n",
      " 25  26  27  28  29 \n",
      " 30  31  32  33  34 \n",
      " 35  36  37  38  39 \n",
      " 40  41  42  43  44 \n",
      " 45  46  47  48  49 \n",
      " 50  51  52  53  54 \n",
      " 55  56  57  58  59 \n",
      " 60  61  62  63  64 \n",
      " 65  66  67  68  69 \n",
      " 70  71  72  73  74 \n",
      " 75  76  77  78  79 \n",
      " 80  81  82  83  84 \n",
      " 85  86  87  88  89 \n",
      " 90  91  92  93  94 \n",
      " 95  96  97  98  99 \n",
      " 00  01  02  03  04 \n",
      " 05  06  07  08  09 \n",
      " 10  11  12  13  14 \n",
      " 15  16  17  18  19 \n",
      " 20  21  22  23  24 \n",
      " 25  26  27  28  29 \n",
      " 30  31  32  33  34 \n",
      " 35  36  37  38  39 \n",
      " 40  41  42  43  44 \n",
      " 45  46  47  48  49 \n",
      " 00 | 01 | 02 | 03 | 04 \n",
      " 05 | 06 | 07 | 08 | 09 \n",
      " 10 | 11 | 12 | 13 | 14 \n",
      " 15 | 16 | 17 | 18 | 19 \n",
      " 20 | 21 | 22 | 23 | 24 \n",
      " 25 | 26 | 27 | 28 | 29 \n",
      " 30 | 31 | 32 | 33 | 34 \n",
      " 35 | 36 | 37 | 38 | 39 \n",
      " 40 | 41 | 42 | 43 | 44 \n",
      " 45 | 46 | 47 | 48 | 49 \n",
      " 50 | 51 | 52 | 53 | 54 \n",
      " 55 | 56 | 57 | 58 | 59 \n",
      " 60 | 61 | 62 | 63 | 64 \n",
      " 65 | 66 | 67 | 68 | 69 \n",
      " 70 | 71 | 72 | 73 | 74 \n",
      " 75 | 76 | 77 | 78 | 79 \n",
      " 80 | 81 | 82 | 83 | 84 \n",
      " 85 | 86 | 87 | 88 | 89 \n",
      " 90 | 91 | 92 | 93 | 94 \n",
      " 95 | 96 | 97 | 98 | 99 \n",
      " 00 | 01 | 02 | 03 | 04 \n",
      " 05 | 06 | 07 | 08 | 09 \n",
      " 10 | 11 | 12 | 13 | 14 \n",
      " 15 | 16 | 17 | 18 | 19 \n",
      " 20 | 21 | 22 | 23 | 24 \n",
      " 25 | 26 | 27 | 28 | 29 \n",
      " 30 | 31 | 32 | 33 | 34 \n",
      " 35 | 36 | 37 | 38 | 39 \n",
      " 40 | 41 | 42 | 43 | 44 \n",
      " 45 | 46 | 47 | 48 | 49 \n"
     ]
    }
   ],
   "source": [
    "%%bash\n",
    "gcc -Wall -pedantic -ansi -Iinclude src/*.c -o bin/runMe\n",
    "./bin/runMe"
   ]
  },
  {
   "cell_type": "markdown",
   "metadata": {},
   "source": [
    "### Congrats!\n",
    "\n",
    "You've made it through the second individual lab exercise <tt>Lab03.ipynb</tt>. Look at the top of this page for submission instructions."
   ]
  },
  {
   "cell_type": "code",
   "execution_count": null,
   "metadata": {
    "collapsed": true
   },
   "outputs": [],
   "source": []
  },
  {
   "cell_type": "code",
   "execution_count": null,
   "metadata": {
    "collapsed": true
   },
   "outputs": [],
   "source": []
  },
  {
   "cell_type": "code",
   "execution_count": null,
   "metadata": {
    "collapsed": true
   },
   "outputs": [],
   "source": []
  },
  {
   "cell_type": "code",
   "execution_count": null,
   "metadata": {
    "collapsed": true
   },
   "outputs": [],
   "source": []
  },
  {
   "cell_type": "code",
   "execution_count": null,
   "metadata": {
    "collapsed": true
   },
   "outputs": [],
   "source": []
  }
 ],
 "metadata": {
  "kernelspec": {
   "display_name": "Python 3",
   "language": "python",
   "name": "python3"
  },
  "language_info": {
   "codemirror_mode": {
    "name": "ipython",
    "version": 3
   },
   "file_extension": ".py",
   "mimetype": "text/x-python",
   "name": "python",
   "nbconvert_exporter": "python",
   "pygments_lexer": "ipython3",
   "version": "3.5.3"
  }
 },
 "nbformat": 4,
 "nbformat_minor": 2
}
