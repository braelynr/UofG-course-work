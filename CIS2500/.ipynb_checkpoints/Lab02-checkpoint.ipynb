{
 "cells": [
  {
   "cell_type": "markdown",
   "metadata": {},
   "source": [
    "# Lab 2 - Control Flow and Variables (8 marks total)\n",
    "\n",
    "In this lab, you will learn about control flow and variables in c. By the end of the lab you should be able to write small functions implementing basic control flow and effective variable use. Our goal is to slowly add detail in each lab iteration so everyone will be able to write programs from scratch and understand all the preprocessing before code is compiled to an executable. As the semester proceeds the labs will become shorter but contain less instruction.\n",
    "\n",
    "Again, you will be submitting this lab via git. **Please submit your lab in the lab02 directory of your git repository.**\n",
    "\n",
    "*Reminder*: Your SoCS credentials default to your userID and student number for your password, before asking for assistance try your student number and central id login.\n",
    "\n",
    "**Deliverables**: Please submit the following in your lab02 directory via git.\n",
    "- In the lab02/src directory include the following files,\n",
    "    - ifElse.c\n",
    "    - switch.c\n",
    "    - while.c\n",
    "    - forLoop.c\n",
    "    - scope.c\n",
    "    - swap.c\n",
    "    \n",
    "    \n",
    "**Evaluation**: (8 marks)\n",
    "- Conditional Statements (2.5 marks)\n",
    "    - if/else (1.5 marks)\n",
    "    - switch (1 mark)\n",
    "- Loops (2.5 marks)\n",
    "    - while (1.5 marks)\n",
    "    - for (1 mark)\n",
    "- Variable scope (1 mark)\n",
    "- Pass by Reference (2 marks)\n"
   ]
  },
  {
   "cell_type": "markdown",
   "metadata": {},
   "source": [
    "## 1. Setup Environment\n",
    "\n",
    "In step 1, we're going to set up a programming environment so we know exactly where all our files are located. Typically, it's standard to have separate directories for your source files, header files and compiled binary files so we're going to make a few directories (recall that the command to create a directory is \"<tt>mkdir</tt>\"). The source files will be saved in \"<tt>src</tt>\", header files in \"<tt>include</tt>\" and the compiled binary files in the \"<tt>bin</tt>\" directory. \n",
    "\n",
    "First, we are going to create a lab02 directory (<tt>mkdir lab02</tt>), move to it (<tt>cd lab02</tt>), then check the directory we're currently in (<tt>pwd</tt>). \n",
    "\n",
    "**Note**: the -p when using mkdir is a conditional so the bash script will create a lab02 directory if it doesn't exist and ignore the command if it does exist."
   ]
  },
  {
   "cell_type": "code",
   "execution_count": null,
   "metadata": {
    "collapsed": true
   },
   "outputs": [],
   "source": [
    "%%bash\n",
    "mkdir -p lab02\n",
    "cd lab02\n",
    "pwd"
   ]
  },
  {
   "cell_type": "markdown",
   "metadata": {},
   "source": [
    "Now it's time to create the src, bin and include directories. We are going to run multi-line bash and create each directory the same way that lab02 was created. Notice that if you run the cell below twice, you will get an error without the \"<tt>-p</tt>\" flag.\n",
    "\n",
    "**Note**: If you accidently ran your code above and made a new lab02 inside of the original, don't worry, you can move to the previous directory with \"<tt>cd ..</tt>\""
   ]
  },
  {
   "cell_type": "code",
   "execution_count": null,
   "metadata": {
    "collapsed": true
   },
   "outputs": [],
   "source": [
    "%%bash\n",
    "mkdir src\n",
    "mkdir bin\n",
    "mkdir include"
   ]
  },
  {
   "cell_type": "markdown",
   "metadata": {},
   "source": [
    "There's two small things we must do before we start, we're going to create a \"<tt>main.c</tt>\" file that we will use to test the functions we write, and a header file \"<tt>lab2.h</tt>\" to prototype any of the functions we write."
   ]
  },
  {
   "cell_type": "code",
   "execution_count": null,
   "metadata": {
    "collapsed": true
   },
   "outputs": [],
   "source": [
    "%%file include/lab2.h\n",
    "\n",
    "/***\n",
    "* Name:\n",
    "* Date:\n",
    "* Course:\n",
    "*\n",
    "* Description:\n",
    "***/\n",
    "\n",
    "\n",
    "#include<stdio.h>\n",
    "\n"
   ]
  },
  {
   "cell_type": "code",
   "execution_count": null,
   "metadata": {
    "collapsed": true
   },
   "outputs": [],
   "source": [
    "%%file src/main.c\n",
    "/***\n",
    "* Name:\n",
    "* Date:\n",
    "* Course:\n",
    "*\n",
    "* Description:\n",
    "***/\n",
    "\n",
    "\n",
    "#include \"lab2.h\"\n",
    "\n",
    "\n",
    "int main(int argc, char *argv[]) {\n",
    "    \n",
    "    printf(\"Hello, World\\n\");\n",
    "    \n",
    "    return 0;\n",
    "}\n",
    "\n"
   ]
  },
  {
   "cell_type": "markdown",
   "metadata": {},
   "source": [
    "Time to compile and run the program to make sure everything works...\n",
    "\n",
    "**Reminder**: Here is what all the compiler instructions do,\n",
    "- **-Wall**: Enables warning options that are not always on.\n",
    "- **-pedantic**: Enables warning options that are not always on.\n",
    "- **-ansi**: Requires c source code to be written using the ansi c standard.\n",
    "- **-I**: Tells the compiler to look for header files.\n",
    "- **include**: The directory that the gcc compiler looks for self defined header files.\n",
    "- **src/main.c**: The source code that will be compiled.\n",
    "- **-o**: Tells the compiler that the name of the executable will come next.\n",
    "- **bin/runMe**: The name of the executable from the source code.\n",
    "\n",
    "**Reminder**: Running the program.\n",
    "- \"**./**\" Runs an executable.\n",
    "- bin/runMe Name of the executable that will be run.\n",
    "\n",
    "If you would like to learn more about compiler options,\n",
    "\n",
    "https://gcc.gnu.org/onlinedocs/gcc/Option-Index.html"
   ]
  },
  {
   "cell_type": "code",
   "execution_count": null,
   "metadata": {
    "collapsed": true
   },
   "outputs": [],
   "source": [
    "%%bash\n",
    "gcc -Wall -pedantic -ansi -Iinclude src/main.c -o bin/runMe\n",
    "./bin/runMe"
   ]
  },
  {
   "cell_type": "markdown",
   "metadata": {},
   "source": [
    "Now we have the proper setup, let's get to writing some code to learn control flow and variable use!"
   ]
  },
  {
   "cell_type": "markdown",
   "metadata": {},
   "source": [
    "## 2. Conditional Statements (2.5 marks)"
   ]
  },
  {
   "cell_type": "markdown",
   "metadata": {},
   "source": [
    "### 1.a. if/else statements (1.5)\n",
    "\n",
    "The first thing we're going to discuss is if/else statements. In this section you will be write an if/else statement similar to the one you did in the last lab. The cells below will create a new file and update the header file.\n",
    "\n",
    "*Instruction:* Write a SINGLE if/else statement that has 3 rules and a default (else) case, in a function named \"<tt>newNumber</tt>\". The function will accept a single integer and will return another number.\n",
    "\n",
    "The list below are the four cases (rules), the higher on the list the higher the priority. i.e. -7 returns 7, not 0.\n",
    "- Return 1 when the number is 0.\n",
    "- Return negative numbers as a positive.\n",
    "- Return 0 when numbers can be evenly be divided by 7.\n",
    "- for all other cases, return the same number (default case).\n",
    "\n",
    "*Hint*: For finding the remainder of a number, use the modulus operation."
   ]
  },
  {
   "cell_type": "code",
   "execution_count": null,
   "metadata": {
    "collapsed": true
   },
   "outputs": [],
   "source": [
    "%%file src/ifElse.c \n",
    "/***\n",
    "* Name:\n",
    "* Date:\n",
    "* Course:\n",
    "*\n",
    "* Description:\n",
    "***/\n",
    "\n",
    "\n",
    "\n",
    "int newNumber(int oldNumber) {\n",
    "    int newNumber;\n",
    "    \n",
    "    if (oldNumber ==  0) {\n",
    "        newNumber = 1; \n",
    "        \n",
    "    } else if (oldNumber < 0) {\n",
    "        newNumber = oldNumber * -1;\n",
    "        \n",
    "    } else if (oldNumber % 7 == 0) {\n",
    "        newNumber = 0;\n",
    "        \n",
    "    } else {\n",
    "        newNumber = oldNumber;\n",
    "        \n",
    "    }\n",
    "        \n",
    "    return newNumber;\n",
    "}\n",
    "\n"
   ]
  },
  {
   "cell_type": "code",
   "execution_count": null,
   "metadata": {
    "collapsed": true
   },
   "outputs": [],
   "source": [
    "%%file include/lab2.h\n",
    "\n",
    "/***\n",
    "* Name:\n",
    "* Date:\n",
    "* Course:\n",
    "*\n",
    "* Description:\n",
    "***/\n",
    "\n",
    "\n",
    "#include<stdio.h>\n",
    "\n",
    "\n",
    "/***\n",
    "* Function prototypes \n",
    "***/\n",
    "\n",
    "\n",
    "/* ifElse.c */\n",
    "int newNumber(int oldNumber);\n",
    "\n",
    "\n"
   ]
  },
  {
   "cell_type": "code",
   "execution_count": null,
   "metadata": {
    "collapsed": true
   },
   "outputs": [],
   "source": [
    "%%file src/main.c\n",
    "/***\n",
    "* Name:\n",
    "* Date:\n",
    "* Course:\n",
    "*\n",
    "* Description:\n",
    "***/\n",
    "\n",
    "\n",
    "#include \"lab2.h\"\n",
    "\n",
    "/* You can add any testing you would like to the main function */\n",
    "int main(int argc, char *argv[]) {\n",
    "    \n",
    "    printf(\"Hello, World\\n\");\n",
    "    \n",
    "    /* Notice how each possible case has a test! */\n",
    "    printf(\"\\n*** If/else ***\\n\");\n",
    "    printf(\"This should be 1, %d\\n\", newNumber(0));\n",
    "    printf(\"This should be 21, %d\\n\", newNumber(-21));\n",
    "    printf(\"This should be 0, %d\\n\", newNumber(21));\n",
    "    printf(\"This should be 13, %d\\n\", newNumber(13));\n",
    "    \n",
    "    return 0;\n",
    "}\n",
    "\n"
   ]
  },
  {
   "cell_type": "code",
   "execution_count": null,
   "metadata": {
    "collapsed": true
   },
   "outputs": [],
   "source": [
    "%%bash\n",
    "gcc -Wall -pedantic -ansi -Iinclude src/main.c src/ifElse.c -o bin/runMe\n",
    "./bin/runMe"
   ]
  },
  {
   "cell_type": "markdown",
   "metadata": {},
   "source": [
    "### 1.b. switch statements (1 mark)"
   ]
  },
  {
   "cell_type": "markdown",
   "metadata": {},
   "source": [
    "*Instruction:* Write a switch statement accepting three integer parameters (int userInput, int numOne, int numTwo). The user input will dictate which operation will happen between the two integers.\n",
    "\n",
    "- 1 = add\n",
    "- 2 = subtract (numOne - numTwo)\n",
    "- 3 = multiply\n",
    "- 4 = division ( numOne/replaceZero(numTwo) )\n",
    "- If the userInput is not one of the above, return 0."
   ]
  },
  {
   "cell_type": "code",
   "execution_count": null,
   "metadata": {
    "collapsed": true
   },
   "outputs": [],
   "source": [
    "%%file src/switch.c \n",
    "/***\n",
    "* Name:\n",
    "* Date:\n",
    "* Course:\n",
    "*\n",
    "* Description:\n",
    "***/\n",
    "\n",
    "\n",
    "\n",
    "int replaceZero(int numTwo) {\n",
    "    if(numTwo ==0) {\n",
    "        numTwo = 1;\n",
    "    } \n",
    "        \n",
    "    return numTwo;\n",
    "}\n",
    "\n",
    "\n",
    "\n",
    "int userDecision(int userInput, int numOne, int numTwo) {\n",
    "    int newNumber;\n",
    "    \n",
    "    switch(userInput){\n",
    "        case 1:\n",
    "            newNumber = numOne + numTwo;\n",
    "            break;\n",
    "        case 2:\n",
    "            newNumber = numOne - numTwo;\n",
    "            break;\n",
    "        case 3:\n",
    "            newNumber = numOne * numTwo;\n",
    "            break;\n",
    "        case 4:\n",
    "            newNumber = numOne / replaceZero(numTwo);\n",
    "            break;        \n",
    "        \n",
    "    }\n",
    "    \n",
    "    \n",
    "    return newNumber;\n",
    "}\n",
    "\n",
    "\n"
   ]
  },
  {
   "cell_type": "code",
   "execution_count": null,
   "metadata": {
    "collapsed": true
   },
   "outputs": [],
   "source": [
    "%%file include/lab2.h\n",
    "\n",
    "/***\n",
    "* Name:\n",
    "* Date:\n",
    "* Course:\n",
    "*\n",
    "* Description:\n",
    "***/\n",
    "\n",
    "\n",
    "#include<stdio.h>\n",
    "\n",
    "\n",
    "/***\n",
    "* Function prototypes \n",
    "***/\n",
    "\n",
    "\n",
    "/* ifElse.c */\n",
    "int newNumber(int oldNumber);\n",
    "\n",
    "\n",
    "/* switch.c */\n",
    "int replaceZero(int numTwo);\n",
    "\n",
    "int userDecision(int userInput, int numOne, int numTwo);\n",
    "\n",
    "\n"
   ]
  },
  {
   "cell_type": "code",
   "execution_count": null,
   "metadata": {
    "collapsed": true
   },
   "outputs": [],
   "source": [
    "%%file src/main.c\n",
    "/***\n",
    "* Name:\n",
    "* Date:\n",
    "* Course:\n",
    "*\n",
    "* Description:\n",
    "***/\n",
    "\n",
    "\n",
    "#include \"lab2.h\"\n",
    "\n",
    "/* Add whatever testing you would like */\n",
    "int main(int argc, char *argv[]) {\n",
    "    \n",
    "    printf(\"Hello, World\\n\");\n",
    "    \n",
    "    printf(\"\\n*** If/else ***\\n\");\n",
    "    printf(\"This should be 1, %d\\n\", newNumber(0));\n",
    "    printf(\"This should be 21, %d\\n\", newNumber(-21));\n",
    "    printf(\"This should be 0, %d\\n\", newNumber(21));\n",
    "    printf(\"This should be 13, %d\\n\", newNumber(13));\n",
    "    \n",
    "    printf(\"\\n*** switch ***\\n\");\n",
    "    \n",
    "    return 0;\n",
    "}\n",
    "\n"
   ]
  },
  {
   "cell_type": "code",
   "execution_count": null,
   "metadata": {
    "collapsed": true
   },
   "outputs": [],
   "source": [
    "%%bash\n",
    "gcc -Wall -pedantic -ansi -Iinclude src/main.c src/ifElse.c src/switch.c -o bin/runMe\n",
    "./bin/runMe"
   ]
  },
  {
   "cell_type": "markdown",
   "metadata": {},
   "source": [
    "## 3. Loops (2.5 marks)\n",
    "\n",
    "Now we are going to look at three loops, for, while and do while. While and do while loops should be used when the number of iterations are not known but the condition when to break is known where for loops are generally used when the length is known."
   ]
  },
  {
   "cell_type": "markdown",
   "metadata": {},
   "source": [
    "### 3.a. while loop (1.5 marks)\n",
    "\n",
    "This loop will find the overflow of a division operation. \n",
    "\n",
    "*Instruction*: Create a function named <tt>overflow</tt> to calculate the how far the closest multiple of the divisor is relative to the dividend. If the divisor is greater than the dividend, the dividend is returned. Do not worry about having a divisor of 0, although any negative dividends should be converted to a positive.\n",
    "\n",
    "i.e.\n",
    "- the overflow of 25/6 is 30 - 25 = 5\n",
    "- the overflow of -14/9 is 18 - 14 = 4 (This is treated as overflow 14/9)\n",
    "- the overflow of 3/28 is 3\n",
    "\n",
    "There is a skeleton of the control flow to get you started, you just need to fill in the missing sections. There is also an absolute value function required for the overflow calculation that must be completed.\n",
    "\n",
    "*Reminder:* Dividend / Divisor"
   ]
  },
  {
   "cell_type": "code",
   "execution_count": null,
   "metadata": {
    "collapsed": true
   },
   "outputs": [],
   "source": [
    "%%file src/while.c\n",
    "\n",
    "/***\n",
    "* Name:\n",
    "* Date:\n",
    "* Course:\n",
    "*\n",
    "* Description:\n",
    "***/\n",
    "\n",
    "\n",
    "\n",
    "int absoluteValue(int value) {\n",
    "\n",
    "    if (value < 0){\n",
    "        value = value * -1;\n",
    "    }\n",
    "    return value;\n",
    "}\n",
    "\n",
    "\n",
    "\n",
    "/* Calculate the overflow of a division operation */\n",
    "int overflow(int dividend, int divisor) {\n",
    "    int remainder;\n",
    "    int currentValue;\n",
    "\n",
    "    dividend = absoluteValue(dividend);\n",
    "    \n",
    "    if (dividend < divisor) {\n",
    "        remainder = dividend;\n",
    "    } else {\n",
    "        /* Find the division overflow below */\n",
    "        \n",
    "        currentValue = divisor;\n",
    "        while (dividend > currentValue) {\n",
    "            currentValue = currentValue + divisor;\n",
    "        }\n",
    "        remainder = currentValue - dividend;\n",
    "        \n",
    "        \n",
    "    }\n",
    "    \n",
    "    return remainder;\n",
    "}\n",
    "\n"
   ]
  },
  {
   "cell_type": "code",
   "execution_count": null,
   "metadata": {
    "collapsed": true
   },
   "outputs": [],
   "source": [
    "%%file include/lab2.h\n",
    "\n",
    "/***\n",
    "* Name:\n",
    "* Date:\n",
    "* Course:\n",
    "*\n",
    "* Description:\n",
    "***/\n",
    "\n",
    "\n",
    "#include<stdio.h>\n",
    "\n",
    "/***\n",
    "* Function prototype\n",
    "***/\n",
    "\n",
    "\n",
    "/* ifElse.c */\n",
    "int newNumber(int oldNumber);\n",
    "\n",
    "\n",
    "/* switch.c files */\n",
    "int replaceZero(int numTwo);\n",
    "\n",
    "int userDecision(int userInput, int numOne, int numTwo);\n",
    "\n",
    "\n",
    "/* while.c */\n",
    "int absoluteValue(int value);\n",
    "\n",
    "int overflow(int dividend, int divisor);\n",
    "\n"
   ]
  },
  {
   "cell_type": "code",
   "execution_count": null,
   "metadata": {
    "collapsed": true
   },
   "outputs": [],
   "source": [
    "%%file src/main.c\n",
    "\n",
    "\n",
    "/***\n",
    "* Name:\n",
    "* Date:\n",
    "* Course:\n",
    "*\n",
    "* Description:\n",
    "***/\n",
    "\n",
    "\n",
    "#include \"lab2.h\"\n",
    "\n",
    "/* You can add any extra testing you would like. This is not to be handed in */\n",
    "int main(int argc, char *argv[]) {\n",
    "    \n",
    "    printf(\"Hello, World\\n\");\n",
    "    \n",
    "    printf(\"\\n*** If/else ***\\n\");\n",
    "    printf(\"This should be 1, %d\\n\", newNumber(0));\n",
    "    printf(\"This should be 21, %d\\n\", newNumber(-21));\n",
    "    printf(\"This should be 0, %d\\n\", newNumber(21));\n",
    "    printf(\"This should be 13, %d\\n\", newNumber(13));\n",
    "    \n",
    "    printf(\"\\n*** switch ***\\n\");\n",
    "    \n",
    "    printf(\"\\n*** while loop ***\\n\");\n",
    "    printf(\"overflow of 25/6 = %d, (should be %d)\\n\", overflow(25, 6), 5);\n",
    "    printf(\"overflow of -14/9 = %d, (should be %d)\\n\", overflow(-14, 9), 4);\n",
    "    \n",
    "    return 0;\n",
    "}\n",
    "\n"
   ]
  },
  {
   "cell_type": "code",
   "execution_count": null,
   "metadata": {
    "collapsed": true
   },
   "outputs": [],
   "source": [
    "%%bash\n",
    "pwd\n",
    "gcc -Wall -pedantic -ansi -Iinclude src/*.c -o bin/runMe\n",
    "./bin/runMe"
   ]
  },
  {
   "cell_type": "markdown",
   "metadata": {},
   "source": [
    "### 3.b. do while loop (0 marks)\n",
    "\n",
    "Do while loops are essentially the same as while loops with a single exception, do while loops must be run at least once. In other words, the loop runs with a post condition rather than a pre-condition like a while loop. One way to use a do while loop is for a command loop. See the example below,"
   ]
  },
  {
   "cell_type": "code",
   "execution_count": null,
   "metadata": {
    "collapsed": true
   },
   "outputs": [],
   "source": [
    "/***\n",
    "* Name:\n",
    "* Date:\n",
    "* Course:\n",
    "*\n",
    "* Description:\n",
    "***/\n",
    "\n",
    "#include <stdio.h>\n",
    "\n",
    "void printMenu() {\n",
    "    printf(\"What would you like to do?\\n\");\n",
    "    printf(\"1. Add numbers\");\n",
    "    printf(\"2. Subtract numbers\");\n",
    "    printf(\"3. Multiply numbers\");\n",
    "    printf(\"4. Divide numbers\");\n",
    "    printf(\"0. Quit\");\n",
    "}\n",
    "\n",
    "\n",
    "/* Simple command loop program. Retrieving user input is omitted */\n",
    "int main() {\n",
    "    int userSelection;\n",
    "    \n",
    "    /* guaranteed to run once */\n",
    "    do {\n",
    "        int numOne;\n",
    "        int numTwo;\n",
    "        \n",
    "        printMenu();\n",
    "        \n",
    "        /* Get user userSelection */\n",
    "        \n",
    "        /* perform action in the switch statement earlier */\n",
    "        userDecision(input, numOne, numTwo);\n",
    "        \n",
    "    } while(userSelection != 0);\n",
    "    \n",
    "}\n",
    "\n"
   ]
  },
  {
   "cell_type": "markdown",
   "metadata": {},
   "source": [
    "### 3.c. for loop (1 mark)\n",
    "\n",
    "For loops are used when the developer knows the number of iterations. Write a for loop to find the average of a list of floats, use the skeleton below and make sure to return a float."
   ]
  },
  {
   "cell_type": "code",
   "execution_count": null,
   "metadata": {
    "collapsed": true
   },
   "outputs": [],
   "source": [
    "%%file src/forLoop.c\n",
    "\n",
    "/***\n",
    "* Name:\n",
    "* Date:\n",
    "* Course:\n",
    "*\n",
    "* Description:\n",
    "***/\n",
    "\n",
    "\n",
    "float average(float numbers[], int length) {\n",
    "    float ave;\n",
    "    float sumNumbers = 0;\n",
    "    int i;\n",
    "    \n",
    "    for (i = 0 ; i < length ; i++)\n",
    "    {\n",
    "        sumNumbers += numbers[i];\n",
    "    }\n",
    "    ave = sumNumbers / length;\n",
    "    \n",
    "    return ave;\n",
    "}\n",
    "\n",
    "\n",
    "\n"
   ]
  },
  {
   "cell_type": "code",
   "execution_count": null,
   "metadata": {
    "collapsed": true
   },
   "outputs": [],
   "source": [
    "%%file include/lab2.h\n",
    "\n",
    "/***\n",
    "* Name:\n",
    "* Date:\n",
    "* Course:\n",
    "*\n",
    "* Description:\n",
    "***/\n",
    "\n",
    "\n",
    "#include<stdio.h>\n",
    "\n",
    "\n",
    "/***\n",
    "* Function prototype from \n",
    "***/\n",
    "\n",
    "\n",
    "/* ifElse.c */\n",
    "int newNumber(int oldNumber);\n",
    "\n",
    "\n",
    "/* switch.c files */\n",
    "int replaceZero(int numTwo);\n",
    "\n",
    "int userDecision(int userInput, int numOne, int numTwo);\n",
    "\n",
    "\n",
    "/* while.c */\n",
    "int absoluteValue(int value);\n",
    "\n",
    "int overflow(int dividend, int divisor);\n",
    "\n",
    "\n",
    "/* forLoop.c */\n",
    "float average(float numbers[], int length);\n",
    "\n"
   ]
  },
  {
   "cell_type": "code",
   "execution_count": null,
   "metadata": {
    "collapsed": true
   },
   "outputs": [],
   "source": [
    "%%file src/main.c\n",
    "/***\n",
    "* Name:\n",
    "* Date:\n",
    "* Course:\n",
    "*\n",
    "* Description:\n",
    "***/\n",
    "\n",
    "\n",
    "#include \"lab2.h\"\n",
    "\n",
    "\n",
    "int main(int argc, char *argv[]) {\n",
    "    /* average is 6.0 */\n",
    "    float aTestOne[] = {5.0, 6.0, 7.0};\n",
    "    \n",
    "    printf(\"Hello, World\\n\");\n",
    "    \n",
    "    printf(\"\\n*** If/else ***\\n\");\n",
    "    printf(\"This should be 1, %d\\n\", newNumber(0));\n",
    "    printf(\"This should be 21, %d\\n\", newNumber(-21));\n",
    "    printf(\"This should be 0, %d\\n\", newNumber(21));\n",
    "    printf(\"This should be 13, %d\\n\", newNumber(13));\n",
    "    \n",
    "    printf(\"\\n*** switch ***\\n\");\n",
    "    \n",
    "    printf(\"\\n*** while loop ***\\n\");\n",
    "    printf(\"overflow of 25/6 = %d, (should be %d)\\n\", overflow(25, 6), 5);\n",
    "    printf(\"overflow of -14/9 = %d, (should be %d)\\n\", overflow(-14, 9), 4);\n",
    "    \n",
    "    printf(\"\\n*** for loop ***\\n\");\n",
    "    \n",
    "    return 0;\n",
    "}\n",
    "\n",
    "\n"
   ]
  },
  {
   "cell_type": "code",
   "execution_count": null,
   "metadata": {
    "collapsed": true
   },
   "outputs": [],
   "source": [
    "%%bash\n",
    "pwd\n",
    "gcc -Wall -pedantic -ansi -Iinclude src/*.c -o bin/runMe\n",
    "./bin/runMe"
   ]
  },
  {
   "cell_type": "markdown",
   "metadata": {},
   "source": [
    "## 4. Functions (0 marks)\n",
    "\n",
    "There are many examples of using functions in this lab. Basically, there are a few important things to take note of. *There are no marks allocated for this section but it is very important to understand everything here before coding anything more difficult*.\n",
    "\n",
    "- To avoid implicit declaration, make sure you have prototyped the function before calling it. Typically, function prototypes are located in header files so they can be read by a compiler before any of the code in files that use the prototyped functions.\n",
    "- Variables passed to a function behave differently when the variable is a pointer, there will be more on this later.\n",
    "\n",
    "The code below shows the meaning of each part of a function signature. For the second function,\n",
    "- returns an <tt>int</tt>\n",
    "- has the function name <tt>functionExample</tt>\n",
    "- accepts a parameter <tt>paramOne</tt> as a data type of <tt>int</tt>\n",
    "- accepts a second parameter <tt>parameterTwo</tt> as a data type of <tt>char *</tt>"
   ]
  },
  {
   "cell_type": "code",
   "execution_count": null,
   "metadata": {
    "collapsed": true
   },
   "outputs": [],
   "source": [
    "returnDataType functionName(dataTypeOne parameterOne, dataTypeTwo parameterTwo);\n",
    "\n",
    "int functionExample(int paramOne, char *parameterTwo);"
   ]
  },
  {
   "cell_type": "markdown",
   "metadata": {},
   "source": [
    "## 5. Variable scope (1 mark)\n",
    "\n",
    "Some variables are only accessible while executing specific code. Global variables are often thought of as evil because the state of a system can be altered making functions execute differently when it isn't expected.\n",
    "\n",
    "There is also the issue of block scope. For an example of block scope, see the file below. Notice that you don't get an error because the code uses the correct syntax. Although the syntax is correct, you cannot access the variable \"<tt>val</tt>\" outside of the if/else statement. So any time you intend to use a variable, it can only accessed in code blocks nested deeper than the block it was declared in. It's generally good practice to use variables in the deepest block you can so variables aren't confused or unintentionally altered."
   ]
  },
  {
   "cell_type": "code",
   "execution_count": null,
   "metadata": {
    "collapsed": true
   },
   "outputs": [],
   "source": [
    "%%file src/scope.c\n",
    "\n",
    "/***\n",
    "* Name:\n",
    "* Date:\n",
    "* Course:\n",
    "*\n",
    "* Description:\n",
    "***/\n",
    "\n",
    "#include <stdio.h>\n",
    "\n",
    "/* Returns 1 if num is positive (> 0), 0 if num is negative or 0*/\n",
    "int isPositive(int num) {\n",
    "    int val;\n",
    "    \n",
    "    if(num > 0) {\n",
    "        int val = 1;\n",
    "    } else {\n",
    "        int val = 0;\n",
    "    }\n",
    "    \n",
    "    return val;\n",
    "}\n",
    "\n",
    "\n",
    "\n",
    "int main() {\n",
    "    \n",
    "    printf(\"%d\\n\", isPositive(6));\n",
    "    printf(\"%d\\n\", isPositive(-6));\n",
    "    \n",
    "    return 0;\n",
    "}\n",
    "\n",
    "\n"
   ]
  },
  {
   "cell_type": "code",
   "execution_count": null,
   "metadata": {
    "collapsed": true
   },
   "outputs": [],
   "source": [
    "%%bash\n",
    "gcc src/scope.c -o bin/testScope\n",
    "./bin/testScope"
   ]
  },
  {
   "cell_type": "markdown",
   "metadata": {},
   "source": [
    "Now that you have seen a runtime bug slip through the cracks, try adding the flags we normally use in this course to the code above to see what happens."
   ]
  },
  {
   "cell_type": "markdown",
   "metadata": {},
   "source": [
    "### 5.a. Fix the code below (1 mark)\n",
    "\n",
    "Fix the code below to properly display the result. The program contains a single block of code around the if/else statement. You can change the code however you want to display the correct result as long you don't change the function signature. i.e. parameters and return value\n",
    "\n",
    "**Don't code like this**, it's very difficult to read and predict behaviour because programmers easily confuse which variable is being accessed, thus varying the expected behaviour. This is just to demonstrate what you should avoid and why this is undesirable."
   ]
  },
  {
   "cell_type": "code",
   "execution_count": null,
   "metadata": {
    "collapsed": true
   },
   "outputs": [],
   "source": [
    "%%file src/scope.c\n",
    "\n",
    "/***\n",
    "* Name:\n",
    "* Date:\n",
    "* Course:\n",
    "*\n",
    "* Description:\n",
    "***/\n",
    "\n",
    "#include <stdio.h>\n",
    "\n",
    "\n",
    "/* Global variable, avoid using these! */\n",
    "int num = 6;\n",
    "\n",
    "\n",
    "/* Returns 1 if num is positive (> 0), 0 if num is negative or 0*/\n",
    "int isPositive(int num) {\n",
    "    int val;\n",
    "    \n",
    "    \n",
    "        /*extern int num;*/\n",
    "        \n",
    "        if(num > 0) {\n",
    "             val = 1;\n",
    "        } else {\n",
    "             val = 0;\n",
    "        }\n",
    "    \n",
    "    \n",
    "    return val;\n",
    "}\n",
    "\n",
    "\n",
    "\n"
   ]
  },
  {
   "cell_type": "code",
   "execution_count": null,
   "metadata": {
    "collapsed": true
   },
   "outputs": [],
   "source": [
    "%%file include/lab2.h\n",
    "\n",
    "/***\n",
    "* Name:\n",
    "* Date:\n",
    "* Course:\n",
    "*\n",
    "* Description:\n",
    "***/\n",
    "\n",
    "\n",
    "#include<stdio.h>\n",
    "\n",
    "\n",
    "/***\n",
    "* Function prototype\n",
    "***/\n",
    "\n",
    "\n",
    "/* ifElse.c */\n",
    "int newNumber(int oldNumber);\n",
    "\n",
    "\n",
    "/* switch.c files */\n",
    "int replaceZero(int numTwo);\n",
    "\n",
    "int userDecision(int userInput, int numOne, int numTwo);\n",
    "\n",
    "\n",
    "/* while.c */\n",
    "int absoluteValue(int value);\n",
    "\n",
    "int overflow(int dividend, int divisor);\n",
    "\n",
    "\n",
    "/* forLoop.c */\n",
    "float average(float numbers[], int length);\n",
    "\n",
    "\n",
    "/* scope.c */\n",
    "int isPositive(int num);\n",
    "\n"
   ]
  },
  {
   "cell_type": "code",
   "execution_count": null,
   "metadata": {
    "collapsed": true
   },
   "outputs": [],
   "source": [
    "%%file src/main.c\n",
    "\n",
    "/***\n",
    "* Name:\n",
    "* Date:\n",
    "* Course:\n",
    "*\n",
    "* Description:\n",
    "***/\n",
    "\n",
    "\n",
    "#include \"lab2.h\"\n",
    "\n",
    "int main(int argc, char *argv[]) {\n",
    "    /* average is 6.0 */\n",
    "    float aTestOne[] = {5.0, 6.0, 7.0};\n",
    "    \n",
    "    printf(\"Hello, World\\n\");\n",
    "    \n",
    "    printf(\"\\n*** If/else ***\\n\");\n",
    "    printf(\"This should be 1, %d\\n\", newNumber(0));\n",
    "    printf(\"This should be 21, %d\\n\", newNumber(-21));\n",
    "    printf(\"This should be 0, %d\\n\", newNumber(21));\n",
    "    printf(\"This should be 13, %d\\n\", newNumber(13));\n",
    "    \n",
    "    printf(\"\\n*** switch ***\\n\");\n",
    "    \n",
    "    printf(\"\\n*** while loop ***\\n\");\n",
    "    printf(\"overflow of 25/6 = %d, (should be %d)\\n\", overflow(25, 6), 5);\n",
    "    printf(\"overflow of -14/9 = %d, (should be %d)\\n\", overflow(-14, 9), 4);\n",
    "    \n",
    "    printf(\"\\n*** for loop ***\\n\");\n",
    "    \n",
    "    printf(\"\\n*** Variable scope ***\\n\");\n",
    "    \n",
    "    return 0;\n",
    "}\n",
    "\n"
   ]
  },
  {
   "cell_type": "code",
   "execution_count": null,
   "metadata": {
    "collapsed": true
   },
   "outputs": [],
   "source": [
    "%%bash\n",
    "gcc src/scope.c -o bin/testScope\n",
    "./bin/testScope"
   ]
  },
  {
   "cell_type": "markdown",
   "metadata": {},
   "source": [
    "## 6. Passing Variables"
   ]
  },
  {
   "cell_type": "markdown",
   "metadata": {},
   "source": [
    "### 6.a. Pass by Value (0 marks)\n",
    "\n",
    "The value of variable cannot be changed when passing a variable to another function. For an example, run the code below."
   ]
  },
  {
   "cell_type": "code",
   "execution_count": null,
   "metadata": {
    "collapsed": true,
    "scrolled": true
   },
   "outputs": [],
   "source": [
    "%%file src/swap.c\n",
    "\n",
    "/***\n",
    "* Name:\n",
    "* Date:\n",
    "* Course:\n",
    "*\n",
    "* Description:\n",
    "***/\n",
    "\n",
    "#include <stdio.h>\n",
    "\n",
    "\n",
    "void changeVal(int num) {\n",
    "    num = 13;\n",
    "}\n",
    "\n",
    "\n",
    "int changeReturn(int num) {\n",
    "    num = 13;\n",
    "    \n",
    "    return num;\n",
    "}\n",
    "\n",
    "\n",
    "\n",
    "int main() {\n",
    "    int test = 3;\n",
    "    \n",
    "    printf(\"%d\\n\", test);\n",
    "    changeVal(test);\n",
    "    printf(\"%d\\n\", test);\n",
    "    \n",
    "    printf(\"%d\\n\", test);\n",
    "    test = changeReturn(test);\n",
    "    printf(\"%d\\n\", test);\n",
    "    \n",
    "    return 0;\n",
    "}\n",
    "\n"
   ]
  },
  {
   "cell_type": "code",
   "execution_count": null,
   "metadata": {
    "collapsed": true
   },
   "outputs": [],
   "source": [
    "%%bash\n",
    "gcc -Wall -pedantic -ansi -Iinclude src/swap.c -o bin/swap\n",
    "./bin/swap"
   ]
  },
  {
   "cell_type": "markdown",
   "metadata": {},
   "source": [
    "### 6.b. Pass by Reference (2 marks)\n",
    "\n",
    "Pass by reference refers to how variables are passed in functions when using pointers in c. Pointers behave differently (pass by reference) unlike pass by value shown above, finish the code below to swap the value of two char* variables passed. This can be a little difficult when first learning the basics of programming, but stick with it and pointer manipulation will eventually make sense."
   ]
  },
  {
   "cell_type": "code",
   "execution_count": null,
   "metadata": {
    "collapsed": true
   },
   "outputs": [],
   "source": [
    "%%file src/swap.c\n",
    "\n",
    "/***\n",
    "* Name:\n",
    "* Date:\n",
    "* Course:\n",
    "*\n",
    "* Description:\n",
    "***/\n",
    "\n",
    "void swapString(char **varOne, char **varTwo) {\n",
    "    char *tempString = *varOne;\n",
    "    *varOne = *varTwo;\n",
    "    *varTwo = tempString;\n",
    "}\n",
    "\n"
   ]
  },
  {
   "cell_type": "code",
   "execution_count": null,
   "metadata": {
    "collapsed": true
   },
   "outputs": [],
   "source": [
    "%%file include/lab2.h\n",
    "\n",
    "/***\n",
    "* Name:\n",
    "* Date:\n",
    "* Course:\n",
    "*\n",
    "* Description:\n",
    "***/\n",
    "\n",
    "\n",
    "#include<stdio.h>\n",
    "\n",
    "\n",
    "/***\n",
    "* Function prototypes\n",
    "***/\n",
    "\n",
    "\n",
    "/* from ifElse.c */\n",
    "int newNumber(int oldNumber);\n",
    "\n",
    "\n",
    "/* switch.c files */\n",
    "int replaceZero(int numTwo);\n",
    "\n",
    "int userDecision(int userInput, int numOne, int numTwo);\n",
    "\n",
    "\n",
    "/* while.c */\n",
    "int absoluteValue(int value);\n",
    "\n",
    "int overflow(int dividend, int divisor);\n",
    "\n",
    "\n",
    "/* forLoop.c */\n",
    "float average(float numbers[], int length);\n",
    "\n",
    "\n",
    "/* scope.c */\n",
    "int isPositive(int num);\n",
    "\n",
    "\n",
    "/* swap.c */\n",
    "void swapString(char **varOne, char **varTwo);\n",
    "\n"
   ]
  },
  {
   "cell_type": "code",
   "execution_count": null,
   "metadata": {
    "collapsed": true
   },
   "outputs": [],
   "source": [
    "%%file src/main.c\n",
    "/***\n",
    "* Name:\n",
    "* Date:\n",
    "* Course:\n",
    "*\n",
    "* Description:\n",
    "***/\n",
    "\n",
    "\n",
    "#include \"lab2.h\"\n",
    "\n",
    "\n",
    "int main(int argc, char *argv[]) {\n",
    "    char *stringOne = \"String one!\";\n",
    "    char *stringTwo = \"String, the second!\";\n",
    "    \n",
    "    printf(\"Hello, World\\n\");\n",
    "    \n",
    "    printf(\"\\n*** If/else ***\\n\");\n",
    "    printf(\"This should be 1, %d\\n\", newNumber(0));\n",
    "    printf(\"This should be 21, %d\\n\", newNumber(-21));\n",
    "    printf(\"This should be 0, %d\\n\", newNumber(21));\n",
    "    printf(\"This should be 13, %d\\n\", newNumber(13));\n",
    "    \n",
    "    printf(\"\\n*** switch ***\\n\");\n",
    "    \n",
    "    printf(\"\\n*** while loop ***\\n\");\n",
    "    printf(\"overflow of 25/6 = %d, (should be %d)\\n\", overflow(25, 6), 5);\n",
    "    printf(\"overflow of -14/9 = %d, (should be %d)\\n\", overflow(-14, 9), 4);\n",
    "    \n",
    "    printf(\"\\n*** for loop ***\\n\");\n",
    "    \n",
    "    printf(\"\\n*** Variable scope ***\\n\");\n",
    "    \n",
    "    printf(\"\\n*** swap ***\\n\");\n",
    "    printf(\"swap \\\"%s\\\" with \\\"%s\\\"\\n\", stringOne, stringTwo);\n",
    "    swapString(&stringOne, &stringTwo);\n",
    "    printf(\"  stringOne = \\\"%s\\\" \\n\", stringOne);\n",
    "    printf(\"  stringTwo =\\\"%s\\\" \\n\", stringTwo);\n",
    "    \n",
    "    return 0;\n",
    "}\n",
    "\n"
   ]
  },
  {
   "cell_type": "markdown",
   "metadata": {},
   "source": [
    "I'm being lazy after compiling this many times. I am going to shorten everything by compiling all the c files in the src directory into a single exexutable using the \"<tt>src/\\*.c</tt>\" command to select all of the files. Before doing this you need to be sure that there is only one main function defined or the compiler will not be able to choose which main function to run."
   ]
  },
  {
   "cell_type": "code",
   "execution_count": null,
   "metadata": {
    "collapsed": true
   },
   "outputs": [],
   "source": [
    "%%bash\n",
    "gcc -Wall -pedantic -ansi -Iinclude src/*.c -o bin/runMe\n",
    "./bin/runMe"
   ]
  },
  {
   "cell_type": "markdown",
   "metadata": {},
   "source": [
    "### Congrats!\n",
    "\n",
    "You've made it through the second individual lab exercise <tt>Lab02.ipynb</tt>. Look at the top of this page for submission instructions."
   ]
  },
  {
   "cell_type": "code",
   "execution_count": null,
   "metadata": {
    "collapsed": true
   },
   "outputs": [],
   "source": []
  }
 ],
 "metadata": {
  "kernelspec": {
   "display_name": "Python 3",
   "language": "python",
   "name": "python3"
  },
  "language_info": {
   "codemirror_mode": {
    "name": "ipython",
    "version": 3
   },
   "file_extension": ".py",
   "mimetype": "text/x-python",
   "name": "python",
   "nbconvert_exporter": "python",
   "pygments_lexer": "ipython3",
   "version": "3.5.3"
  }
 },
 "nbformat": 4,
 "nbformat_minor": 2
}
