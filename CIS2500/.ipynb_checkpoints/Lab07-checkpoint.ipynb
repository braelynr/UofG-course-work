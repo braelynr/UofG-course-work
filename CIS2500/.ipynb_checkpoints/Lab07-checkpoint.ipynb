{
 "cells": [
  {
   "cell_type": "markdown",
   "metadata": {},
   "source": [
    "# Lab 07 - Linked List (12 marks total)\n",
    "\n",
    "This lab will involve allocating memory for a linked list and inserting nodes into the linked list. All nodes will store a string and the nodes will always be added to the front of the list. Finally, you must write a function to reverse the order of the nodes in a list. In this lab, you will be responsible for your own testing and compiling.\n",
    "\n",
    "1. Initialize and delete a linked list.\n",
    "2. Allocate memory for a list node and store a copy of the passed string.\n",
    "3. Add the node to the front of the linked list (push function).\n",
    "4. Reverse the order of the nodes.\n",
    "\n",
    "Again, you will be submitting this lab via git. Please have your submission in the lab07 directory of your git repository. Your username is your University of Guelph central ID login.\n",
    "\n",
    "https://username@git.socs.uoguelph.ca/cis2500/username/lab07\n",
    "\n",
    "\n",
    "**Deliverables**: Please submit the following in your lab07 directory via git. You **must** make sure that the files are located in your \"lab07\" directory.\n",
    "- In the lab07 directory include the following files,\n",
    "    - linkedList.c\n",
    "    \n",
    "    \n",
    "**Evaluation**: (12 marks)\n",
    "- Storing and maintaining a linked list. (12 marks)\n",
    "    - Initialize a single node from a passed string (2 mark)\n",
    "    - Add a \"<tt>push</tt>\" function to add a node to the front of the list (2 marks)\n",
    "    - Add a \"<tt>pop</tt>\" function to remove the first node of a linked list and return a pointer to said node (2 marks)\n",
    "    - Deleting Nodes (2 marks)\n",
    "        - Delete a single node and free any allocated memory from inside the node (1 mark)\n",
    "        - Delete te entire linked list, delete all nodes iteratively (1 mark)\n",
    "    - Reverse order of the linked list (4 marks)\n"
   ]
  },
  {
   "cell_type": "markdown",
   "metadata": {},
   "source": [
    "## 1. Setup Environment \n",
    "\n",
    "Please set up your environment the same way as last lab so your source files (.c) and header files (.h) are directly in the lab06 directory. You will be also be creating a .txt file that will be put in the \"docs\" directory."
   ]
  },
  {
   "cell_type": "code",
   "execution_count": 1,
   "metadata": {
    "collapsed": true
   },
   "outputs": [],
   "source": [
    "%%bash\n",
    "mkdir -p lab07\n",
    "mkdir -p lab07/objFiles\n",
    "mkdir -p lab07/docs"
   ]
  },
  {
   "cell_type": "code",
   "execution_count": 2,
   "metadata": {
    "collapsed": false
   },
   "outputs": [
    {
     "name": "stdout",
     "output_type": "stream",
     "text": [
      "Writing lab07/lab07.h\n"
     ]
    }
   ],
   "source": [
    "%%file lab07/lab07.h\n",
    "\n",
    "\n",
    "/*****\n",
    "* Standard Libraries\n",
    "*****/\n",
    "\n",
    "#include <stdio.h>\n",
    "#include <string.h>\n",
    "#include <stdlib.h>\n",
    "\n",
    "\n",
    "/*****\n",
    "* Self-defined Data Structures\n",
    "*****/\n",
    "\n",
    "/* The listNode data type for storing entries in a linked list */\n",
    "typedef struct listNode Node;\n",
    "struct listNode {\n",
    "    char *data;\n",
    "    Node *next;\n",
    "};\n",
    "\n",
    "\n",
    "/*****\n",
    "* Function Prototypes for linkedList.c\n",
    "*****/\n",
    "\n",
    "\n",
    "/***** Mandatory Functions *****/\n",
    "\n",
    "\n",
    "/* Mandatory: Frees all allocated memory associated with the list pointers iteratively */\n",
    "void deleteList(Node **list);\n",
    "\n",
    "/* Mandatory: Frees all allocated memory associated with a single node */\n",
    "void deleteNode(Node **toDelete);\n",
    "\n",
    "/* Mandatory: Allocates memory for a new string and returns a pointer to the memory */\n",
    "Node *newNode(char *string);\n",
    "\n",
    "/* Mandatory: Removes a node from the front of a list and returns a pointer to said node */\n",
    "Node *pop(Node **list);\n",
    "\n",
    "/* Mandatory: Adds a node to the front of a list */\n",
    "void push(Node **list, Node *toAdd);\n",
    "\n",
    "/* Mandatory: Return a list of pointers in order */\n",
    "void reverseOrder(Node **list);\n",
    "\n",
    "    \n",
    "    \n",
    "/***** Optional Functions *****/\n",
    "\n",
    "\n",
    "/* Optional: Prints the string stored in a single node */\n",
    "void printNode(Node *singleNode);\n",
    "\n",
    "/* Optional: Prints an entire linked list. Nodes are printed from first to last. */\n",
    "void printLinkedList(Node *linkedList);\n",
    "\n",
    "\n"
   ]
  },
  {
   "cell_type": "code",
   "execution_count": 3,
   "metadata": {
    "collapsed": false
   },
   "outputs": [
    {
     "name": "stdout",
     "output_type": "stream",
     "text": [
      "Writing lab07/main.c\n"
     ]
    }
   ],
   "source": [
    "%%file lab07/main.c\n",
    "\n",
    "\n",
    "#include \"lab07.h\"\n",
    "\n",
    "\n",
    "int main(int argc, char *argv[]) {\n",
    "    \n",
    "    printf(\"Hello, World\\n\");\n",
    "    \n",
    "    return 0;\n",
    "}\n",
    "\n"
   ]
  },
  {
   "cell_type": "code",
   "execution_count": 4,
   "metadata": {
    "collapsed": false
   },
   "outputs": [
    {
     "name": "stdout",
     "output_type": "stream",
     "text": [
      "Writing lab07/linkedList.c\n"
     ]
    }
   ],
   "source": [
    "%%file lab07/linkedList.c\n",
    "\n",
    "#include \"lab07.h\"\n",
    "\n"
   ]
  },
  {
   "cell_type": "code",
   "execution_count": 3,
   "metadata": {
    "collapsed": false
   },
   "outputs": [
    {
     "name": "stdout",
     "output_type": "stream",
     "text": [
      "Overwriting lab07/docs/testFile.txt\n"
     ]
    }
   ],
   "source": [
    "%%file lab07/docs/testFile.txt\n",
    "hola\n",
    "amigos\n",
    "hello\n",
    "world"
   ]
  },
  {
   "cell_type": "markdown",
   "metadata": {},
   "source": [
    "## 2. Compiling\n",
    "\n",
    "In this lab you are responsible for compiling your program. If you're unsure about how to compile, please review your previous labs/assignments. It's your decision how you compile, feel free to compile from the command line or using a makefile.\n",
    "\n",
    "**Required Flags**: \n",
    "- Wall\n",
    "- pedantic\n",
    "- ansi"
   ]
  },
  {
   "cell_type": "markdown",
   "metadata": {},
   "source": [
    "## 3. Reading into a LinkedList"
   ]
  },
  {
   "cell_type": "markdown",
   "metadata": {},
   "source": [
    "It is recommended that you write the program with a \"bottom up\" approach. This just means developing the smallest functions of the program first. This gives you the benefit of testing and debugging the most simple functions rather than trying to find errors in larger more complicated code. Modular programming also forces developers to plan solutions in depth and be more analytical about the expectations of data passed. This is unlike procedural programming, where many developers jump into development without a plan.\n",
    "\n",
    "This is not mandatory, but here is an example of a bottom up approach,\n",
    "\n",
    "1. Start by setting up the linked list testing. You will need choose how you will store/read strings into the linked list (i.e. command line arguments, hard coded strings, from a file).\n",
    "2. Write and test the newNode function to copy a string into a new node.\n",
    "3. Write the code to print a single node.\n",
    "4. Write code to delete a node.\n",
    "5. Add nodes (push) to a list and repeat steps 3 and 4 for a list.\n",
    "6. Now that you know it's all working, complete the reverseOrder function.\n",
    "\n",
    "*Hint*: <tt>NULL</tt> is your friend. Take advantage of setting pointers to NULL before allocating memory to point to, using <tt>NULL</tt> is normally helpful in the future."
   ]
  },
  {
   "cell_type": "code",
   "execution_count": 4,
   "metadata": {
    "collapsed": false
   },
   "outputs": [
    {
     "name": "stdout",
     "output_type": "stream",
     "text": [
      "Overwriting lab07/linkedList.c\n"
     ]
    }
   ],
   "source": [
    "%%file lab07/linkedList.c\n",
    "\n",
    "#include \"lab07.h\"\n",
    "\n",
    "/*****\n",
    "* Mandatory Functions\n",
    "*****/\n",
    "\n",
    "/* Mandatory: Frees all allocated memory associated with the list pointers iteratively */\n",
    "void deleteList(Node **list) {\n",
    "    \n",
    "    Node *item = *list;\n",
    "    \n",
    "    while(item != NULL)\n",
    "    {\n",
    "        deleteNode(&item);\n",
    "        item= item->next;\n",
    "    }\n",
    "\n",
    "\n",
    "}\n",
    "\n",
    "/* Mandatory: Frees all allocated memory associated with a single node */\n",
    "void deleteNode(Node **toDelete) {\n",
    "    /* need to free data inside */\n",
    "     free(item->data);\n",
    "    free(*toDelete);\n",
    "    \n",
    "}\n",
    "\n",
    "/* Mandatory: Allocates memory for a new string and returns a pointer to the memory. */\n",
    "Node *newNode(char *string) {\n",
    "    \n",
    "    Node *item = malloc(sizeof(Node));\n",
    "    item->data = malloc(strlen(string)+1);\n",
    "    \n",
    "    item->next = NULL;\n",
    "    strcpy(item->data, string);\n",
    "    \n",
    "    return item;\n",
    "    \n",
    "}\n",
    "\n",
    "/* Mandatory: Removes a node from the front of a list */\n",
    "Node *pop(Node **list) {\n",
    "\n",
    "    Node *item = *list;\n",
    "    \n",
    "    *list = item->next;\n",
    "    item->next = NULL;\n",
    "    \n",
    "    return item;\n",
    "}\n",
    "\n",
    "/* Mandatory: Adds a node to the front of a list */\n",
    "void push(Node **list, Node *toAdd) {\n",
    "\n",
    "    Node *item_ptr = toAdd;\n",
    "    \n",
    "    item_ptr->next = *list;\n",
    "    *list = item_ptr;\n",
    "}\n",
    "\n",
    "/* Mandatory: Return a list of pointers in order */\n",
    "void reverseOrder(Node **list) {\n",
    "    /* Hint: your solution should not need to allocate memory */\n",
    "    /* remember push and pop... */\n",
    "    Node *item;\n",
    "    Node *ptr_List;\n",
    "    Node *new_List;\n",
    "    \n",
    "    ptr_List = *list;\n",
    "    while(ptr_List)\n",
    "    {\n",
    "        item = pop(&ptr_List);\n",
    "        push(&new_List, item);\n",
    "    }\n",
    "    \n",
    "    *list = new_List;\n",
    "\n",
    "}\n",
    "\n",
    "\n",
    "/*****\n",
    "* Optional Functions\n",
    "*****/\n",
    "\n",
    "\n",
    "/* Optional: Prints the string stored in a single node */\n",
    "void printNode(Node *singleNode) \n",
    "{\n",
    "    printf(\"%s\\n\", singleNode->data);\n",
    "}\n",
    "\n",
    "/* Optional: Prints an entire linked list. Nodes are printed from first to last. */\n",
    "void printLinkedList(Node *linkedList) \n",
    "{\n",
    "    while (linkedList)\n",
    "    {\n",
    "        printNode(linkedList);\n",
    "        linkedList = linkedList->next;\n",
    "    }\n",
    "}\n"
   ]
  },
  {
   "cell_type": "code",
   "execution_count": 5,
   "metadata": {
    "collapsed": false
   },
   "outputs": [
    {
     "name": "stdout",
     "output_type": "stream",
     "text": [
      "Overwriting lab07/main.c\n"
     ]
    }
   ],
   "source": [
    "%%file lab07/main.c\n",
    "\n",
    "\n",
    "#include \"lab07.h\"\n",
    "\n",
    "int main(int argc, char *argv[]){\n",
    "    \n",
    "   Node *item_ptr, *list_ptr;\n",
    "    char *buffer;  \n",
    "    char *fileName;\n",
    "    FILE *fp;\n",
    "    \n",
    "    list_ptr = NULL;\n",
    "\n",
    "    \n",
    "    if(argc < 1)\n",
    "    {\n",
    "        printf(\"No file name was specificed... Now exiting \\n\");\n",
    "        exit(0);\n",
    "    }\n",
    "    else\n",
    "    {   \n",
    "        fileName = argv[1];\n",
    "        fp = fopen(fileName,\"r\");\n",
    "        if(fp == NULL)\n",
    "    \n",
    "        {\n",
    "            exit(-1);\n",
    "        }\n",
    "        \n",
    "    buffer = malloc(60);\n",
    "    /* new_node and and push*/\n",
    "    while(fgets(buffer,60,fp) != NULL)\n",
    "    {\n",
    "        item_ptr = newNode(buffer); \n",
    "        push( &list_ptr, item_ptr ); \n",
    "        printf(\"%s\\n\",item_ptr->data);\n",
    "    }\n",
    "    \n",
    "    printf(\"Org list is: \\n\");\n",
    "    printLinkedList(list_ptr);\n",
    "    \n",
    "    \n",
    "    printf(\"\\n\");\n",
    "    printf(\"rev list is: \\n\");\n",
    "    reverseOrder(&list_ptr); \n",
    "    printLinkedList(list_ptr);\n",
    "    \n",
    "    /* delete list and delete node */\n",
    "    deleteList( &list_ptr );\n",
    "\n",
    "    printf( \"\\n\" );\n",
    "    }\n",
    "    \n",
    "    return 0;\n",
    "}\n",
    "\n"
   ]
  },
  {
   "cell_type": "code",
   "execution_count": 1,
   "metadata": {
    "collapsed": false
   },
   "outputs": [
    {
     "name": "stdout",
     "output_type": "stream",
     "text": [
      "hola\n",
      "\n",
      "amigos\n",
      "\n",
      "hello\n",
      "\n",
      "world\n",
      "Org list is: \n",
      "world\n",
      "hello\n",
      "\n",
      "amigos\n",
      "\n",
      "hola\n",
      "\n",
      "\n",
      "rev list is: \n",
      "hola\n",
      "\n",
      "amigos\n",
      "\n",
      "hello\n",
      "\n",
      "world\n",
      "\n"
     ]
    }
   ],
   "source": [
    "%%bash\n",
    "gcc -Wall -pedantic -Ilab07 -ansi lab07/main.c lab07/linkedList.c -o lab07/runMe\n",
    "./lab07/runMe lab07/docs/testFile.txt"
   ]
  },
  {
   "cell_type": "code",
   "execution_count": 35,
   "metadata": {
    "collapsed": false
   },
   "outputs": [
    {
     "name": "stderr",
     "output_type": "stream",
     "text": [
      "UsageError: %%bash is a cell magic, but the cell body is empty.\n"
     ]
    }
   ],
   "source": [
    "%%bash\n"
   ]
  },
  {
   "cell_type": "markdown",
   "metadata": {},
   "source": [
    "### Congrats!\n",
    "\n",
    "You've made it through the second individual lab exercise <tt>Lab07.ipynb</tt>. Look at the top of this page for submission instructions."
   ]
  },
  {
   "cell_type": "code",
   "execution_count": null,
   "metadata": {
    "collapsed": true
   },
   "outputs": [],
   "source": []
  }
 ],
 "metadata": {
  "kernelspec": {
   "display_name": "Python 3",
   "language": "python",
   "name": "python3"
  },
  "language_info": {
   "codemirror_mode": {
    "name": "ipython",
    "version": 3
   },
   "file_extension": ".py",
   "mimetype": "text/x-python",
   "name": "python",
   "nbconvert_exporter": "python",
   "pygments_lexer": "ipython3",
   "version": "3.5.3"
  }
 },
 "nbformat": 4,
 "nbformat_minor": 2
}
