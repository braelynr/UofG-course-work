{
 "cells": [
  {
   "cell_type": "markdown",
   "metadata": {},
   "source": [
    "# Lesson 01 - Introduction to writing C programs with Jupyter\n",
    "\n",
    "In this notebook, we will learn how to use Jupyter with C and how to use it as a learning medium."
   ]
  },
  {
   "cell_type": "markdown",
   "metadata": {},
   "source": [
    "## Hello Jupyter\n",
    "In the previous Notebook, we learnt how to create files from within a Jupyter cell.  In the cell below, use that knowledge to create a file called \"<tt>hello.c</tt>\".  Your file should contain the classic \"<tt>hello, world</tt>\" program.  Note that, the first question of the final exam will ask you to write a single, complete program that compiles without errors or warnings.  Here's a chance to practise.  Can you do it without looking up an answer:"
   ]
  },
  {
   "cell_type": "code",
   "execution_count": null,
   "metadata": {
    "collapsed": true
   },
   "outputs": [],
   "source": [
    "%%file hello.c \n",
    "#include <stdio.h>\n",
    "\n",
    "int main()\n",
    "{\n",
    "    printf(\"hello, world\\n\");\n",
    "}"
   ]
  },
  {
   "cell_type": "markdown",
   "metadata": {},
   "source": [
    "Ok, if it says \"<tt>Writing hello.c</tt>\" or \"<tt>Overwriting hello.c</tt>\", the file has been created.\n",
    "\n",
    "Now let's try compiling it.  The compiler on our systems is called \"<tt>gcc</tt>\".  So everywhere in the textbook where it says \"<tt>cc</tt>\", just use \"<tt>gcc</tt>\" instead."
   ]
  },
  {
   "cell_type": "code",
   "execution_count": null,
   "metadata": {
    "collapsed": true
   },
   "outputs": [],
   "source": [
    "%%bash\n",
    "gcc hello.c -o hello"
   ]
  },
  {
   "cell_type": "markdown",
   "metadata": {},
   "source": [
    "What happended?  Let's look at the files..."
   ]
  },
  {
   "cell_type": "code",
   "execution_count": null,
   "metadata": {
    "collapsed": true
   },
   "outputs": [],
   "source": [
    "%%bash\n",
    "ls"
   ]
  },
  {
   "cell_type": "markdown",
   "metadata": {},
   "source": [
    "We can see the original source code file \"<tt>hello.c</tt>\", and the executable program file \"<tt>hello</tt>\" (and this python notebook).\n",
    "\n",
    "Now we can run the executable."
   ]
  },
  {
   "cell_type": "code",
   "execution_count": null,
   "metadata": {
    "collapsed": true
   },
   "outputs": [],
   "source": [
    "%%bash\n",
    "./hello"
   ]
  },
  {
   "cell_type": "markdown",
   "metadata": {},
   "source": [
    "Note that the \"<tt>./</tt>\" before the \"<tt>hello</tt>\" tells the operating system to look for the \"<tt>hello</tt>\" program in the current directory.  This makes sure that you run your new \"<tt>hello</tt>\" program as opposed to some other \"<tt>hello</tt>\" program that may already exist within the operating system."
   ]
  },
  {
   "cell_type": "code",
   "execution_count": null,
   "metadata": {
    "collapsed": true
   },
   "outputs": [],
   "source": []
  },
  {
   "cell_type": "markdown",
   "metadata": {},
   "source": [
    "It actually turns out that there are quite a few variants of the C programming language.  Some of these are entirely different languages like C++, C#, Objective-C, while others are more like dialects of the C language.\n",
    "\n",
    "For this course we will be using a specific dialect of the C language called ANSI C (which was standardized by the American National Standards Institute in 1983).  As you can tell from that date, this is a very old language.  There will be some features of more modern dialects of C that you may wish were available in the ANSI C language, but it is good practise to get used to having to program in a language that might not be your own personal first choice, since in almost all jobs, you will not get to pick your programming language.\n",
    "\n",
    "Sometimes students get annoyed that we aren't using a different language that is the ultimate power in the programming language universe and question my sad devotion to that ancient language<a href=\"https://www.youtube.com/watch?v=6p4T7_XI7WM\">.</a>\n",
    "\n",
    "The \"<tt>gcc</tt>\" compiler is capable of working with a variety of dialects, but for this course will will always use ANSI C.  In order to tell <tt>gcc</tt> to use the ANSI dialect we use the \"<tt>-ansi</tt>\" flag to the compiler."
   ]
  },
  {
   "cell_type": "code",
   "execution_count": null,
   "metadata": {
    "collapsed": true
   },
   "outputs": [],
   "source": [
    "%%bash\n",
    "gcc -ansi hello.c -o hello"
   ]
  },
  {
   "cell_type": "markdown",
   "metadata": {},
   "source": [
    "It turns out that the C programming standard is actually very lenient.  That is, you can write all kinds of bad programs and the system will do its best to make them run.  But, for learning this is a very bad idea, because it allows us to pick up all kinds of bad habits and write very sloppy code.  For this reason, we will be using two more flags to help write careful and precise code \"<tt>-Wall</tt>\" and \"<tt>-pedantic</tt>\".  These flags cause the compiler to <b>W</b>arn us about <b>all</b> sloppy programming and to be as <b>pedantic</b> as possible. "
   ]
  },
  {
   "cell_type": "code",
   "execution_count": null,
   "metadata": {
    "collapsed": true
   },
   "outputs": [],
   "source": [
    "%%bash\n",
    "gcc -ansi -Wall -pedantic hello.c -o hello"
   ]
  },
  {
   "cell_type": "markdown",
   "metadata": {},
   "source": [
    "Trying to compile this code shows that the example \"<tt>hello, world</tt>\" program (which is taken directly from the textbook), even contains some sloppy code (gasp!).\n",
    "\n",
    "This is a good chance to see a compiler warning and fix it.\n",
    "\n",
    "Let's read the message carefully.\n",
    "\n",
    "<tt>hello.c: In function ‘main’:</tt>\n",
    "\n",
    "This tells us that the warning is generated by the code in the <tt>hello.c</tt> file, within the function <tt>main</tt>.\n",
    "\n",
    "<tt>hello.c:6:1: warning: control reaches end of non-void function [-Wreturn-type]</tt>\n",
    "\n",
    "This tells us the precise location where the problem is detected and what is wrong.  \n",
    "\n",
    "One thing that can be a little tricky is that problems aren't always detected where they occur; sometimes the error is located before the point at which it is detected (more on that later).  In this case it tells us that the error is detected on line 6, at character 1.  If you look at the original code (at the very top of this page), and remember that the first line that says \"<tt>%%file hello.c</tt>\" doesn't count as one of the lines, we can see that the problem is detected when the compiler gets to the \"<tt>}</tt>\" character.\n",
    "\n",
    "Next, we see that this is a \"<tt>warning:</tt>\" (as opposed to an \"<tt>error</tt>\", so you can still run the code).  And then it tells us what the compiler thinks is wrong: \"<tt>control reaches end of non-void function</tt>\" and that this is a \"<tt>return-type</tt>\" warning.\n",
    "\n",
    "Looking carefully at the code, you will see that the \"<tt>main</tt>\" function is declared as a function that returns an integer \"<tt>int main()</tt>\"; well, to be precise it is declared as a function that <b>should</b> return an integer.  But, the function doesn't have any return statement at all!  How sloppy.\n",
    "\n",
    "Let's fix that!\n",
    "\n",
    "Modify the code below to return the integer <tt>0</tt> (zero).  There is a standard in UNIX-based operating systems that programs that work correctly should return a value of 0, while programs that encounter run-time errors should return a value other than 0.  This allows the operating system to detect whether your program worked or not, which is very useful if you script together multiple programs and don't want the later programs to keep going if one of the earlier programs fails."
   ]
  },
  {
   "cell_type": "code",
   "execution_count": null,
   "metadata": {
    "collapsed": true
   },
   "outputs": [],
   "source": [
    "%%file hello.c \n",
    "#include <stdio.h>\n",
    "\n",
    "int main()\n",
    "{\n",
    "    printf(\"hello, world\\n\");\n",
    "}"
   ]
  },
  {
   "cell_type": "markdown",
   "metadata": {},
   "source": [
    "And compile it again with the same flags, but no errors."
   ]
  },
  {
   "cell_type": "code",
   "execution_count": null,
   "metadata": {
    "collapsed": true
   },
   "outputs": [],
   "source": [
    "%%bash\n",
    "gcc -Wall -ansi -pedantic hello.c -o hello"
   ]
  },
  {
   "cell_type": "markdown",
   "metadata": {},
   "source": [
    "Make sure to be careful about the line above, especially the <tt>-o</tt> option.  If you don't include it, the compiler will think that you want to use \"<tt>hello</tt>\" as an input (source code file), eventhough it is a complied program.  Look what happens:"
   ]
  },
  {
   "cell_type": "code",
   "execution_count": null,
   "metadata": {
    "collapsed": true
   },
   "outputs": [],
   "source": [
    "%%bash\n",
    "gcc -Wall -ansi -pedantic hello.c hello"
   ]
  },
  {
   "cell_type": "markdown",
   "metadata": {},
   "source": [
    "This is an example of something that you will probably learn to hate about C:  the compiler assumes that you mean exactly what you say, even if it doesn't really make much sense (you will see many more examples of this as we proceed in the course).  This makes C programming a very frustrating experience.\n",
    "\n",
    "There is one major upside to this, however.  As you learn to program in C, you will learn to be very careful and precise.  You have to; there is no choice.  There are languages that are much more \"forgiving\" and try much harder to help figure out what you mean (rather than taking everything so literally).  It would be a much more pleasant experience for you to learn to program in these languages.\n",
    "\n",
    "But, it is much harder to learn to be careful and precise later, than it is to develop these habits from the start.  Specifically, to be <b>forced</b> to develop these habits from the start.  For this reason, it actually makes a lot of sense to learn programming in such a demanding environment.\n",
    "\n",
    "Don't let the frustration get the better of you.  Don't think that C is a stupid language and that in the future life will be better because you can program in an easier, \"softer\" language.  Don't blame the language for the difficulties that you will encounter.  And don't think that it's impossible.\n",
    "\n",
    "Instead, know that everything (every error message, every program failure) happens for a reason.  And, that if you understand that reason, will you will really get to know the machine and how to approach programming.  You will hone your abilities.  And you will become strong with the code."
   ]
  },
  {
   "cell_type": "code",
   "execution_count": null,
   "metadata": {
    "collapsed": true
   },
   "outputs": [],
   "source": []
  }
 ],
 "metadata": {
  "kernelspec": {
   "display_name": "Python 3",
   "language": "python",
   "name": "python3"
  },
  "language_info": {
   "codemirror_mode": {
    "name": "ipython",
    "version": 3
   },
   "file_extension": ".py",
   "mimetype": "text/x-python",
   "name": "python",
   "nbconvert_exporter": "python",
   "pygments_lexer": "ipython3",
   "version": "3.5.3"
  }
 },
 "nbformat": 4,
 "nbformat_minor": 2
}
