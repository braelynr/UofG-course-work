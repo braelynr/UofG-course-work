{
 "cells": [
  {
   "cell_type": "markdown",
   "metadata": {},
   "source": [
    "In this lesson we will be exploring linked lists.  We will use strings as an example, but the normal C implementation of strings is pretty good.\n",
    "\n",
    "Always remember that arrays may be a better alternative to linked lists.\n",
    "\n",
    "In particular, implementing strings as liked lists is very inefficient (9-16 bytes per character), lots of operations to access the characters (especially near the back of the string), etc.\n",
    "\n",
    "But, it is a simple example that will show us a lot about dynamic memory allocation with pointers."
   ]
  },
  {
   "cell_type": "markdown",
   "metadata": {},
   "source": [
    "A linked list is a simple dynamic memory structure that uses structures and pointers.  This is the general set-up."
   ]
  },
  {
   "cell_type": "code",
   "execution_count": null,
   "metadata": {
    "collapsed": false
   },
   "outputs": [],
   "source": [
    "%%file linked_list.h\n",
    "struct linked_list_struct\n",
    "{\n",
    "    /* data */\n",
    "    struct linked_list_struct *ptr;  /* points to the next item in the list */\n",
    "};\n",
    "\n"
   ]
  },
  {
   "cell_type": "markdown",
   "metadata": {},
   "source": [
    "For our example we will work with linked lists of characters.  I.e. the data, in the example above, will be a single character."
   ]
  },
  {
   "cell_type": "markdown",
   "metadata": {},
   "source": [
    "Here's our structure:"
   ]
  },
  {
   "cell_type": "code",
   "execution_count": null,
   "metadata": {
    "collapsed": false
   },
   "outputs": [],
   "source": [
    "%%file strlst.h\n",
    "#ifndef STRLST_H\n",
    "#define STRLST_H\n",
    "struct strlst_struct\n",
    "{\n",
    "    char *character;\n",
    "    struct strlst_struct *next;\n",
    "};\n",
    "\n",
    "struct strlst_struct *new_item( char character );\n",
    "/* Return a pointer to a newly allocated item whose character attribute\n",
    "   is set to character and whose next pointer is NULL.\n",
    "*/\n",
    "\n",
    "char free_item( struct strlst_struct *ptr );\n",
    "/* Free the memory pointed to by the ptr and return the character \n",
    "   attribute in the structure that ptr points to.\n",
    "*/\n",
    "\n",
    "void push( struct strlst_struct **list_ptr, \n",
    "           struct strlst_struct *item_ptr );\n",
    "/* Add the item pointed to by item_ptr to the beginning of the list \n",
    "   pointed to by list_ptr.\n",
    "*/\n",
    "\n",
    "struct strlst_struct *pop( struct strlst_struct **list_ptr );\n",
    "/* Remove the first item from the list pointed to by list_ptr and return\n",
    "   a pointer to it.  Set its next pointer to NULL.\n",
    "*/\n",
    "#endif"
   ]
  },
  {
   "cell_type": "code",
   "execution_count": null,
   "metadata": {
    "collapsed": false
   },
   "outputs": [],
   "source": [
    "%%file new_item.c\n",
    "struct strlst_struct *new_item( char character )\n",
    "/* Return a pointer to a newly allocated item whose character attribute\n",
    "   is set to character and whose next pointer is NULL.\n",
    "*/\n",
    "{\n",
    "    \n",
    "}"
   ]
  },
  {
   "cell_type": "code",
   "execution_count": null,
   "metadata": {
    "collapsed": false
   },
   "outputs": [],
   "source": [
    "%%file free_item.c\n",
    "char free_item( struct strlst_struct *ptr )\n",
    "/* Free the memory pointed to by the ptr and return the character \n",
    "   attribute in the structure that ptr points to.\n",
    "*/\n",
    "{\n",
    "    \n",
    "}"
   ]
  },
  {
   "cell_type": "code",
   "execution_count": null,
   "metadata": {
    "collapsed": false
   },
   "outputs": [],
   "source": [
    "%%file push.c\n",
    "void push( struct strlst_struct **list_ptr, \n",
    "           struct strlst_struct *item_ptr )\n",
    "/* Add the item pointed to by item_ptr to the beginning of the list \n",
    "   pointed to by list_ptr.\n",
    "*/\n",
    "{\n",
    "    \n",
    "}"
   ]
  },
  {
   "cell_type": "code",
   "execution_count": null,
   "metadata": {
    "collapsed": false
   },
   "outputs": [],
   "source": [
    "%%file pop.c\n",
    "struct strlst_struct *pop( struct strlst_struct **list_ptr )\n",
    "/* Remove the first item from the list pointed to by list_ptr and return\n",
    "   a pointer to it.  Set its next pointer to NULL.\n",
    "*/\n",
    "{\n",
    "    \n",
    "}"
   ]
  },
  {
   "cell_type": "code",
   "execution_count": null,
   "metadata": {
    "collapsed": false
   },
   "outputs": [],
   "source": [
    "%%file main.c\n",
    "#include \"strlst.h\"\n",
    "#include <stdlib.h>\n",
    "#include <stdio.h>\n",
    "\n",
    "int main()\n",
    "{\n",
    "    char letter;\n",
    "    char *string = \"dlrow olleh\\n\";\n",
    "    struct strlst_struct *item_ptr, *list_ptr;\n",
    "    \n",
    "    list_ptr = NULL;\n",
    "    \n",
    "    for (;*string;string++)\n",
    "    {\n",
    "        item_ptr = new_item( *string );\n",
    "        push( &list_ptr, item_ptr );\n",
    "    }\n",
    "    \n",
    "    while (list_ptr)\n",
    "    {\n",
    "        item_ptr = pop( &list_ptr );\n",
    "        letter = free_item( item_ptr );\n",
    "        printf( \"%c\", letter );\n",
    "    }\n",
    "    printf( \"\\n\" );\n",
    "    \n",
    "    return 0;\n",
    "}"
   ]
  },
  {
   "cell_type": "code",
   "execution_count": null,
   "metadata": {
    "collapsed": false
   },
   "outputs": [],
   "source": [
    "print(\"\\t\");"
   ]
  },
  {
   "cell_type": "code",
   "execution_count": null,
   "metadata": {
    "collapsed": false
   },
   "outputs": [],
   "source": [
    "%%file makefile\n",
    "list: main.o new_item.o free_item.o push.o pop.o\n",
    "\tgcc -Wall -ansi -pedantic main.o new_item.o free_item.o push.o pop.o -o list\n",
    "    \n",
    "main.o: main.c strlst.h\n",
    "\tgcc -Wall -ansi -pedantic -c main.c -o main.o\n",
    "    \n",
    "new_item.o: new_item.c strlst.h\n",
    "\tgcc -Wall -ansi -pedantic -c new_item.c -o new_item.o\n",
    "\n",
    "free_item.o: free_item.c strlst.h\n",
    "\tgcc -Wall -ansi -pedantic -c free_item.c -o free_item.o\n",
    "\n",
    "push.o: push.c strlst.h\n",
    "\tgcc -Wall -ansi -pedantic -c push.c -o push.o\n",
    "\n",
    "pop.o: pop.c strlst.h\n",
    "\tgcc -Wall -ansi -pedantic -c pop.c -o pop.o\n",
    "\n",
    "    "
   ]
  },
  {
   "cell_type": "code",
   "execution_count": null,
   "metadata": {
    "collapsed": false
   },
   "outputs": [],
   "source": [
    "%%bash\n",
    "make"
   ]
  },
  {
   "cell_type": "code",
   "execution_count": null,
   "metadata": {
    "collapsed": true
   },
   "outputs": [],
   "source": []
  }
 ],
 "metadata": {
  "kernelspec": {
   "display_name": "Python 3",
   "language": "python",
   "name": "python3"
  },
  "language_info": {
   "codemirror_mode": {
    "name": "ipython",
    "version": 3
   },
   "file_extension": ".py",
   "mimetype": "text/x-python",
   "name": "python",
   "nbconvert_exporter": "python",
   "pygments_lexer": "ipython3",
   "version": "3.5.3"
  }
 },
 "nbformat": 4,
 "nbformat_minor": 2
}
