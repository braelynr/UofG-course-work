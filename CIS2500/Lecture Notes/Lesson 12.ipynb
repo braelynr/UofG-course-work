{
 "cells": [
  {
   "cell_type": "markdown",
   "metadata": {},
   "source": [
    "## Abstration, interfaces, modularity, function pointers, lists and arrays\n",
    "\n",
    "In this lesson, we will look a these topics.\n",
    "\n",
    "Suppose that we want to have a list of things, and that the list should be maintained in some order.  We will add items to the list one at a time.  We will want to be able to access and item by its position (index) in the list.  We will want to be able to find an item in the list and determine its position (index).\n",
    "\n",
    "There are different ways to implement this list.  We could do it with an array.  We could do it with a linked list. \n",
    "\n",
    "We will abstract the implementation and provide a unified interface (set of functions that we can use to interact with this data type).  We will do this by using function pointers.\n",
    "\n",
    "Consider the following general ordered list definition:"
   ]
  },
  {
   "cell_type": "code",
   "execution_count": 1,
   "metadata": {
    "collapsed": false
   },
   "outputs": [
    {
     "name": "stdout",
     "output_type": "stream",
     "text": [
      "Writing gol.h\n"
     ]
    }
   ],
   "source": [
    "%%file gol.h\n",
    "/* General Ordered List - gol */\n",
    "\n",
    "struct gol_struct {\n",
    "  void *data;\n",
    "  int (*cmp)( const void *item1, const void *item2 );\n",
    "  void (*add)( struct gol_struct *ol, void *data, int size );\n",
    "  void *(*getitem)( struct gol_struct *ol, int index );\n",
    "  int (*find)( struct gol_struct *ol, void *data );\n",
    "  void (*del)( struct gol_struct *ol );\n",
    "};\n",
    "\n"
   ]
  },
  {
   "cell_type": "markdown",
   "metadata": {},
   "source": [
    "And a main function to use it:"
   ]
  },
  {
   "cell_type": "code",
   "execution_count": 2,
   "metadata": {
    "collapsed": false
   },
   "outputs": [
    {
     "name": "stdout",
     "output_type": "stream",
     "text": [
      "Overwriting main.c\n"
     ]
    }
   ],
   "source": [
    "%%file main.c\n",
    "#include \"lol.h\"\n",
    "\n",
    "#include <stdio.h>\n",
    "#include <string.h>\n",
    "\n",
    "int cmp( const void *a, const void *b )\n",
    "{\n",
    "  const char *a_ptr;\n",
    "  const char *b_ptr;\n",
    "\n",
    "  a_ptr = a;\n",
    "  b_ptr = b;\n",
    "\n",
    "  return (*a_ptr) - (*b_ptr);\n",
    "}\n",
    "\n",
    "\n",
    "int main()\n",
    "{\n",
    "  char *letter;\n",
    "  char *letters = \"The quick brown fox jumped over the lazy dogs.\";\n",
    "\n",
    "  struct gol_struct *gol;\n",
    "\n",
    "  int i;\n",
    "\n",
    "  gol = LinkedOrderedList( cmp );\n",
    "\n",
    "  for (letter=letters;*letter;letter++)\n",
    "  {\n",
    "    gol->add( gol, letter, sizeof(char) );\n",
    "  }\n",
    "\n",
    "  for (i=0;i<strlen(letters);i++)\n",
    "  {\n",
    "    printf( \"%c\", *(char *)(gol->getitem( gol, i )) );\n",
    "  }\n",
    "  printf( \"\\n\" );\n",
    "\n",
    "  printf( \"%d\\n\", gol->find( gol, \"m\" ) );\n",
    "  printf( \"%c\\n\", *(char *)(gol->getitem( gol, gol->find( gol, \"m\" ) ) ) );\n",
    "\n",
    "  gol->del( gol );\n",
    "\n",
    "  return 0;\n",
    "}"
   ]
  },
  {
   "cell_type": "markdown",
   "metadata": {},
   "source": [
    "With the following makefile:"
   ]
  },
  {
   "cell_type": "code",
   "execution_count": 3,
   "metadata": {
    "collapsed": false
   },
   "outputs": [
    {
     "name": "stdout",
     "output_type": "stream",
     "text": [
      "Overwriting makefile\n"
     ]
    }
   ],
   "source": [
    "%%file makefile\n",
    "all:  lists\n",
    "\n",
    "lists: lol.o main.o\n",
    "\tgcc -Wall -pedantic lol.o main.o -o lists\n",
    "\n",
    "lol.o:  lol.c lol.h gol.h\n",
    "\tgcc -ansi -Wall -pedantic -c lol.c -o lol.o\n",
    "\n",
    "main.o:  main.c lol.h gol.h\n",
    "\tgcc -ansi -Wall -pedantic -c main.c -o main.o\n"
   ]
  },
  {
   "cell_type": "code",
   "execution_count": 6,
   "metadata": {
    "collapsed": false
   },
   "outputs": [
    {
     "name": "stdout",
     "output_type": "stream",
     "text": [
      "Writing lol.h\n"
     ]
    }
   ],
   "source": [
    "%%file lol.h\n",
    "/* lol.h - linked ordered list - header file */"
   ]
  },
  {
   "cell_type": "code",
   "execution_count": 7,
   "metadata": {
    "collapsed": false
   },
   "outputs": [
    {
     "name": "stdout",
     "output_type": "stream",
     "text": [
      "Writing lol.c\n"
     ]
    }
   ],
   "source": [
    "%%file lol.c\n",
    "/* lol.c - linked ordered list - c file */"
   ]
  },
  {
   "cell_type": "code",
   "execution_count": null,
   "metadata": {
    "collapsed": false,
    "scrolled": true
   },
   "outputs": [],
   "source": [
    "%%bash\n",
    "make"
   ]
  },
  {
   "cell_type": "code",
   "execution_count": null,
   "metadata": {
    "collapsed": true
   },
   "outputs": [],
   "source": [
    "%%bash\n",
    "./lists"
   ]
  }
 ],
 "metadata": {
  "kernelspec": {
   "display_name": "Python 3",
   "language": "python",
   "name": "python3"
  },
  "language_info": {
   "codemirror_mode": {
    "name": "ipython",
    "version": 3
   },
   "file_extension": ".py",
   "mimetype": "text/x-python",
   "name": "python",
   "nbconvert_exporter": "python",
   "pygments_lexer": "ipython3",
   "version": "3.5.3"
  }
 },
 "nbformat": 4,
 "nbformat_minor": 2
}
