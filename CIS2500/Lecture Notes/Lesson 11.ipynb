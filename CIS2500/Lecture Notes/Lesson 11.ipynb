{
 "cells": [
  {
   "cell_type": "markdown",
   "metadata": {},
   "source": [
    "## Three loops and a function...\n",
    "walk into a bar...\n",
    "\n",
    "The C programming language, like most programming lnaguages defines two important control structures:  branches and loops.\n",
    "\n",
    "Branches allow our code to do different instructions based on a condition, while loops allow us to repeatly do the same thing (not exactly the same thing, but some variations of and abstraction of something).\n",
    "\n",
    "Three are three kinds of loops.  They all allow us to repeat things.  There is a third way to do things repeatly:  recursion.\n",
    "\n",
    "All of these 4 kinds of repetition are versatile enough to accomplish any task, but some are more suited to others."
   ]
  },
  {
   "cell_type": "markdown",
   "metadata": {},
   "source": [
    "## do ... while"
   ]
  },
  {
   "cell_type": "code",
   "execution_count": 1,
   "metadata": {
    "collapsed": false
   },
   "outputs": [
    {
     "name": "stdout",
     "output_type": "stream",
     "text": [
      "Overwriting pick_do_while.c\n"
     ]
    }
   ],
   "source": [
    "%%file pick_do_while.c\n",
    "#include <stdio.h>\n",
    "\n",
    "#define MAX_NUM    (10)\n",
    "\n",
    "int main()\n",
    "{\n",
    "    int choice;\n",
    "    do\n",
    "    {\n",
    "        printf( \"Pick a number between 1 and %d:\\n\", MAX_NUM );\n",
    "        scanf( \"%d\", &choice );\n",
    "    } while ( (choice<1) || (choice>MAX_NUM) );\n",
    "    \n",
    "    return 0;\n",
    "}"
   ]
  },
  {
   "cell_type": "code",
   "execution_count": 2,
   "metadata": {
    "collapsed": false
   },
   "outputs": [],
   "source": [
    "%%bash\n",
    "gcc -ansi -Wall -pedantic pick_do_while.c -o pick_do_while"
   ]
  },
  {
   "cell_type": "markdown",
   "metadata": {},
   "source": [
    "## for"
   ]
  },
  {
   "cell_type": "code",
   "execution_count": 3,
   "metadata": {
    "collapsed": false
   },
   "outputs": [
    {
     "name": "stdout",
     "output_type": "stream",
     "text": [
      "Overwriting parray_for.c\n"
     ]
    }
   ],
   "source": [
    "%%file parray_for.c\n",
    "#include <stdio.h>\n",
    "\n",
    "int main()\n",
    "{\n",
    "    int array[10] = { 1, 1, 2, 3, 5, 8, 13, 21, 34, 55 };\n",
    "    \n",
    "    int i;\n",
    "    \n",
    "    for (i=0;i<10;i++)\n",
    "    {\n",
    "        printf( \"%d\\n\", array[i] );\n",
    "    }\n",
    "    return 0;\n",
    "}"
   ]
  },
  {
   "cell_type": "code",
   "execution_count": 4,
   "metadata": {
    "collapsed": false
   },
   "outputs": [],
   "source": [
    "%%bash\n",
    "gcc -ansi -Wall -pedantic parray_for.c -o parray_for"
   ]
  },
  {
   "cell_type": "code",
   "execution_count": 5,
   "metadata": {
    "collapsed": false
   },
   "outputs": [
    {
     "name": "stdout",
     "output_type": "stream",
     "text": [
      "1\n",
      "1\n",
      "2\n",
      "3\n",
      "5\n",
      "8\n",
      "13\n",
      "21\n",
      "34\n",
      "55\n"
     ]
    }
   ],
   "source": [
    "%%bash\n",
    "./parray_for"
   ]
  },
  {
   "cell_type": "markdown",
   "metadata": {},
   "source": [
    "## while"
   ]
  },
  {
   "cell_type": "code",
   "execution_count": 6,
   "metadata": {
    "collapsed": false
   },
   "outputs": [
    {
     "name": "stdout",
     "output_type": "stream",
     "text": [
      "Overwriting hello_while.c\n"
     ]
    }
   ],
   "source": [
    "%%file hello_while.c\n",
    "#include <stdio.h>\n",
    "\n",
    "int main()\n",
    "{\n",
    "    char *hello_world=\"Hello, world!\\n\";\n",
    "    \n",
    "    while (*hello_world!='\\0')\n",
    "    {\n",
    "        printf( \"%c\", *hello_world );\n",
    "        hello_world++;\n",
    "    }\n",
    "    return 0;\n",
    "}"
   ]
  },
  {
   "cell_type": "code",
   "execution_count": 7,
   "metadata": {
    "collapsed": false
   },
   "outputs": [],
   "source": [
    "%%bash\n",
    "gcc -ansi -Wall -pedantic hello_while.c -o hello_while"
   ]
  },
  {
   "cell_type": "code",
   "execution_count": 8,
   "metadata": {
    "collapsed": false
   },
   "outputs": [
    {
     "name": "stdout",
     "output_type": "stream",
     "text": [
      "Hello, world!\n"
     ]
    }
   ],
   "source": [
    "%%bash\n",
    "./hello_while"
   ]
  },
  {
   "cell_type": "markdown",
   "metadata": {},
   "source": [
    "## The missing loop\n",
    "There is one more very common loop that programmers use (in many languages, including C).  It doesn't really exist as its own type of loop.  Instead, people fudge it out of what the language does offer.  Some people consider this bad programming style, because this loop breaks out of the middle of the loop and missuses another loop type (with an established purpose).  Many other people find it to be the most practical (and readable) solution to a given problem.\n",
    "\n",
    "break (like goto) is considered a bad feature in a language because it encourages \"spaghetti\" code.  But, in the following case, most people will use it anyway, because the alternatives are even worse."
   ]
  },
  {
   "cell_type": "markdown",
   "metadata": {},
   "source": [
    "## The missing while (true)... break loop"
   ]
  },
  {
   "cell_type": "code",
   "execution_count": 9,
   "metadata": {
    "collapsed": false
   },
   "outputs": [
    {
     "name": "stdout",
     "output_type": "stream",
     "text": [
      "Overwriting file_while_break.c\n"
     ]
    }
   ],
   "source": [
    "%%file file_while_break.c\n",
    "#include <stdio.h>\n",
    "\n",
    "#define MAX_LINE 128\n",
    "\n",
    "int main()\n",
    "{\n",
    "    FILE *fp;\n",
    "    char line[MAX_LINE];\n",
    "    \n",
    "    fp = fopen( \"file_while_break.c\", \"r\" );\n",
    "    \n",
    "    while (1)\n",
    "    {\n",
    "        if (!fgets( line, 128, fp ))\n",
    "        {\n",
    "            break;\n",
    "        }\n",
    "        \n",
    "        printf( line );\n",
    "        \n",
    "    }\n",
    "    \n",
    "    fclose(fp);\n",
    "    return 0;\n",
    "}"
   ]
  },
  {
   "cell_type": "code",
   "execution_count": 10,
   "metadata": {
    "collapsed": false
   },
   "outputs": [],
   "source": [
    "%%bash\n",
    "gcc -ansi -Wall -pedantic file_while_break.c -o file_while_break"
   ]
  },
  {
   "cell_type": "code",
   "execution_count": 11,
   "metadata": {
    "collapsed": false
   },
   "outputs": [
    {
     "name": "stdout",
     "output_type": "stream",
     "text": [
      "#include <stdio.h>\n",
      "\n",
      "#define MAX_LINE 128\n",
      "\n",
      "int main()\n",
      "{\n",
      "    FILE *fp;\n",
      "    char line[MAX_LINE];\n",
      "    \n",
      "    fp = fopen( \"file_while_break.c\", \"r\" );\n",
      "    \n",
      "    while (1)\n",
      "    {\n",
      "        if (!fgets( line, 128, fp ))\n",
      "        {\n",
      "            break;\n",
      "        }\n",
      "        \n",
      "        printf( line );\n",
      "        \n",
      "    }\n",
      "    \n",
      "    fclose(fp);\n",
      "    return 0;\n",
      "}"
     ]
    }
   ],
   "source": [
    "%%bash\n",
    "./file_while_break"
   ]
  },
  {
   "cell_type": "code",
   "execution_count": 12,
   "metadata": {
    "collapsed": false
   },
   "outputs": [
    {
     "name": "stdout",
     "output_type": "stream",
     "text": [
      "Overwriting bsearch_recursion.c\n"
     ]
    }
   ],
   "source": [
    "%%file bsearch_recursion.c\n",
    "#include <stdio.h>\n",
    "#include <stdlib.h>\n",
    "\n",
    "long random(void);\n",
    "\n",
    "#define ARRAY_SIZE  256\n",
    "\n",
    "int compar( const void *a, const void *b )\n",
    "{\n",
    "    const int *a_ptr;\n",
    "    const int *b_ptr;\n",
    "    \n",
    "    a_ptr = a;\n",
    "    b_ptr = b;\n",
    "    \n",
    "    return (*a_ptr) - (*b_ptr);\n",
    "}\n",
    "\n",
    "\n",
    "int binary_search( int *array, int length, int target )\n",
    "{\n",
    "    int mid, pos;\n",
    "    \n",
    "    printf( \"binary_search %p %d\\n\", (void *)array, length );\n",
    "    \n",
    "    if (length==0)\n",
    "        return -1;  /* not found */\n",
    "    \n",
    "    mid = length/2;\n",
    "    printf( \"array[%d]=%d\\n\", mid, array[mid] );\n",
    "    \n",
    "    if (array[mid]==target)\n",
    "        return mid; /* found */\n",
    "    \n",
    "    else if (target<array[mid])\n",
    "        return binary_search( array, mid, target );\n",
    "    \n",
    "    /* else if (target>array[mid] ) */\n",
    "    \n",
    "    pos = binary_search( array+(mid+1), length-(mid+1), target );\n",
    "    if (pos==-1)\n",
    "        return -1;\n",
    "    return mid+1+pos;\n",
    "    \n",
    "    \n",
    "}\n",
    "\n",
    "int main()\n",
    "{\n",
    "    int array[ARRAY_SIZE];\n",
    "    int i, target, loc;\n",
    "    \n",
    "    for (i=0;i<ARRAY_SIZE;i++)\n",
    "    {\n",
    "        array[i] = random() % 1000;\n",
    "    }\n",
    "    target = array[0];\n",
    "    \n",
    "    for (i=0;i<ARRAY_SIZE;i++)\n",
    "    {\n",
    "        printf(\"%d,\",array[i]);\n",
    "    }\n",
    "    printf(\"\\n\");\n",
    "    \n",
    "    qsort( array, ARRAY_SIZE, sizeof(int), compar );\n",
    "    \n",
    "    for (i=0;i<ARRAY_SIZE;i++)\n",
    "    {\n",
    "        printf(\"%d,\",array[i]);\n",
    "    }\n",
    "    printf(\"\\n\");\n",
    "    \n",
    "    loc = binary_search( array, ARRAY_SIZE, target );\n",
    "    \n",
    "    if (loc==-1)\n",
    "        printf( \"Could not find %d\\n\", target );\n",
    "    else\n",
    "        printf( \"Found %d at location %d\", target, loc );\n",
    "    return 0;\n",
    "}"
   ]
  },
  {
   "cell_type": "code",
   "execution_count": 13,
   "metadata": {
    "collapsed": false
   },
   "outputs": [],
   "source": [
    "%%bash\n",
    "gcc -ansi -Wall -pedantic bsearch_recursion.c -o bsearch_recursion"
   ]
  },
  {
   "cell_type": "code",
   "execution_count": 14,
   "metadata": {
    "collapsed": false
   },
   "outputs": [
    {
     "name": "stdout",
     "output_type": "stream",
     "text": [
      "383,886,777,915,793,335,386,492,649,421,362,27,690,59,763,926,540,426,172,736,211,368,567,429,782,530,862,123,67,135,929,802,22,58,69,167,393,456,11,42,229,373,421,919,784,537,198,324,315,370,413,526,91,980,956,873,862,170,996,281,305,925,84,327,336,505,846,729,313,857,124,895,582,545,814,367,434,364,43,750,87,808,276,178,788,584,403,651,754,399,932,60,676,368,739,12,226,586,94,539,795,570,434,378,467,601,97,902,317,492,652,756,301,280,286,441,865,689,444,619,440,729,31,117,97,771,481,675,709,927,567,856,497,353,586,965,306,683,219,624,528,871,732,829,503,19,270,368,708,715,340,149,796,723,618,245,846,451,921,555,379,488,764,228,841,350,193,500,34,764,124,914,987,856,743,491,227,365,859,936,432,551,437,228,275,407,474,121,858,395,29,237,235,793,818,428,143,11,928,529,776,404,443,763,613,538,606,840,904,818,128,688,369,917,917,996,324,743,470,183,490,499,772,725,644,590,505,139,954,786,669,82,542,464,197,507,355,804,348,611,622,828,299,343,746,568,340,422,311,810,605,801,661,730,878,305,\n",
      "11,11,12,19,22,27,29,31,34,42,43,58,59,60,67,69,82,84,87,91,94,97,97,117,121,123,124,124,128,135,139,143,149,167,170,172,178,183,193,197,198,211,219,226,227,228,228,229,235,237,245,270,275,276,280,281,286,299,301,305,305,306,311,313,315,317,324,324,327,335,336,340,340,343,348,350,353,355,362,364,365,367,368,368,368,369,370,373,378,379,383,386,393,395,399,403,404,407,413,421,421,422,426,428,429,432,434,434,437,440,441,443,444,451,456,464,467,470,474,481,488,490,491,492,492,497,499,500,503,505,505,507,526,528,529,530,537,538,539,540,542,545,551,555,567,567,568,570,582,584,586,586,590,601,605,606,611,613,618,619,622,624,644,649,651,652,661,669,675,676,683,688,689,690,708,709,715,723,725,729,729,730,732,736,739,743,743,746,750,754,756,763,763,764,764,771,772,776,777,782,784,786,788,793,793,795,796,801,802,804,808,810,814,818,818,828,829,840,841,846,846,856,856,857,858,859,862,862,865,871,873,878,886,895,902,904,914,915,917,917,919,921,925,926,927,928,929,932,936,954,956,965,980,987,996,996,\n",
      "binary_search 0x7fff3301ace0 256\n",
      "array[128]=503\n",
      "binary_search 0x7fff3301ace0 128\n",
      "array[64]=315\n",
      "binary_search 0x7fff3301ade4 63\n",
      "array[31]=404\n",
      "binary_search 0x7fff3301ade4 31\n",
      "array[15]=365\n",
      "binary_search 0x7fff3301ae24 15\n",
      "array[7]=378\n",
      "binary_search 0x7fff3301ae44 7\n",
      "array[3]=393\n",
      "binary_search 0x7fff3301ae44 3\n",
      "array[1]=383\n",
      "Found 383 at location 90"
     ]
    }
   ],
   "source": [
    "%%bash\n",
    "./bsearch_recursion"
   ]
  },
  {
   "cell_type": "markdown",
   "metadata": {},
   "source": [
    "## Now let's write each repetion code in another style."
   ]
  },
  {
   "cell_type": "code",
   "execution_count": null,
   "metadata": {
    "collapsed": true
   },
   "outputs": [],
   "source": []
  }
 ],
 "metadata": {
  "kernelspec": {
   "display_name": "Python 3",
   "language": "python",
   "name": "python3"
  },
  "language_info": {
   "codemirror_mode": {
    "name": "ipython",
    "version": 3
   },
   "file_extension": ".py",
   "mimetype": "text/x-python",
   "name": "python",
   "nbconvert_exporter": "python",
   "pygments_lexer": "ipython3",
   "version": "3.5.3"
  }
 },
 "nbformat": 4,
 "nbformat_minor": 2
}
