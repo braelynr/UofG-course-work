{
 "cells": [
  {
   "cell_type": "markdown",
   "metadata": {},
   "source": [
    "# Example of Buffer Overflow Errors"
   ]
  },
  {
   "cell_type": "markdown",
   "metadata": {},
   "source": [
    "A buffer overflow occurs when you write too much data into a buffer of limited size.  Buffer overflows have been the cause of many security flaws.\n",
    "\n",
    "C is prone to these types of errors.  And some have suggested that C should not be used for security critical code.  Others suggest using only certain functions in C.\n",
    "\n",
    "We will do an example of a buffer overflow that exploits the limiation in gets.\n"
   ]
  },
  {
   "cell_type": "code",
   "execution_count": null,
   "metadata": {
    "collapsed": false
   },
   "outputs": [],
   "source": [
    "%%bash\n",
    "man gets"
   ]
  },
  {
   "cell_type": "code",
   "execution_count": null,
   "metadata": {
    "collapsed": false
   },
   "outputs": [],
   "source": [
    "%%file gets.c\n",
    "\n",
    "#include <stdio.h>\n",
    "#include <string.h>\n",
    "\n",
    "int main()\n",
    "{\n",
    "    char secret_password[16];\n",
    "    char entered_password[16];\n",
    "    int match;\n",
    "    \n",
    "    strcpy( secret_password, \"opensesame\" );\n",
    "    printf( \"secret_password is stored at %p\\n\", (void *)secret_password );\n",
    "    printf( \"entered_password is stored at %p\\n\", (void *)entered_password );\n",
    "    printf( \"match is stored at %p\\n\", (void *)&match );\n",
    "    \n",
    "    printf( \"password: \");\n",
    "    fgets( entered_password, 100, stdin );\n",
    "\n",
    "\n",
    "    match = ( strcmp( entered_password, secret_password )==0 );\n",
    "    \n",
    "    if (match)\n",
    "    {\n",
    "        printf( \"Correct password!\\n\" );\n",
    "    }\n",
    "    else\n",
    "    {\n",
    "        printf( \"Sorry\\n\" );\n",
    "    }\n",
    "    \n",
    "    return 0;\n",
    "}"
   ]
  },
  {
   "cell_type": "code",
   "execution_count": null,
   "metadata": {
    "collapsed": false
   },
   "outputs": [],
   "source": [
    "%%bash\n",
    "gcc -ansi -Wall -pedantic gets.c -o gets"
   ]
  },
  {
   "cell_type": "code",
   "execution_count": null,
   "metadata": {
    "collapsed": false
   },
   "outputs": [],
   "source": [
    "%%file input\n",
    "hello"
   ]
  },
  {
   "cell_type": "code",
   "execution_count": null,
   "metadata": {
    "collapsed": false
   },
   "outputs": [],
   "source": [
    "%%bash\n",
    "./gets < input"
   ]
  },
  {
   "cell_type": "markdown",
   "metadata": {},
   "source": [
    "# Can we create an input pattern that hacks the program?"
   ]
  },
  {
   "cell_type": "code",
   "execution_count": null,
   "metadata": {
    "collapsed": false
   },
   "outputs": [],
   "source": [
    "%%file make_input.c\n",
    "\n",
    "/* add code here */"
   ]
  },
  {
   "cell_type": "code",
   "execution_count": null,
   "metadata": {
    "collapsed": false
   },
   "outputs": [],
   "source": [
    "%%bash\n",
    "gcc -ansi -Wall -pedantic make_input.c -o make_input"
   ]
  },
  {
   "cell_type": "code",
   "execution_count": null,
   "metadata": {
    "collapsed": false
   },
   "outputs": [],
   "source": [
    "%%bash \n",
    "./make_input > input"
   ]
  },
  {
   "cell_type": "code",
   "execution_count": null,
   "metadata": {
    "collapsed": false
   },
   "outputs": [],
   "source": [
    "%%bash\n",
    "./gets < input"
   ]
  },
  {
   "cell_type": "markdown",
   "metadata": {},
   "source": [
    "Different O/S and compilers will arrange the memory if different order.  What if it were the other way around?\n"
   ]
  },
  {
   "cell_type": "code",
   "execution_count": null,
   "metadata": {
    "collapsed": true
   },
   "outputs": [],
   "source": [
    "%%file gets.c\n",
    "\n",
    "#include <stdio.h>\n",
    "#include <string.h>\n",
    "\n",
    "int main()\n",
    "{\n",
    "    int match;\n",
    "    char entered_password[16];\n",
    "    char secret_password[16];\n",
    "    \n",
    "    strcpy( secret_password, \"opensesame\" );\n",
    "    printf( \"secret_password is stored at %p\\n\", (void *)secret_password );\n",
    "    printf( \"entered_password is stored at %p\\n\", (void *)entered_password );\n",
    "    printf( \"match is stored at %p\\n\", (void *)&match );\n",
    "    \n",
    "    printf( \"password: \");\n",
    "    fgets( entered_password, 100, stdin );\n",
    "\n",
    "\n",
    "    match = ( strcmp( entered_password, secret_password )==0 );\n",
    "    \n",
    "    if (match)\n",
    "    {\n",
    "        printf( \"Correct password!\\n\" );\n",
    "    }\n",
    "    else\n",
    "    {\n",
    "        printf( \"Sorry\\n\" );\n",
    "    }\n",
    "    \n",
    "    return 0;\n",
    "}"
   ]
  },
  {
   "cell_type": "code",
   "execution_count": null,
   "metadata": {
    "collapsed": true
   },
   "outputs": [],
   "source": [
    "%%file make_input.c\n",
    "\n",
    "/* add code here */"
   ]
  },
  {
   "cell_type": "code",
   "execution_count": null,
   "metadata": {
    "collapsed": true
   },
   "outputs": [],
   "source": [
    "%%bash\n",
    "gcc -ansi -Wall -pedantic make_input.c -o make_input"
   ]
  },
  {
   "cell_type": "code",
   "execution_count": null,
   "metadata": {
    "collapsed": true
   },
   "outputs": [],
   "source": [
    "%%bash \n",
    "./make_input > input"
   ]
  },
  {
   "cell_type": "code",
   "execution_count": null,
   "metadata": {
    "collapsed": true
   },
   "outputs": [],
   "source": [
    "%%bash\n",
    "./gets < input"
   ]
  }
 ],
 "metadata": {
  "kernelspec": {
   "display_name": "Python 3",
   "language": "python",
   "name": "python3"
  },
  "language_info": {
   "codemirror_mode": {
    "name": "ipython",
    "version": 3
   },
   "file_extension": ".py",
   "mimetype": "text/x-python",
   "name": "python",
   "nbconvert_exporter": "python",
   "pygments_lexer": "ipython3",
   "version": "3.5.3"
  }
 },
 "nbformat": 4,
 "nbformat_minor": 2
}
