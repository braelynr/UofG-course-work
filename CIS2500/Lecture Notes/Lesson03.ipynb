{
 "cells": [
  {
   "cell_type": "markdown",
   "metadata": {},
   "source": [
    "# Binary Files"
   ]
  },
  {
   "cell_type": "markdown",
   "metadata": {},
   "source": [
    "Last lesson, we saw how computers use bits to represent information.  In this lesson, we will explore how to record those bits into permanent storage.\n",
    "\n",
    "## When is a '1' not a 1?\n",
    "\n",
    "Try this:"
   ]
  },
  {
   "cell_type": "code",
   "execution_count": null,
   "metadata": {
    "collapsed": false
   },
   "outputs": [],
   "source": [
    "%%file l03_ex01.c\n",
    "\n",
    "#include <stdio.h>\n",
    "\n",
    "int main()\n",
    "{\n",
    "    printf( \"%d\\n\", ('1'==1) );\n",
    "    return 0;\n",
    "}"
   ]
  },
  {
   "cell_type": "code",
   "execution_count": null,
   "metadata": {
    "collapsed": true
   },
   "outputs": [],
   "source": [
    "%%bash\n",
    "gcc -ansi -Wall -pedantic l03_ex01.c -o l03_ex01"
   ]
  },
  {
   "cell_type": "code",
   "execution_count": null,
   "metadata": {
    "collapsed": false
   },
   "outputs": [],
   "source": [
    "%%bash\n",
    "./l03_ex01"
   ]
  },
  {
   "cell_type": "markdown",
   "metadata": {},
   "source": [
    "0 means \"False\", so '1' isn't the same a 1?\n",
    "\n",
    "Write a program that prints out the numerical value of '1'."
   ]
  },
  {
   "cell_type": "code",
   "execution_count": null,
   "metadata": {
    "collapsed": false
   },
   "outputs": [],
   "source": [
    "%%file l03_ex02.c\n",
    "#include <stdio.h>\n",
    "\n",
    "/* add code here */\n"
   ]
  },
  {
   "cell_type": "code",
   "execution_count": null,
   "metadata": {
    "collapsed": true
   },
   "outputs": [],
   "source": [
    "%%bash\n",
    "gcc -ansi -Wall -pedantic l03_ex02.c -o l03_ex02"
   ]
  },
  {
   "cell_type": "code",
   "execution_count": null,
   "metadata": {
    "collapsed": false
   },
   "outputs": [],
   "source": [
    "%%bash\n",
    "./l03_ex02"
   ]
  },
  {
   "cell_type": "markdown",
   "metadata": {},
   "source": [
    "Look at the following program which prints the square root of 2."
   ]
  },
  {
   "cell_type": "code",
   "execution_count": null,
   "metadata": {
    "collapsed": false
   },
   "outputs": [],
   "source": [
    "%%file l03_ex03.c\n",
    "\n",
    "#include <stdio.h>\n",
    "#include <math.h>\n",
    "\n",
    "/* add code here */\n",
    "\n",
    "int main()\n",
    "{\n",
    "    double root2;\n",
    "    \n",
    "    root2 = sqrt( 2.0 );\n",
    "    printf( \"%100.98f\", root2 );\n",
    "    \n",
    "    return 0;\n",
    "}"
   ]
  },
  {
   "cell_type": "markdown",
   "metadata": {},
   "source": [
    "## Important:  Link the math library with -lm"
   ]
  },
  {
   "cell_type": "code",
   "execution_count": null,
   "metadata": {
    "collapsed": true
   },
   "outputs": [],
   "source": [
    "%%bash\n",
    "gcc -ansi -Wall -pedantic l03_ex03.c -lm -o l03_ex03"
   ]
  },
  {
   "cell_type": "code",
   "execution_count": null,
   "metadata": {
    "collapsed": false
   },
   "outputs": [],
   "source": [
    "%%bash\n",
    "./l03_ex03\n"
   ]
  },
  {
   "cell_type": "markdown",
   "metadata": {},
   "source": [
    "It shows 53 digits of precision.  To print it out takes 54 characters (including the decimal point).\n",
    "\n",
    "Look at the following code."
   ]
  },
  {
   "cell_type": "code",
   "execution_count": null,
   "metadata": {
    "collapsed": false
   },
   "outputs": [],
   "source": [
    "%%file l03_ex04.c\n",
    "\n",
    "#include <stdio.h>\n",
    "#include <stdlib.h>\n",
    "#include <math.h>\n",
    "#include <string.h>\n",
    "\n",
    "int main( int argc, char **argv )\n",
    "{\n",
    "    int bitno, bit;\n",
    "    double root2;\n",
    "    unsigned long data;\n",
    "    \n",
    "    printf( \"sizeof(double)=%ld, sizeof(unsigned long)=%ld\\n\", sizeof(double), sizeof(unsigned long) );\n",
    "    \n",
    "    root2 = sqrt( 2.0 );\n",
    "    memcpy( &data, &root2, sizeof(double) );  /* copy memory from root2 to data so we can inspect it */\n",
    "    \n",
    "    printf( \"%54.52f = %ld\\n\", root2, data );\n",
    "\n",
    "    for (bitno=sizeof(double)*8-1;bitno>=0;bitno--)\n",
    "    {\n",
    "        bit = (data >> bitno)&1;\n",
    "        printf( \"%d\", bit );\n",
    "    }\n",
    "    printf( \"\\n\" );\n",
    "    return 0;\n",
    "}"
   ]
  },
  {
   "cell_type": "code",
   "execution_count": null,
   "metadata": {
    "collapsed": true
   },
   "outputs": [],
   "source": [
    "%%bash\n",
    "gcc -ansi -Wall -pedantic l03_ex04.c -lm -o l03_ex04"
   ]
  },
  {
   "cell_type": "code",
   "execution_count": null,
   "metadata": {
    "collapsed": false
   },
   "outputs": [],
   "source": [
    "%%bash\n",
    "./l03_ex04"
   ]
  },
  {
   "cell_type": "markdown",
   "metadata": {},
   "source": [
    "It takes 64 bits, or 8 bytes, to encode the double precision floating point number.  So it can be stored using only 8 bytes, vs the 54 characters that would be used to print out all of the significant digits.\n",
    "\n",
    "But storage isn't the only reason for using the 8 byte representation.  The CPU chips in the computer can do 8 byte operations natively.  That means they can do multiplication in on quick operation if the data is in the computer's native format.  If you used the text representation, you would have to first convert the multiplier and the multiplicand from text to native format, then multiply and then convert back.\n",
    "\n",
    "The printf and scanf functions in C, make this every easy to do from the programmer's perspective, but it takes extra work from the computer.\n",
    "\n",
    "When we save informtion from our programs, we can write that information to a file.  We have a choice to write out that information as text, or in the computer's native format.  Neither option is correct, neither is incorrect.\n",
    "\n",
    "Some reasons to write your file in binary (native) format include:\n",
    "<ul>\n",
    "    <li> you want to read and write the file quickly, </li>\n",
    "    <li> you want to minimize file size, </li>\n",
    "    <li> your file consists of many records of identical format and size, </li>\n",
    "    <li> you want to be able to jump to one particular location in your file, or </li>\n",
    "    <li> you don't want other people to be able to easily read your file format. </li>\n",
    "</ul>\n",
    "Some reasons to write your file in text include:\n",
    "<ul>\n",
    "    <li> you want humans to be able to read the contents of your file without having to use your program, </li>\n",
    "    <li> you want programmers of other programs to be able to easily understand and use your file, or </li>\n",
    "    <li> your file contains variable lenth records (esp. text). </li>\n",
    "</ul>\n",
    "\n",
    "Ok, let's do an example.  Consider the following record structure:"
   ]
  },
  {
   "cell_type": "code",
   "execution_count": null,
   "metadata": {
    "collapsed": false
   },
   "outputs": [],
   "source": [
    "%%file record.h\n",
    "\n",
    "#include <stdio.h>\n",
    "\n",
    "/* example header file */\n",
    "\n",
    "struct record\n",
    "{\n",
    "    int PLU;\n",
    "    char comodity[64];\n",
    "    char variety[64];\n",
    "    char size[32];\n",
    "    double price;\n",
    "};\n",
    "\n",
    "void read_text( FILE *fp, struct record *r );\n",
    "void print_record( struct record r );"
   ]
  },
  {
   "cell_type": "markdown",
   "metadata": {},
   "source": [
    "This is a record structure to store information about grocery store fruits and vegetables.  PLU is is the product look-up code for the grocery item.  \"comodity\" is the written name of the item. And, price is the price per kg.  Here is a text file containing some information:"
   ]
  },
  {
   "cell_type": "code",
   "execution_count": null,
   "metadata": {
    "collapsed": false
   },
   "outputs": [],
   "source": [
    "%%file plu.txt\n",
    "4011,BANANAS,Yellow,All,0.12\n",
    "3071,APPLES,Granny Smith,All,0.43\n",
    "4111,APPLES,Crispin/Mutsu,Large,0.33\n",
    "3283,APPLES,Honeycrisp,Large,0.32\n",
    "4154,APPLES,McIntosh,Large,0.79\n",
    "4048,LIMES,Regular,All,0.43\n",
    "4307,LONGAN,,All,0.99\n",
    "4256,CARAMBOLA,,ALL,0.87\n",
    "4645,MUSHROOMS,Button,Small,0.22"
   ]
  },
  {
   "cell_type": "markdown",
   "metadata": {},
   "source": [
    "Let's write some code to read that file."
   ]
  },
  {
   "cell_type": "code",
   "execution_count": null,
   "metadata": {
    "collapsed": false
   },
   "outputs": [],
   "source": [
    "%%file record.c\n",
    "\n",
    "#include \"record.h\"\n",
    "\n",
    "void read_text( FILE *fp, struct record *r )\n",
    "{\n",
    "    char line[81];\n",
    "    \n",
    "    fgets( line, 81, fp );\n",
    "    sscanf( line, \"%d,%64[^,],%64[^,],%32[^,],%lf\", \n",
    "               &(r->PLU), (r->comodity), (r->variety), (r->size), &(r->price) );\n",
    "    \n",
    "    \n",
    "}\n",
    "\n",
    "void print_record( struct record r )\n",
    "{\n",
    "    printf( \"PLU:      %d\\n\", r.PLU );\n",
    "    printf( \"comodity: %s\\n\", r.comodity );\n",
    "    printf( \"variety:  %s\\n\", r.variety );\n",
    "    printf( \"size:     %s\\n\", r.size );\n",
    "    printf( \"price:    %.2f\\n\\n\", r.price );\n",
    "}"
   ]
  },
  {
   "cell_type": "code",
   "execution_count": null,
   "metadata": {
    "collapsed": false
   },
   "outputs": [],
   "source": [
    "%%file l03p01.c\n",
    "#include <stdio.h>\n",
    "#include <stdlib.h>\n",
    "#include \"record.h\"\n",
    "\n",
    "/* file that reads txt file and prints it to the screen */\n",
    "\n",
    "int main( int argc, char **argv )\n",
    "{\n",
    "    FILE *fp;\n",
    "\n",
    "    struct record r;\n",
    "    \n",
    "    if (argc!=2)\n",
    "    {\n",
    "        fprintf( stderr, \"Usage: %s <filename>\\n\", argv[0] );\n",
    "        exit(-1);\n",
    "    }\n",
    "    fp = fopen( argv[1], \"r\" );\n",
    "    while ( !feof( fp ) )\n",
    "    {\n",
    "        \n",
    "        read_text( fp, &r );\n",
    "        print_record( r );\n",
    "        \n",
    "        \n",
    "    }\n",
    "    fclose( fp );\n",
    "    \n",
    "    return 0;\n",
    "}"
   ]
  },
  {
   "cell_type": "code",
   "execution_count": null,
   "metadata": {
    "collapsed": false
   },
   "outputs": [],
   "source": [
    "%%bash\n",
    "gcc -ansi -Wall -pedantic -c record.c -o record.o\n",
    "gcc -ansi -Wall -pedantic l03p01.c record.o -o l03p01"
   ]
  },
  {
   "cell_type": "code",
   "execution_count": null,
   "metadata": {
    "collapsed": false
   },
   "outputs": [],
   "source": [
    "%%bash\n",
    "./l03p01 plu.txt"
   ]
  },
  {
   "cell_type": "markdown",
   "metadata": {},
   "source": [
    "Now we will create the following programs:\n",
    "\n",
    "<ol>\n",
    "    <li> A program which reads the text file and writes a binary file. </li>\n",
    "    <li> A program which reads a binary file and prints the contents. </li>\n",
    "    <li> A program which reads a binary file and writes a text file. </li>\n",
    "</ol>\n",
    "\n",
    "Next we will write and read the file in binary.\n",
    "\n",
    "The commands we need for this are:\n",
    "\n",
    "fwrite and fread"
   ]
  },
  {
   "cell_type": "code",
   "execution_count": null,
   "metadata": {
    "collapsed": true
   },
   "outputs": [],
   "source": [
    "%%bash \n",
    "man fwrite"
   ]
  },
  {
   "cell_type": "code",
   "execution_count": null,
   "metadata": {
    "collapsed": true
   },
   "outputs": [],
   "source": [
    "%%bash\n",
    "man fread"
   ]
  },
  {
   "cell_type": "code",
   "execution_count": null,
   "metadata": {
    "collapsed": true
   },
   "outputs": [],
   "source": []
  }
 ],
 "metadata": {
  "kernelspec": {
   "display_name": "Python 3",
   "language": "python",
   "name": "python3"
  },
  "language_info": {
   "codemirror_mode": {
    "name": "ipython",
    "version": 3
   },
   "file_extension": ".py",
   "mimetype": "text/x-python",
   "name": "python",
   "nbconvert_exporter": "python",
   "pygments_lexer": "ipython3",
   "version": "3.5.3"
  }
 },
 "nbformat": 4,
 "nbformat_minor": 2
}
