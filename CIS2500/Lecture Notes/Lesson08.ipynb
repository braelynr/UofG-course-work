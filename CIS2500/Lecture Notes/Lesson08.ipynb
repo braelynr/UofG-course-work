{
 "cells": [
  {
   "cell_type": "markdown",
   "metadata": {},
   "source": [
    "## Quick sort is an efficient sorting algorithm for many cases.\n",
    "The C programming language has a built-in quick sort algorithm that can sort all kinds of data via the qsort function.\n",
    "\n",
    "In order to be flexible, this function uses a lot of pointers.\n",
    "\n",
    "So far, we have seen pointers to simple types (e.g. int, float, double, char), and pointers to structures.  Now we will see a third type of pointer:  a pointer to a function.\n",
    "\n",
    "The prototype for the qsort function looks like:\n",
    "\n",
    "void\n",
    "qsort(void &#42;base, size_t nel, size_t width,\n",
    "    int (&#42;compar)(const void &#42;, const void &#42;));\n",
    "    \n",
    "We can see from this that the qsort function doesn't return anything, but it takes 4 arguments.\n",
    "\n",
    "<ul>\n",
    "<li> base - is a pointer to an array of things you are trying to sort </li>\n",
    "<li> nel - is the number of elements that need to be sorted (i.e. the size of the array) </li>\n",
    "<li> width - is the width of an individual element in the array (i.e. sizeof(???)) </li>\n",
    "<li>compar - is a pointer to a function that is used to compare the elements in the array </li>\n",
    "</ul>\n",
    "\n",
    "(&#42;compar) makes it a pointer to a function.  If it said \"int &#42;compar\" it would be a function that returns a pointer to an integer.  The function takes two arguments (which are both generic (void) pointers), it returns an integer.\n",
    "\n",
    "The returned integer takes the following meanings:\n",
    "<ul>\n",
    "<li> &lt;0 - if the first argument is less than the second </li>\n",
    "<li> =0 - if the first argument is equal to the second </li>\n",
    "<li> &gt;0 - if the first argument is greater than the second </li>\n",
    "</ul>\n",
    "\n",
    "(Note that the strcmp function returns values just like this, so it is compatible with the qsort function.)\n",
    "\n",
    "Let's make an example."
   ]
  },
  {
   "cell_type": "code",
   "execution_count": null,
   "metadata": {
    "collapsed": false
   },
   "outputs": [],
   "source": [
    "%%file qsort1.c\n",
    "#include <stdlib.h>\n",
    "#include <stdio.h>\n",
    "\n",
    "long int random();\n",
    "\n",
    "#define ARRAY_SIZE  20\n",
    "\n",
    "void print_array( int array[], int nel )\n",
    "{\n",
    "    int i;\n",
    "    \n",
    "    for (i=0;i<nel;i++)\n",
    "        printf( \"%d\\n\", array[i] );\n",
    "    \n",
    "}\n",
    "\n",
    "void random_array( int array[], int nel )\n",
    "{\n",
    "    int i;\n",
    "    \n",
    "    for (i=0;i<nel;i++)\n",
    "        array[i] = random() % 100;\n",
    "}\n",
    "\n",
    "\n",
    "int compar( const void *a, const void *b )\n",
    "{\n",
    "    const int *int_a, *int_b;\n",
    "    \n",
    "    int_a = a;\n",
    "    int_b = b;\n",
    "    \n",
    "    return -((*int_a)-(*int_b));\n",
    "}\n",
    "\n",
    "int main()\n",
    "{\n",
    "    int array[ARRAY_SIZE];\n",
    "    \n",
    "    random_array( array, ARRAY_SIZE );\n",
    "    printf( \"Before:\\n\" );\n",
    "    print_array( array, ARRAY_SIZE );\n",
    "    \n",
    "    printf(\"\\n\");\n",
    "    \n",
    "    qsort( array, ARRAY_SIZE, sizeof(int), compar );\n",
    "    printf( \"After:\\n\" );\n",
    "    print_array( array, ARRAY_SIZE );\n",
    "    \n",
    "    return 0;\n",
    "}"
   ]
  },
  {
   "cell_type": "code",
   "execution_count": null,
   "metadata": {
    "collapsed": false
   },
   "outputs": [],
   "source": [
    "%%bash\n",
    "gcc -ansi -Wall -pedantic qsort1.c -o qsort1"
   ]
  },
  {
   "cell_type": "code",
   "execution_count": null,
   "metadata": {
    "collapsed": false
   },
   "outputs": [],
   "source": [
    "%%bash\n",
    "./qsort1"
   ]
  },
  {
   "cell_type": "markdown",
   "metadata": {},
   "source": [
    "Ok. Let's see how this works for something other than numbers.  Let's work with names.\n",
    "\n",
    "There's a very cool website called http://listofrandomnames.com.  The example below comes from that web-site:"
   ]
  },
  {
   "cell_type": "code",
   "execution_count": null,
   "metadata": {
    "collapsed": false
   },
   "outputs": [],
   "source": [
    "%%file names.txt\n",
    "Juan Cookson  \n",
    "Joy Falco  \n",
    "Rosette Bradberry  \n",
    "Idella Boeke  \n",
    "Bridget Crites  \n",
    "Toccara Krajewski  \n",
    "Reginia Buell  \n",
    "Amparo Abila  \n",
    "Michell Nocera  \n",
    "Tracee Brimer  \n",
    "Pearl Corvin  \n",
    "Hiedi Trexler  \n",
    "Graham Loew  \n",
    "Missy Haefner  \n",
    "Jovita Killen  \n",
    "Latrina Leiva  \n",
    "Alexis Loose  \n",
    "Danyelle Mari  \n",
    "Trang Meas  \n",
    "Kari Bradburn  \n",
    "\n"
   ]
  },
  {
   "cell_type": "code",
   "execution_count": null,
   "metadata": {
    "collapsed": false
   },
   "outputs": [],
   "source": [
    "%%file qsort2.c\n",
    "#include <stdlib.h>\n",
    "#include <stdio.h>\n",
    "#include <string.h>\n",
    "\n",
    "\n",
    "#define ARRAY_SIZE  20\n",
    "#define STRING_SIZE  64\n",
    "\n",
    "void print_array( char array[ARRAY_SIZE][STRING_SIZE], int nel )\n",
    "{\n",
    "    int i;\n",
    "    \n",
    "    for (i=0;i<nel;i++)\n",
    "        printf( \"%s\", array[i] );\n",
    "    \n",
    "}\n",
    "\n",
    "void name_array( char array[ARRAY_SIZE][STRING_SIZE], int nel, int width )\n",
    "{\n",
    "    int i;\n",
    "    FILE *fp;\n",
    "    \n",
    "    fp = fopen( \"names.txt\", \"r\" );\n",
    "    for (i=0;i<nel;i++)\n",
    "        fgets( array[i], width, fp );\n",
    "    fclose( fp );\n",
    "}\n",
    "\n",
    "\n",
    "int compar( const void *a, const void *b )\n",
    "{\n",
    "    const char *char_a, *char_b;\n",
    "    \n",
    "    char_a = a;\n",
    "    char_b = b;\n",
    "    \n",
    "    return strcmp(char_a,char_b);\n",
    "}\n",
    "\n",
    "int main()\n",
    "{\n",
    "    char array[ARRAY_SIZE][STRING_SIZE];\n",
    "    \n",
    "    name_array( array, ARRAY_SIZE, STRING_SIZE );\n",
    "    printf( \"Before:\\n\" );\n",
    "    print_array( array, ARRAY_SIZE );\n",
    "    \n",
    "    printf(\"\\n\");\n",
    "    \n",
    "    qsort( array, ARRAY_SIZE, STRING_SIZE, compar );\n",
    "    printf( \"After:\\n\" );\n",
    "    print_array( array, ARRAY_SIZE );\n",
    "    \n",
    "    return 0;\n",
    "}"
   ]
  },
  {
   "cell_type": "code",
   "execution_count": null,
   "metadata": {
    "collapsed": false
   },
   "outputs": [],
   "source": [
    "%%bash\n",
    "gcc -ansi -Wall -pedantic qsort2.c -o qsort2"
   ]
  },
  {
   "cell_type": "code",
   "execution_count": null,
   "metadata": {
    "collapsed": false
   },
   "outputs": [],
   "source": [
    "%%bash\n",
    "./qsort2"
   ]
  },
  {
   "cell_type": "markdown",
   "metadata": {},
   "source": [
    "(https://xkcd.com/327/)\n",
    "\n",
    "How about sorting structures?"
   ]
  },
  {
   "cell_type": "code",
   "execution_count": null,
   "metadata": {
    "collapsed": false
   },
   "outputs": [],
   "source": [
    "%%file qsort3.c\n",
    "#include <stdio.h>\n",
    "#include <stdlib.h> \n",
    "\n",
    "long int random();\n",
    "\n",
    "#define  ARRAY_SIZE   20\n",
    "\n",
    "struct order_struct {\n",
    "    char *name;\n",
    "    int cookie_boxes;\n",
    "};\n",
    "\n",
    "void print_array( struct order_struct order[], int nel )\n",
    "{\n",
    "    \n",
    "}\n",
    "\n",
    "void order_array( struct order_struct order[], int nel )\n",
    "{\n",
    "    \n",
    "}\n",
    "\n",
    "int compar_name( const void *a, const void *b )\n",
    "{\n",
    "    \n",
    "}\n",
    "\n",
    "int compar_boxes( const void *a, const void *b )\n",
    "{\n",
    "    \n",
    "}\n",
    "\n",
    "int main()\n",
    "{\n",
    "    struct order_struct array[ARRAY_SIZE];\n",
    "    \n",
    "    order_array( array, ARRAY_SIZE );\n",
    "    printf( \"Before:\\n\" );\n",
    "    print_array( array, ARRAY_SIZE );\n",
    "    \n",
    "    printf(\"\\n\");\n",
    "    \n",
    "    qsort( array, ARRAY_SIZE, sizeof(struct order_struct), compar_name );\n",
    "    printf( \"By name:\\n\" );\n",
    "    print_array( array, ARRAY_SIZE );\n",
    "    \n",
    "    printf(\"\\n\");\n",
    "    \n",
    "    qsort( array, ARRAY_SIZE, sizeof(struct order_struct), compar_boxes );\n",
    "    printf( \"By boxes:\\n\" );\n",
    "    print_array( array, ARRAY_SIZE );\n",
    "    return 0;\n",
    "}"
   ]
  },
  {
   "cell_type": "code",
   "execution_count": null,
   "metadata": {
    "collapsed": false
   },
   "outputs": [],
   "source": [
    "%%bash\n",
    "gcc -ansi -Wall -pedantic qsort3.c -o qsort3"
   ]
  },
  {
   "cell_type": "code",
   "execution_count": null,
   "metadata": {
    "collapsed": true
   },
   "outputs": [],
   "source": []
  }
 ],
 "metadata": {
  "kernelspec": {
   "display_name": "Python 3",
   "language": "python",
   "name": "python3"
  },
  "language_info": {
   "codemirror_mode": {
    "name": "ipython",
    "version": 3
   },
   "file_extension": ".py",
   "mimetype": "text/x-python",
   "name": "python",
   "nbconvert_exporter": "python",
   "pygments_lexer": "ipython3",
   "version": "3.5.3"
  }
 },
 "nbformat": 4,
 "nbformat_minor": 2
}
