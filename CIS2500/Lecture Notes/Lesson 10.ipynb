{
 "cells": [
  {
   "cell_type": "markdown",
   "metadata": {},
   "source": [
    "Let's create a program that offers us a menu and lets us choose options from that menu.  We will build this in a way that makes it easy for us to add menu items using names and function pointers.  E.g.:\n",
    "\n",
    "<pre>\n",
    "Choose one:                                                                                                       \n",
    "  0. Hello                                                                                                        \n",
    "  1. C to F                                                                                                       \n",
    "  2. F to C                                                                                                       \n",
    "  3. Quit                                                                                                         \n",
    "Select [0-3]:0                                                                                                    \n",
    "                                                                                                                  \n",
    "Hello, world!                                                                                                     \n",
    "                                                                                                                  \n",
    "Choose one:                                                                                                       \n",
    "  0. Hello                                                                                                        \n",
    "  1. C to F                                                                                                       \n",
    "  2. F to C                                                                                                       \n",
    "  3. Quit                                                                                                         \n",
    "Select [0-3]:1                                                                                                    \n",
    "                                                                                                                  \n",
    "Enter temperature in degrees C: 28                                                                                \n",
    "That's 82 degrees F.                                                                                              \n",
    "                                                                                                                  \n",
    "Choose one:                                                                                                       \n",
    "  0. Hello                                                                                                        \n",
    "  1. C to F                                                                                                       \n",
    "  2. F to C                                                                                                       \n",
    "  3. Quit                                                                                                         \n",
    "Select [0-3]:2                                                                                                    \n",
    "                                                                                                                  \n",
    "Enter temperature in degrees F: -30                                                                               \n",
    "That's -34 degrees C.                                                                                             \n",
    "                                                                                                                  \n",
    "Choose one:                                                                                                       \n",
    "  0. Hello                                                                                                        \n",
    "  1. C to F                                                                                                       \n",
    "  2. F to C                                                                                                       \n",
    "  3. Quit                                                                                                         \n",
    "Select [0-3]:3                                                                                                    \n",
    "                                                                                                                  \n",
    "Goodbye.                                                                                                          \n",
    "</pre>                      "
   ]
  },
  {
   "cell_type": "code",
   "execution_count": 39,
   "metadata": {
    "collapsed": false
   },
   "outputs": [
    {
     "name": "stdout",
     "output_type": "stream",
     "text": [
      "Overwriting menu.c\n"
     ]
    }
   ],
   "source": [
    "%%file menu.c\n",
    "#include <stdio.h>\n",
    "#include <string.h>\n",
    "#include <stdlib.h>\n",
    "\n",
    "struct menu_item_struct\n",
    "{\n",
    "    char *name;\n",
    "    int (*ptr)();\n",
    "};\n",
    "\n",
    "struct menu_struct\n",
    "{\n",
    "    struct menu_item_struct *item;\n",
    "    int item_no;\n",
    "};\n",
    "\n",
    "int hello()\n",
    "{\n",
    "    printf( \"Hello, world!\\n\" );\n",
    "    return 0;\n",
    "}\n",
    "\n",
    "int c_to_f()\n",
    "{\n",
    "    int temp;\n",
    "    \n",
    "    printf( \"Enter temperature in degrees C: \");\n",
    "    scanf( \"%d\", &temp );\n",
    "    printf( \"That\\'s %d degrees F.\\n\", temp*9/5 + 32 );\n",
    "    \n",
    "    return 0;\n",
    "}\n",
    "\n",
    "int f_to_c()\n",
    "{\n",
    "    int temp;\n",
    "    \n",
    "    printf( \"Enter temperature in degrees F: \");\n",
    "    scanf( \"%d\", &temp );\n",
    "    printf( \"That\\'s %d degrees C.\\n\", (temp-32)*5/9 );\n",
    "    \n",
    "    return 0;\n",
    "}\n",
    "\n",
    "int quit()\n",
    "{\n",
    "    printf( \"Goodbye.\\n\" );\n",
    "    \n",
    "    return 1;\n",
    "}\n",
    "\n",
    "\n",
    "/* add functions here */\n",
    "\n",
    "\n",
    "int main()\n",
    "{\n",
    "    /* add code here */\n",
    "    \n",
    "    return 0;\n",
    "}"
   ]
  },
  {
   "cell_type": "code",
   "execution_count": 40,
   "metadata": {
    "collapsed": false
   },
   "outputs": [],
   "source": [
    "%%bash\n",
    "gcc -Wall -pedantic -ansi menu.c -o menu"
   ]
  },
  {
   "cell_type": "code",
   "execution_count": null,
   "metadata": {
    "collapsed": true
   },
   "outputs": [],
   "source": []
  }
 ],
 "metadata": {
  "kernelspec": {
   "display_name": "Python 3",
   "language": "python",
   "name": "python3"
  },
  "language_info": {
   "codemirror_mode": {
    "name": "ipython",
    "version": 3
   },
   "file_extension": ".py",
   "mimetype": "text/x-python",
   "name": "python",
   "nbconvert_exporter": "python",
   "pygments_lexer": "ipython3",
   "version": "3.5.3"
  }
 },
 "nbformat": 4,
 "nbformat_minor": 2
}
