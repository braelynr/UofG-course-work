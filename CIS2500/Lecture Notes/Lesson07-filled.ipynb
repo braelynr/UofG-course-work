{
 "cells": [
  {
   "cell_type": "markdown",
   "metadata": {},
   "source": [
    "In this lesson we will be exploring linked lists.  We will use strings as an example, but the normal C implementation of strings is pretty good.\n",
    "\n",
    "Always remember that arrays may be a better alternative to linked lists.\n",
    "\n",
    "In particular, implementing strings as liked lists is very inefficient (9-16 bytes per character), lots of operations to access the characters (especially near the back of the string), etc.\n",
    "\n",
    "But, it is a simple example that will show us a lot about dynamic memory allocation with pointers."
   ]
  },
  {
   "cell_type": "markdown",
   "metadata": {},
   "source": [
    "A linked list is a simple dynamic memory structure that uses structures and pointers.  This is the general set-up."
   ]
  },
  {
   "cell_type": "code",
   "execution_count": 1,
   "metadata": {
    "collapsed": false
   },
   "outputs": [
    {
     "name": "stdout",
     "output_type": "stream",
     "text": [
      "Overwriting linked_list.h\n"
     ]
    }
   ],
   "source": [
    "%%file linked_list.h\n",
    "struct linked_list_struct\n",
    "{\n",
    "    /* data */\n",
    "    struct linked_list_struct *ptr;  /* points to the next item in the list */\n",
    "};\n",
    "\n"
   ]
  },
  {
   "cell_type": "markdown",
   "metadata": {},
   "source": [
    "For our example we will work with linked lists of characters.  I.e. the data, in the example above, will be a single character."
   ]
  },
  {
   "cell_type": "markdown",
   "metadata": {},
   "source": [
    "Here's our structure:"
   ]
  },
  {
   "cell_type": "code",
   "execution_count": 2,
   "metadata": {
    "collapsed": false
   },
   "outputs": [
    {
     "name": "stdout",
     "output_type": "stream",
     "text": [
      "Overwriting strlst.h\n"
     ]
    }
   ],
   "source": [
    "%%file strlst.h\n",
    "#ifndef STRLST_H\n",
    "#define STRLST_H\n",
    "struct strlst_struct\n",
    "{\n",
    "    char character;\n",
    "    struct strlst_struct *next;\n",
    "};\n",
    "\n",
    "struct strlst_struct *new_item( char character );\n",
    "/* Return a pointer to a newly allocated item whose character attribute\n",
    "   is set to character and whose next pointer is NULL.\n",
    "*/\n",
    "\n",
    "char free_item( struct strlst_struct *ptr );\n",
    "/* Free the memory pointed to by the ptr and return the character \n",
    "   attribute in the structure that ptr points to.\n",
    "*/\n",
    "\n",
    "void push( struct strlst_struct **list_ptr, \n",
    "           struct strlst_struct *item_ptr );\n",
    "/* Add the item pointed to by item_ptr to the beginning of the list \n",
    "   pointed to by list_ptr.\n",
    "*/\n",
    "\n",
    "struct strlst_struct *pop( struct strlst_struct **list_ptr );\n",
    "/* Remove the first item from the list pointed to by list_ptr and return\n",
    "   a pointer to it.  Set its next pointer to NULL.\n",
    "*/\n",
    "#endif"
   ]
  },
  {
   "cell_type": "code",
   "execution_count": 3,
   "metadata": {
    "collapsed": false
   },
   "outputs": [
    {
     "name": "stdout",
     "output_type": "stream",
     "text": [
      "Overwriting new_item.c\n"
     ]
    }
   ],
   "source": [
    "%%file new_item.c\n",
    "#include <stdlib.h>\n",
    "#include \"strlst.h\"\n",
    "\n",
    "struct strlst_struct *new_item( char character )\n",
    "/* Return a pointer to a newly allocated item whose character attribute\n",
    "   is set to character and whose next pointer is NULL.\n",
    "*/\n",
    "{\n",
    "    struct strlst_struct *item_ptr;\n",
    "    \n",
    "    item_ptr = malloc( sizeof(struct strlst_struct) );\n",
    "    item_ptr->character = character;\n",
    "    (*item_ptr).next = NULL;\n",
    "\n",
    "    return item_ptr;\n",
    "}"
   ]
  },
  {
   "cell_type": "code",
   "execution_count": 4,
   "metadata": {
    "collapsed": false
   },
   "outputs": [
    {
     "name": "stdout",
     "output_type": "stream",
     "text": [
      "Overwriting free_item.c\n"
     ]
    }
   ],
   "source": [
    "%%file free_item.c\n",
    "#include <stdlib.h>\n",
    "#include \"strlst.h\"\n",
    "\n",
    "char free_item( struct strlst_struct *ptr )\n",
    "/* Free the memory pointed to by the ptr and return the character \n",
    "   attribute in the structure that ptr points to.\n",
    "*/\n",
    "{\n",
    "    char character;\n",
    "    \n",
    "    character = ptr->character;\n",
    "    free( ptr );\n",
    "    \n",
    "    return character;\n",
    "}"
   ]
  },
  {
   "cell_type": "code",
   "execution_count": 5,
   "metadata": {
    "collapsed": false
   },
   "outputs": [
    {
     "name": "stdout",
     "output_type": "stream",
     "text": [
      "Overwriting push.c\n"
     ]
    }
   ],
   "source": [
    "%%file push.c\n",
    "#include <stdlib.h>\n",
    "#include \"strlst.h\"\n",
    "\n",
    "void push( struct strlst_struct **list_ptr, \n",
    "           struct strlst_struct *item_ptr )\n",
    "/* Add the item pointed to by item_ptr to the beginning of the list \n",
    "   pointed to by list_ptr.\n",
    "*/\n",
    "{\n",
    "    item_ptr->next = *list_ptr;\n",
    "    *list_ptr = item_ptr;\n",
    "}"
   ]
  },
  {
   "cell_type": "code",
   "execution_count": 6,
   "metadata": {
    "collapsed": false
   },
   "outputs": [
    {
     "name": "stdout",
     "output_type": "stream",
     "text": [
      "Overwriting pop.c\n"
     ]
    }
   ],
   "source": [
    "%%file pop.c\n",
    "#include <stdlib.h>\n",
    "#include \"strlst.h\"\n",
    "\n",
    "struct strlst_struct *pop( struct strlst_struct **list_ptr )\n",
    "/* Remove the first item from the list pointed to by list_ptr and return\n",
    "   a pointer to it.  Set its next pointer to NULL.\n",
    "*/\n",
    "{\n",
    "    struct strlst_struct *item;\n",
    "    \n",
    "    item = *list_ptr;\n",
    "    *list_ptr = item->next;\n",
    "    item->next = NULL;\n",
    "    \n",
    "    return item;\n",
    "}"
   ]
  },
  {
   "cell_type": "code",
   "execution_count": 7,
   "metadata": {
    "collapsed": false
   },
   "outputs": [
    {
     "name": "stdout",
     "output_type": "stream",
     "text": [
      "Overwriting main.c\n"
     ]
    }
   ],
   "source": [
    "%%file main.c\n",
    "#include \"strlst.h\"\n",
    "#include <stdlib.h>\n",
    "#include <stdio.h>\n",
    "\n",
    "int main()\n",
    "{\n",
    "    char letter;\n",
    "    char *string = \"dlrow olleh\\n\";\n",
    "    struct strlst_struct *item_ptr, *list_ptr;\n",
    "    \n",
    "    list_ptr = NULL;\n",
    "    \n",
    "    for (;*string;string++)\n",
    "    {\n",
    "        item_ptr = new_item( *string );\n",
    "        push( &list_ptr, item_ptr );\n",
    "    }\n",
    "    \n",
    "    while (list_ptr)\n",
    "    {\n",
    "        item_ptr = pop( &list_ptr );\n",
    "        letter = free_item( item_ptr );\n",
    "        printf( \"%c\", letter );\n",
    "    }\n",
    "    printf( \"\\n\" );\n",
    "    \n",
    "    return 0;\n",
    "}"
   ]
  },
  {
   "cell_type": "code",
   "execution_count": 8,
   "metadata": {
    "collapsed": false
   },
   "outputs": [
    {
     "name": "stdout",
     "output_type": "stream",
     "text": [
      "\t\n"
     ]
    }
   ],
   "source": [
    "print(\"\\t\");"
   ]
  },
  {
   "cell_type": "code",
   "execution_count": 9,
   "metadata": {
    "collapsed": false
   },
   "outputs": [
    {
     "name": "stdout",
     "output_type": "stream",
     "text": [
      "Overwriting makefile\n"
     ]
    }
   ],
   "source": [
    "%%file makefile\n",
    "list: main.o new_item.o free_item.o push.o pop.o\n",
    "\tgcc -Wall -ansi -pedantic main.o new_item.o free_item.o push.o pop.o -o list\n",
    "    \n",
    "main.o: main.c strlst.h\n",
    "\tgcc -Wall -ansi -pedantic -c main.c -o main.o\n",
    "    \n",
    "new_item.o: new_item.c strlst.h\n",
    "\tgcc -Wall -ansi -pedantic -c new_item.c -o new_item.o\n",
    "\n",
    "free_item.o: free_item.c strlst.h\n",
    "\tgcc -Wall -ansi -pedantic -c free_item.c -o free_item.o\n",
    "\n",
    "push.o: push.c strlst.h\n",
    "\tgcc -Wall -ansi -pedantic -c push.c -o push.o\n",
    "\n",
    "pop.o: pop.c strlst.h\n",
    "\tgcc -Wall -ansi -pedantic -c pop.c -o pop.o\n",
    "\n",
    "    "
   ]
  },
  {
   "cell_type": "code",
   "execution_count": 10,
   "metadata": {
    "collapsed": false
   },
   "outputs": [
    {
     "name": "stdout",
     "output_type": "stream",
     "text": [
      "gcc -Wall -ansi -pedantic -c main.c -o main.o\n",
      "gcc -Wall -ansi -pedantic -c new_item.c -o new_item.o\n",
      "gcc -Wall -ansi -pedantic -c free_item.c -o free_item.o\n",
      "gcc -Wall -ansi -pedantic -c push.c -o push.o\n",
      "gcc -Wall -ansi -pedantic -c pop.c -o pop.o\n",
      "gcc -Wall -ansi -pedantic main.o new_item.o free_item.o push.o pop.o -o list\n"
     ]
    }
   ],
   "source": [
    "%%bash\n",
    "make"
   ]
  },
  {
   "cell_type": "code",
   "execution_count": 11,
   "metadata": {
    "collapsed": false
   },
   "outputs": [
    {
     "name": "stdout",
     "output_type": "stream",
     "text": [
      "\n",
      "hello world\n"
     ]
    }
   ],
   "source": [
    "%%bash\n",
    "./list"
   ]
  },
  {
   "cell_type": "code",
   "execution_count": 7,
   "metadata": {
    "collapsed": false
   },
   "outputs": [
    {
     "name": "stdout",
     "output_type": "stream",
     "text": [
      "Overwriting morestrlst.h\n"
     ]
    }
   ],
   "source": [
    "%%file morestrlst.h\n",
    "\n",
    "\n",
    "#include \"strlst.h\"\n",
    "#include <string.h>\n",
    "\n",
    "struct strlst_struct *strlst_from_str( char *string );\n",
    "/* create a strlst from a given string */\n",
    "\n",
    "void free_strlst( struct strlst_struct *strlst );\n",
    "/* free all the elements of a strlst */\n",
    "\n",
    "struct strlst_struct *get_item( struct strlst_struct *strlst, int i );\n",
    "/* retrieve a given item number from the strlst (start counting at 0) */\n",
    "\n",
    "struct strlst_struct *copy_strlst( struct strlst_struct *strlst );\n",
    "/* make a copy of a strlst */\n",
    "\n",
    "void reverse_strlst( struct strlst_struct **strlst );\n",
    "/* reverse the elements of a strlst */\n",
    "\n",
    "void append_strlst( struct strlst_struct **destlst, struct strlst_struct *srclst );\n",
    "/* append srclst to the end of destlst, do not malloc or free anything */\n",
    "\n",
    "struct strlst_struct *find_strlst( struct strlst_struct *searchlst, struct strlst_struct *target );\n",
    "/* find the items of target in searchlst */"
   ]
  },
  {
   "cell_type": "code",
   "execution_count": 56,
   "metadata": {
    "collapsed": false
   },
   "outputs": [
    {
     "name": "stdout",
     "output_type": "stream",
     "text": [
      "Overwriting morestrlst.c\n"
     ]
    }
   ],
   "source": [
    "%%file morestrlst.c\n",
    "\n",
    "#include \"strlst.h\"\n",
    "#include <string.h>\n",
    "\n",
    "\n",
    "struct strlst_struct *strlst_from_str( char *string )\n",
    "/* create a strlst from a given string */\n",
    "{\n",
    "    int i;\n",
    "    struct strlst_struct *item_ptr, *list_ptr;\n",
    "    \n",
    "    /* this code contains one error - can we find it? */\n",
    "    list_ptr = NULL;\n",
    "    for (i=strlen(string)-1;i>=0;i--)\n",
    "    {\n",
    "        item_ptr = new_item(string[i]);\n",
    "        push( &list_ptr, item_ptr );\n",
    "    }\n",
    "    return list_ptr;\n",
    "}\n",
    "\n",
    "void free_strlst( struct strlst_struct *strlst )\n",
    "/* free all the elements of a strlst */\n",
    "{\n",
    "    struct strlst_struct *item_ptr;\n",
    "    \n",
    "    while (strlst)\n",
    "    {\n",
    "        item_ptr = pop( &strlst );\n",
    "        free_item( item_ptr );\n",
    "    }\n",
    "}\n",
    "\n",
    "struct strlst_struct *get_item( struct strlst_struct *strlst, int i )\n",
    "/* retrieve a given item number from the strlst (start counting at 0) */\n",
    "{\n",
    "    while( strlst )\n",
    "    {\n",
    "        if (i==0)\n",
    "            return strlst;\n",
    "        strlst = strlst->next;\n",
    "        i--;\n",
    "    }\n",
    "    return NULL;\n",
    "    \n",
    "}\n",
    "\n",
    "\n",
    "struct strlst_struct *copy_strlst( struct strlst_struct *strlst )\n",
    "/* make a copy of a strlst */\n",
    "{\n",
    "    struct strlst_struct *newlist, **next, **from;\n",
    "    \n",
    "    newlist = NULL;\n",
    "    \n",
    "    from = &strlst;\n",
    "    next = &newlist;\n",
    "    \n",
    "\n",
    "    while (*from)\n",
    "    {\n",
    "        *next = new_item( (*from)->character );\n",
    "        next = &((*next)->next);\n",
    "        from = &((*from)->next);\n",
    "    }\n",
    "    \n",
    "    return newlist;\n",
    "    \n",
    "    \n",
    "}\n",
    "\n",
    "\n",
    "void reverse_strlst( struct strlst_struct **strlst );\n",
    "/* reverse the elements of a strlst */\n",
    "\n",
    "void append_strlst( struct strlst_struct **destlst, struct strlst_struct *srclst );\n",
    "/* append srclst to the end of destlst, do not malloc or free anything */\n",
    "\n",
    "struct strlst_struct *find_strlst( struct strlst_struct *searchlst, struct strlst_struct *target );\n",
    "/* find the items of target in searchlst */"
   ]
  },
  {
   "cell_type": "code",
   "execution_count": 57,
   "metadata": {
    "collapsed": false
   },
   "outputs": [],
   "source": [
    "%%bash\n",
    "gcc -Wall -ansi -pedantic -c morestrlst.c -o morestrlst.o"
   ]
  },
  {
   "cell_type": "code",
   "execution_count": 58,
   "metadata": {
    "collapsed": false
   },
   "outputs": [
    {
     "name": "stdout",
     "output_type": "stream",
     "text": [
      "Overwriting main.c\n"
     ]
    }
   ],
   "source": [
    "%%file main.c\n",
    "#include \"strlst.h\"\n",
    "#include \"morestrlst.h\"\n",
    "\n",
    "#include <stdio.h>\n",
    "\n",
    "int main()\n",
    "{\n",
    "    struct strlst_struct *list, *list_copy, *item;\n",
    "\n",
    "    \n",
    "    list = strlst_from_str( \"Hello, world\\n\" );\n",
    "    item = list;\n",
    "    while (item)\n",
    "    {\n",
    "        printf( \"%c\", item->character );\n",
    "        item = item->next;\n",
    "    }\n",
    "    \n",
    "    list_copy = copy_strlst( list );\n",
    "    free_strlst( list );\n",
    "    \n",
    "    item = list_copy;\n",
    "    while (item)\n",
    "    {\n",
    "        printf( \"%c\", item->character );\n",
    "        item = item->next;\n",
    "    }\n",
    "    \n",
    " \n",
    "    free_strlst( list_copy );\n",
    "    return 0;\n",
    "}"
   ]
  },
  {
   "cell_type": "code",
   "execution_count": 59,
   "metadata": {
    "collapsed": false
   },
   "outputs": [],
   "source": [
    "%%bash\n",
    "gcc -ansi -Wall -pedantic -c main.c -o main.o"
   ]
  },
  {
   "cell_type": "code",
   "execution_count": 60,
   "metadata": {
    "collapsed": false
   },
   "outputs": [],
   "source": [
    "%%bash\n",
    "gcc -Wall -pedantic main.o morestrlst.o new_item.o push.o pop.o free_item.o -o list"
   ]
  },
  {
   "cell_type": "code",
   "execution_count": 61,
   "metadata": {
    "collapsed": false
   },
   "outputs": [
    {
     "name": "stdout",
     "output_type": "stream",
     "text": [
      "Hello, world\n",
      "Hello, world\n"
     ]
    }
   ],
   "source": [
    "%%bash\n",
    "./list"
   ]
  },
  {
   "cell_type": "code",
   "execution_count": null,
   "metadata": {
    "collapsed": true
   },
   "outputs": [],
   "source": []
  },
  {
   "cell_type": "code",
   "execution_count": null,
   "metadata": {
    "collapsed": true
   },
   "outputs": [],
   "source": []
  }
 ],
 "metadata": {
  "kernelspec": {
   "display_name": "Python 3",
   "language": "python",
   "name": "python3"
  },
  "language_info": {
   "codemirror_mode": {
    "name": "ipython",
    "version": 3
   },
   "file_extension": ".py",
   "mimetype": "text/x-python",
   "name": "python",
   "nbconvert_exporter": "python",
   "pygments_lexer": "ipython3",
   "version": "3.5.3"
  }
 },
 "nbformat": 4,
 "nbformat_minor": 2
}
