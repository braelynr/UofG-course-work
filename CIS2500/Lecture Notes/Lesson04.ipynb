{
 "cells": [
  {
   "cell_type": "markdown",
   "metadata": {},
   "source": [
    "## Lesson 04 Pointers\n",
    "In this notebook we will be taking a closer look at pointers."
   ]
  },
  {
   "cell_type": "code",
   "execution_count": null,
   "metadata": {
    "collapsed": false
   },
   "outputs": [],
   "source": [
    "%%file l04p01.c\n",
    "#include <stdio.h>\n",
    "\n",
    "int main( int argc, char **argv )\n",
    "{\n",
    "    int i;\n",
    "    int *p;\n",
    "    \n",
    "    i = 42;\n",
    "    p = &i;\n",
    "    \n",
    "    printf( \"In main: %p\\n\", (void *)p ); /* print the value of pointer p */\n",
    "    printf( \"In main: %p\\n\", (void *)(&i) ); /* print the address of integer i */\n",
    "    printf( \"In main: %d\\n\", i ); /* print the value of integer i */\n",
    "    \n",
    "    return 0;\n",
    "}"
   ]
  },
  {
   "cell_type": "code",
   "execution_count": null,
   "metadata": {
    "collapsed": false
   },
   "outputs": [],
   "source": [
    "%%bash\n",
    "gcc -ansi -Wall -pedantic l04p01.c -o l04p01"
   ]
  },
  {
   "cell_type": "code",
   "execution_count": null,
   "metadata": {
    "collapsed": false
   },
   "outputs": [],
   "source": [
    "%%bash\n",
    "./l04p01"
   ]
  },
  {
   "cell_type": "code",
   "execution_count": null,
   "metadata": {
    "collapsed": false
   },
   "outputs": [],
   "source": [
    "%%file l04p02.c\n",
    "#include <stdio.h>\n",
    "\n",
    "void pass_by_value( int i ) /* this function passes i by value */\n",
    "{\n",
    "    printf( \"In pass_by_value:  %p\\n\", (void *)(&i) );  /* print the address of integer argument i */\n",
    "    printf( \"In pass_by_value:  %d\\n\", i );           /* print the value of integer argument i */\n",
    "\n",
    "    i = 6*9;                                          /* set the value of integer argument i */\n",
    "\n",
    "    printf( \"In pass_by_value:  %p\\n\", (void *)(&i) );  /* print the address of integer argument i */\n",
    "    printf( \"In pass_by_value:  %d\\n\", i );           /* print the value of integer argument i */\n",
    "}\n",
    "\n",
    "int main( int argc, char **argv )\n",
    "{\n",
    "    int i;\n",
    "    \n",
    "    i = 42;\n",
    "    \n",
    "    printf( \"In main: %p\\n\", (void *)(&i) );  /* print the address of i */\n",
    "    printf( \"In main: %d\\n\", i );           /* print the value of i */\n",
    "    \n",
    "    pass_by_value( i );                     /* call pass by value */\n",
    "    \n",
    "    printf( \"In main: %p\\n\", (void *)(&i) );  /* print the address of i */\n",
    "    printf( \"In main: %d\\n\", i );           /* print the value of i */\n",
    "    \n",
    "    return 0;\n",
    "}"
   ]
  },
  {
   "cell_type": "code",
   "execution_count": null,
   "metadata": {
    "collapsed": true
   },
   "outputs": [],
   "source": [
    "%%bash\n",
    "gcc -ansi -Wall -pedantic l04p02.c -o l04p02"
   ]
  },
  {
   "cell_type": "code",
   "execution_count": null,
   "metadata": {
    "collapsed": false
   },
   "outputs": [],
   "source": [
    "%%bash\n",
    "./l04p02"
   ]
  },
  {
   "cell_type": "code",
   "execution_count": null,
   "metadata": {
    "collapsed": false
   },
   "outputs": [],
   "source": [
    "%%file l04p03.c\n",
    "#include <stdio.h>\n",
    "\n",
    "void pass_by_reference( int *i )  /* this function passes i by value */\n",
    "{\n",
    "    printf( \"In pass_by_value:  %p\\n\", (void *)i ); /* print the value of pointer i */ \n",
    "    printf( \"In pass_by_value:  %d\\n\", *i );        /* print the value stored at i */\n",
    "    \n",
    "    *i = 6*9;  /* change the value stored at i */\n",
    "    \n",
    "    printf( \"In pass_by_value:  %p\\n\", (void *)i ); /* print the value of pointer i */ \n",
    "    printf( \"In pass_by_value:  %d\\n\", *i );        /* print the value stored at i */\n",
    "}\n",
    "\n",
    "int main( int argc, char **argv )\n",
    "{\n",
    "    int i;\n",
    "    \n",
    "    i = 42;\n",
    "    \n",
    "    printf( \"In main: %p\\n\", (void *)(&i) );  /* print the address of i */\n",
    "    printf( \"In main: %d\\n\", i );           /* print the value of i */\n",
    "    \n",
    "    pass_by_reference( &i );                /* get the address of i and send it to the fn */\n",
    "    \n",
    "    printf( \"In main: %p\\n\", (void *)(&i) );  /* print the address of i */\n",
    "    printf( \"In main: %d\\n\", i );           /* print the value of i */\n",
    "    \n",
    "    return 0;\n",
    "}"
   ]
  },
  {
   "cell_type": "code",
   "execution_count": null,
   "metadata": {
    "collapsed": false
   },
   "outputs": [],
   "source": [
    "%%bash\n",
    "gcc -ansi -Wall -pedantic l04p03.c -o l04p03"
   ]
  },
  {
   "cell_type": "code",
   "execution_count": null,
   "metadata": {
    "collapsed": false
   },
   "outputs": [],
   "source": [
    "%%bash\n",
    "./l04p03"
   ]
  },
  {
   "cell_type": "code",
   "execution_count": null,
   "metadata": {
    "collapsed": false
   },
   "outputs": [],
   "source": [
    "%%file l04p04.c\n",
    "#include <stdio.h>\n",
    "\n",
    "int main( int argc, char **argv )\n",
    "{\n",
    "    int *p;  /* this is a pointer */\n",
    "    \n",
    "    p = 42; /* the compiler will think this is fishy and give a warning, but still compile */\n",
    "    \n",
    "    printf( \"In main: %p\\n\", (void *)p );\n",
    "    /* printf( \"In main: %d\\n\", *p ); */ \n",
    "    /* what will happen if I uncomment the previous line? */\n",
    "    \n",
    "    return 0;\n",
    "}"
   ]
  },
  {
   "cell_type": "code",
   "execution_count": null,
   "metadata": {
    "collapsed": false
   },
   "outputs": [],
   "source": [
    "%%bash\n",
    "gcc -ansi -Wall -pedantic l04p04.c -o l04p04"
   ]
  },
  {
   "cell_type": "code",
   "execution_count": null,
   "metadata": {
    "collapsed": false
   },
   "outputs": [],
   "source": [
    "%%bash\n",
    "./l04p04"
   ]
  },
  {
   "cell_type": "markdown",
   "metadata": {},
   "source": [
    "## What is a segmentation fault?\n",
    "Modern operating system segment their memory.  This means that a program is only allowed to access some parts of the memory, and is prevented from accessing other parts.\n",
    "\n",
    "Using pointers, it is easy to try to access anywhere in memory.  But the operating system monitors this and prevents it.\n",
    "\n",
    "This is a run-time error (as opposed to a compile time error).\n",
    "\n",
    "Both reading and writing memory outside of a program's allocated segment is prohibited.\n",
    "\n",
    "The operating system will give an error message.  This is much much better than the alternative:  accessing or changing the memory of another program.\n",
    "\n",
    "Remember, programs are stored in memory.  So it's not just data that you can mess up, you can mess up the machine language instructions!\n",
    "\n",
    "(Messing up the machine language instructions can lead to the \"Helvetica Scenario\"<a href=\"https://www.youtube.com/watch?v=-Y-yKmzP-4U\">.</a>)"
   ]
  },
  {
   "cell_type": "code",
   "execution_count": null,
   "metadata": {
    "collapsed": false
   },
   "outputs": [],
   "source": [
    "%%file l04p05.c\n",
    "#include <stdio.h>\n",
    "\n",
    "int main( int argc, char **argv )\n",
    "{\n",
    "    int i, j;\n",
    "    \n",
    "    i = 1;\n",
    "    j = 2;\n",
    "    \n",
    "    printf( \"%d, %d\\n\", i, j );  /* print both values */\n",
    "    printf( \"%p, %p\\n\", (void *)(&i), (void *)(&j) );  /* print both addresses */\n",
    "    printf( \"%p\\n\", (void *)((&j)+1) );  /* add 1 to the address of j and print that address */\n",
    "    \n",
    "    *((&j)+1) = 42;  /* get the address of j, add one to it, and store 42 there */\n",
    "    \n",
    "    printf( \"%d, %d\\n\", i, j );  /* print both values */\n",
    "    printf( \"%p, %p\\n\", (void *)(&i), (void *)(&j) );  /* print both addresses */\n",
    "    \n",
    "    return 0;\n",
    "}"
   ]
  },
  {
   "cell_type": "code",
   "execution_count": null,
   "metadata": {
    "collapsed": false
   },
   "outputs": [],
   "source": [
    "%%bash\n",
    "gcc -ansi -Wall -pedantic l04p05.c -o l04p05"
   ]
  },
  {
   "cell_type": "code",
   "execution_count": null,
   "metadata": {
    "collapsed": false
   },
   "outputs": [],
   "source": [
    "%%bash\n",
    "./l04p05"
   ]
  },
  {
   "cell_type": "code",
   "execution_count": null,
   "metadata": {
    "collapsed": false
   },
   "outputs": [],
   "source": [
    "%%file l04p06.c\n",
    "#include <stdio.h>\n",
    "\n",
    "int main( int argc, char **argv )\n",
    "{\n",
    "    int array[10] = {1,2,3,4,5,6,7,8,9,10};\n",
    "    \n",
    "    printf( \"%p %p %d\\n\", (void *)array, (void *)(&(array[0])), array[0] );\n",
    "    \n",
    "    return 0;\n",
    "}"
   ]
  },
  {
   "cell_type": "code",
   "execution_count": null,
   "metadata": {
    "collapsed": false
   },
   "outputs": [],
   "source": [
    "%%bash\n",
    "gcc -ansi -Wall -pedantic l04p06.c -o l04p06"
   ]
  },
  {
   "cell_type": "code",
   "execution_count": null,
   "metadata": {
    "collapsed": false
   },
   "outputs": [],
   "source": [
    "%%bash\n",
    "./l04p06"
   ]
  },
  {
   "cell_type": "markdown",
   "metadata": {},
   "source": [
    "## You can't pass an array by value\n",
    "Now you see that arrays are pointers.  So all arrays are passed by reference.\n",
    "\n",
    "This is a good design.  Imagine how much extra work would be required everytime you call a function with an array with many elements as its argument."
   ]
  },
  {
   "cell_type": "code",
   "execution_count": null,
   "metadata": {
    "collapsed": false
   },
   "outputs": [],
   "source": [
    "%%file l04p07.c\n",
    "#include <stdio.h>\n",
    "\n",
    "int main( int argc, char **argv )\n",
    "{\n",
    "    int i;\n",
    "    int array[10] = {1,2,3,4,5,6,7,8,9,10};\n",
    "    \n",
    "    \n",
    "    \n",
    "    printf( \"%ld\\n\", sizeof(int) );\n",
    "    \n",
    "    for (i=0;i<10;i++)\n",
    "    {\n",
    "        printf( \"%p %p %p %d %d\\n\", (void *)array, (void *)(&(array[i])), (void *)(array+i), \n",
    "                   array[i], *(array+i) );\n",
    "    }\n",
    "    \n",
    "    return 0;\n",
    "}"
   ]
  },
  {
   "cell_type": "code",
   "execution_count": null,
   "metadata": {
    "collapsed": false
   },
   "outputs": [],
   "source": [
    "%%bash\n",
    "gcc -ansi -Wall -pedantic l04p07.c -o l04p07"
   ]
  },
  {
   "cell_type": "code",
   "execution_count": null,
   "metadata": {
    "collapsed": false
   },
   "outputs": [],
   "source": [
    "%%bash\n",
    "./l04p07"
   ]
  },
  {
   "cell_type": "code",
   "execution_count": null,
   "metadata": {
    "collapsed": true
   },
   "outputs": [],
   "source": []
  }
 ],
 "metadata": {
  "kernelspec": {
   "display_name": "Python 3",
   "language": "python",
   "name": "python3"
  },
  "language_info": {
   "codemirror_mode": {
    "name": "ipython",
    "version": 3
   },
   "file_extension": ".py",
   "mimetype": "text/x-python",
   "name": "python",
   "nbconvert_exporter": "python",
   "pygments_lexer": "ipython3",
   "version": "3.5.3"
  }
 },
 "nbformat": 4,
 "nbformat_minor": 2
}
