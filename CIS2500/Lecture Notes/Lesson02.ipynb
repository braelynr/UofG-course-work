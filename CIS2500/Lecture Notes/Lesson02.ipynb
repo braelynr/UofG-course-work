{
 "cells": [
  {
   "cell_type": "markdown",
   "metadata": {},
   "source": [
    "# Bits and bytes and binary"
   ]
  },
  {
   "cell_type": "markdown",
   "metadata": {},
   "source": [
    "In this notebook we will be looking at how computers represent information and how you can access that information in C.\n",
    "\n",
    "But first:"
   ]
  },
  {
   "cell_type": "markdown",
   "metadata": {},
   "source": [
    "In the space below write a C program that compiles without warnings or errors with the -ansi -Wall -pedantic flags turned on.  Include your name, login-id, and student ID number."
   ]
  },
  {
   "cell_type": "code",
   "execution_count": null,
   "metadata": {
    "collapsed": true
   },
   "outputs": [],
   "source": [
    "%%file l02_works.c\n",
    "\n",
    "/* put code here */\n",
    "\n",
    "\n",
    "/* end of program */\n"
   ]
  },
  {
   "cell_type": "code",
   "execution_count": null,
   "metadata": {
    "collapsed": true
   },
   "outputs": [],
   "source": [
    "%%bash\n",
    "gcc -ansi -Wall -pedantic l02_works.c -o works"
   ]
  },
  {
   "cell_type": "markdown",
   "metadata": {},
   "source": [
    "The smallest unit of information in a ditigal computer is a bit.  A bit is represented by a voltage level in the circuits of a computer.  Each bit has two possible values:  0 and 1.  The voltage levels in the computer will be low to represent 0 and high to represent 1 (but they won't necessarily be 0 and 1 volts).\n",
    "\n",
    "We can collect multiple bits together to respresent more information (more than two values).  A byte is 8 bits and can have a combination of $2^8=256$ possible values.\n",
    "\n",
    "In the C programming language bytes are called <tt>char</tt>.  A <tt>char</tt> can be used to represent at least 3 different things:\n",
    "<ul>\n",
    "    <li> an 8-bit ascii character, </li>\n",
    "    <li> a signed integer in the range -128 to 127, or </li>\n",
    "    <li> an unsigned integer in the range 0 to 255. </li>\n",
    "</ul>"
   ]
  },
  {
   "cell_type": "code",
   "execution_count": null,
   "metadata": {
    "collapsed": true
   },
   "outputs": [],
   "source": [
    "%%file l02_ex00.c\n",
    "#include <stdio.h>\n",
    "\n",
    "int main()\n",
    "{\n",
    "    char i;\n",
    "    unsigned char j;\n",
    "    \n",
    "    printf( \"sizeof(char)=%ld sizeof(unsigned char)=%ld\\n\\n\", sizeof(char), sizeof(unsigned char) );\n",
    "    \n",
    "    \n",
    "    printf( \"Printing out chars:\\n\" );\n",
    "    for (i=1;i!=0;i++)  /* loop from one, increment by one, stop when you hit zero */\n",
    "        printf( \"%d\\n\", i );\n",
    "    printf( \"%d\\n\", i );  /* print the value of i that made it stop */\n",
    "    \n",
    "    printf( \"Printing out unsigned chars:\\n\" );\n",
    "    for (j=1;j!=0;j++)  /* loop from one, increment by one, stop when you hit zero */\n",
    "        printf( \"%d\\n\", j );\n",
    "    printf( \"%d\\n\", j );  /* print the value of i that made it stop */\n",
    "    \n",
    "    return 0;\n",
    "}"
   ]
  },
  {
   "cell_type": "code",
   "execution_count": null,
   "metadata": {
    "collapsed": true
   },
   "outputs": [],
   "source": [
    "%%bash\n",
    "gcc -ansi -Wall -pedantic l02_ex00.c -o l02_ex00"
   ]
  },
  {
   "cell_type": "code",
   "execution_count": null,
   "metadata": {
    "collapsed": true
   },
   "outputs": [],
   "source": [
    "%%bash\n",
    "./l02_ex00"
   ]
  },
  {
   "cell_type": "markdown",
   "metadata": {},
   "source": [
    "Things to notice:\n",
    "<ul>\n",
    "    <li> Both <tt> char </tt> and <tt> unsigned char </tt> are one byte in length. </li>\n",
    "    <li> If you keep adding 1, they eventually wrap around. </li>\n",
    "    <li> No warning or error is generated when they wrap around! (Invisible bug!)</li>\n",
    "</ul>"
   ]
  },
  {
   "cell_type": "markdown",
   "metadata": {},
   "source": [
    "Let's look at bits.\n",
    "\n",
    "There are a number of bit-wise operators (see K&R Section 2.9).  Let's look at 3 in particular.\n",
    "<ol>\n",
    "    <li> <tt> &amp; </tt> represents bit-wise AND, </li>\n",
    "    <li> <tt> &lt;&lt; </tt> represents left shift, and </li>\n",
    "    <li> <tt> &gt;&gt; </tt> represents right shift. </li>\n",
    "</ol>\n"
   ]
  },
  {
   "cell_type": "markdown",
   "metadata": {},
   "source": [
    "Let's write a program that shows the bits in an unsigned character."
   ]
  },
  {
   "cell_type": "code",
   "execution_count": null,
   "metadata": {
    "collapsed": true
   },
   "outputs": [],
   "source": [
    "%%file l02_ex01.c\n",
    "\n",
    "#include <stdio.h>\n",
    "#include <stdlib.h>\n",
    "\n",
    "int main( int argc, char **argv )\n",
    "{\n",
    "    int number, bitno, bit;\n",
    "    unsigned char uc;\n",
    "    \n",
    "    if (argc!=2)\n",
    "    {\n",
    "        fprintf( stderr, \"Usage: %s [n]\\n\", argv[0] );\n",
    "        exit(-1);\n",
    "    }\n",
    "    number = atoi( argv[1] );\n",
    "    \n",
    "    uc = number;\n",
    "    \n",
    "    printf( \"%d is \", uc );\n",
    "    for (bitno=sizeof(unsigned char)*8-1;bitno>=0;bitno--)\n",
    "    {\n",
    "        bit = (uc >> bitno)&1;\n",
    "        printf( \"%d\", bit );\n",
    "    }\n",
    "    printf( \"\\n\" );\n",
    "    return 0;\n",
    "}"
   ]
  },
  {
   "cell_type": "code",
   "execution_count": null,
   "metadata": {
    "collapsed": true
   },
   "outputs": [],
   "source": [
    "%%bash\n",
    "gcc -ansi -Wall -pedantic l02_ex01.c -o l02_ex01"
   ]
  },
  {
   "cell_type": "code",
   "execution_count": null,
   "metadata": {
    "collapsed": true
   },
   "outputs": [],
   "source": [
    "%%bash\n",
    "./l02_ex01"
   ]
  },
  {
   "cell_type": "code",
   "execution_count": null,
   "metadata": {
    "collapsed": true
   },
   "outputs": [],
   "source": [
    "%%bash\n",
    "./l02_ex01 0\n",
    "./l02_ex01 1\n",
    "./l02_ex01 2\n",
    "./l02_ex01 3\n",
    "./l02_ex01 4\n",
    "./l02_ex01 5\n",
    "./l02_ex01 6\n",
    "./l02_ex01 7"
   ]
  },
  {
   "cell_type": "markdown",
   "metadata": {},
   "source": [
    "Copy the l02_ex01.c below and create a new program to display the bits of signed <tt>char</tt>s."
   ]
  },
  {
   "cell_type": "code",
   "execution_count": null,
   "metadata": {
    "collapsed": true
   },
   "outputs": [],
   "source": [
    "%%file l02_ex02.c\n",
    "\n",
    "/* add code here */"
   ]
  },
  {
   "cell_type": "code",
   "execution_count": null,
   "metadata": {
    "collapsed": true
   },
   "outputs": [],
   "source": [
    "%%bash\n",
    "gcc -ansi -Wall -pedantic l02_ex02.c -o l02_ex02"
   ]
  },
  {
   "cell_type": "code",
   "execution_count": null,
   "metadata": {
    "collapsed": true
   },
   "outputs": [],
   "source": [
    "%%bash\n",
    "./l02_ex02 -7\n",
    "./l02_ex02 -6\n",
    "./l02_ex02 -5\n",
    "./l02_ex02 -4\n",
    "./l02_ex02 -3\n",
    "./l02_ex02 -2\n",
    "./l02_ex02 -1\n",
    "./l02_ex02 0\n",
    "./l02_ex02 1\n",
    "./l02_ex02 2\n",
    "./l02_ex02 3\n",
    "./l02_ex02 4\n",
    "./l02_ex02 5\n",
    "./l02_ex02 6\n",
    "./l02_ex02 7"
   ]
  },
  {
   "cell_type": "markdown",
   "metadata": {},
   "source": [
    "Notice how the negative numbers are represented.  This is called two's complement (you will see this in CIS*1910 in the second week of February)."
   ]
  },
  {
   "cell_type": "markdown",
   "metadata": {},
   "source": [
    "Repeat the above experiment with:\n",
    "<ul>\n",
    "    <li> <tt>short</tt>, </li>\n",
    "    <li> <tt>int</tt>, and </li>\n",
    "    <li> <tt>long</tt>. </li>\n",
    "</ul>\n",
    "\n",
    "Floating point numbers are a whole other kettle of fish that we won't get into."
   ]
  },
  {
   "cell_type": "code",
   "execution_count": null,
   "metadata": {
    "collapsed": true
   },
   "outputs": [],
   "source": [
    "%%file l02_ex03.c\n",
    "\n",
    "/* add code here */"
   ]
  },
  {
   "cell_type": "code",
   "execution_count": null,
   "metadata": {
    "collapsed": true
   },
   "outputs": [],
   "source": [
    "%%bash\n",
    "gcc -ansi -Wall -pedantic l02_ex03.c -o l02_ex03"
   ]
  },
  {
   "cell_type": "code",
   "execution_count": null,
   "metadata": {
    "collapsed": true
   },
   "outputs": [],
   "source": [
    "%%bash\n",
    "./l02_ex03 -7\n",
    "./l02_ex03 -6\n",
    "./l02_ex03 -5\n",
    "./l02_ex03 -4\n",
    "./l02_ex03 -3\n",
    "./l02_ex03 -2\n",
    "./l02_ex03 -1\n",
    "./l02_ex03 0\n",
    "./l02_ex03 1\n",
    "./l02_ex03 2\n",
    "./l02_ex03 3\n",
    "./l02_ex03 4\n",
    "./l02_ex03 5\n",
    "./l02_ex03 6\n",
    "./l02_ex03 7"
   ]
  },
  {
   "cell_type": "markdown",
   "metadata": {},
   "source": [
    "But let's look at characters.  Characters in C are, by default, represented in the American Standard Code for Information Interchange (aka ISO 646).  This was an old character encoding system that used only 7 bits and therefor couldn't include many international characters (nowadays we have Unicode which adresses these limitations).\n",
    "\n",
    "There is a handy <tt>man</tt> page for ASCII."
   ]
  },
  {
   "cell_type": "code",
   "execution_count": null,
   "metadata": {
    "collapsed": true
   },
   "outputs": [],
   "source": [
    "%%bash\n",
    "man ascii"
   ]
  },
  {
   "cell_type": "markdown",
   "metadata": {},
   "source": [
    "Some useful things to note:\n",
    "<ul>\n",
    "    <li> characters below 32 are generally \"unprintable\", so is the last one (127)</li>\n",
    "    <li> <tt> SPACE </tt> is 32, </li>\n",
    "    <li> <tt> 0 </tt> is 48 and the rest of the digits follow, </li>\n",
    "    <li> <tt> A </tt> is 65 and the rest of the uppercase alphabet follows, and </li>\n",
    "    <li> <tt> a </tt> is 97 and the rest of the lowercase alphabet follows. </li>\n",
    "</ul>\n",
    "We can do math with characters.\n",
    "\n",
    "Write a program that prints the characters from ' ' (a.k.a. 32) to '~' (a.k.a. 126) using a for loop."
   ]
  },
  {
   "cell_type": "code",
   "execution_count": null,
   "metadata": {
    "collapsed": true
   },
   "outputs": [],
   "source": [
    "%%file l02_ex04.c\n",
    "\n",
    "/* add code here */"
   ]
  },
  {
   "cell_type": "code",
   "execution_count": null,
   "metadata": {
    "collapsed": true
   },
   "outputs": [],
   "source": [
    "%%bash\n",
    "gcc -ansi -Wall -pedantic l02_ex04.c -o l02_ex04"
   ]
  },
  {
   "cell_type": "code",
   "execution_count": null,
   "metadata": {
    "collapsed": true
   },
   "outputs": [],
   "source": [
    "%%bash\n",
    "./l02_ex04"
   ]
  },
  {
   "cell_type": "markdown",
   "metadata": {},
   "source": [
    "Write a program, called <tt>l02_yeller</tt> that takes a single command line argument that is a single word consisting of lower case letters and converts it to upper case letters, printing it out."
   ]
  },
  {
   "cell_type": "code",
   "execution_count": null,
   "metadata": {
    "collapsed": true
   },
   "outputs": [],
   "source": []
  },
  {
   "cell_type": "code",
   "execution_count": null,
   "metadata": {
    "collapsed": true
   },
   "outputs": [],
   "source": []
  }
 ],
 "metadata": {
  "kernelspec": {
   "display_name": "Python 3",
   "language": "python",
   "name": "python3"
  },
  "language_info": {
   "codemirror_mode": {
    "name": "ipython",
    "version": 3
   },
   "file_extension": ".py",
   "mimetype": "text/x-python",
   "name": "python",
   "nbconvert_exporter": "python",
   "pygments_lexer": "ipython3",
   "version": "3.5.3"
  }
 },
 "nbformat": 4,
 "nbformat_minor": 2
}
