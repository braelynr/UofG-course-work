{
 "cells": [
  {
   "cell_type": "markdown",
   "metadata": {},
   "source": [
    "# Lesson 00 - Introduction to Jupyter\n",
    "# Welcome to the first Jupyter Notebook\n",
    "In this Notebook you will learn how Notebooks function and how we can use them for this course."
   ]
  },
  {
   "cell_type": "markdown",
   "metadata": {},
   "source": [
    "## bash\n",
    "Operating systems provide an interface between programs and computer hardware.  This allows program to share resources like files, memory, CPU, keyboard, mouse, screen, etc.\n",
    "\n",
    "Graphical User Interfaces (GUIs) exist for many operating systems that allow you to create folders, move files, run programs, etc.\n",
    "\n",
    "Additionally, operating systems also provide a Command Line Interface (CLI).  This allows you to create folders, move files, run programs, etc. using only words typed in by the keyboard.  CLIs use a variety of languages to communicate a user's intentions to the machine.  These languages are called shells because they represent the outside interface to the operating system (while the internals of the operating system are called a kernel).  A default shell for Linux/Unix that we will be using is \"<tt>bash</tt>\".\n",
    "\n",
    "There are advantages to both GUIs and CLIs.  Some advantages of CLIs is that they work on servers that don't have screens, they allow some very powerful operations (that would take hundreds of mouse-clicks) to be performed in a small number of keystrokes.  They can also be used create programs written entirely in shell commands.\n",
    "\n",
    "On your computer, you can use a terminal window to directly type in shell commands.  You will see how to do this in the labs for this course.\n",
    "\n",
    "This notebook can also run bash commands.  A cell block that starts with <tt>%%bash</tt> will run these commands and display the output.\n",
    "\n",
    "Try running the following <tt>bash</tt> command to see how it works.  <b>Warning:</b> this will generate a big box full of text.  To do this, click on the cell (below) and press the \">| Run\" button (above).\n",
    "You can clear the output of a cell after running it by clicking on the call and then navigating to \"Cell->Current Outputs->Clear\" on the menu bar above."
   ]
  },
  {
   "cell_type": "code",
   "execution_count": null,
   "metadata": {
    "collapsed": true
   },
   "outputs": [],
   "source": [
    "%%bash\n",
    "man bash"
   ]
  },
  {
   "cell_type": "markdown",
   "metadata": {},
   "source": [
    "Running the previous cell should have printed the description of the <tt>bash</tt> shell from the electronic manual page on the system.  Here you will learn that the full name of the \"<tt>bash</tt>\" shell is actually the \"<tt>GNU Bourne-Again SHell</tt>\".  Don't worry about the many options and features of the shell for now (or if there is a warning at the very bottom).\n",
    "\n",
    "You can replace the word \"bash\" after the word \"man\" above by any other command that you would like more information about.  Try \"man ls\", \"man pwd\", \"man gcc\".\n",
    "\n",
    "Here's another example that tells you which directory you are currently working in (called your current working directory).\n"
   ]
  },
  {
   "cell_type": "code",
   "execution_count": null,
   "metadata": {
    "collapsed": true
   },
   "outputs": [],
   "source": [
    "%%bash\n",
    "pwd"
   ]
  },
  {
   "cell_type": "markdown",
   "metadata": {},
   "source": [
    "Try running some of your faviourite bash commands in the cell below.  Remember to start the list with a line that says <tt>%%bash</tt>."
   ]
  },
  {
   "cell_type": "code",
   "execution_count": null,
   "metadata": {
    "collapsed": true
   },
   "outputs": [],
   "source": []
  },
  {
   "cell_type": "markdown",
   "metadata": {},
   "source": [
    "## Files\n",
    "Another thing that we can do in a cell is to create a file.\n",
    "\n",
    "This is done by putting a special first line in the cell.\n",
    "The line starts with \"<tt>%%file</tt>\" followed by the name of the file.\n",
    "\n",
    "When you run the cell, the file is created with the given name in your current\n",
    "directory.\n",
    "\n",
    "Let's try it out.  The following cell creates a file called <tt>myfile.txt</tt>."
   ]
  },
  {
   "cell_type": "code",
   "execution_count": null,
   "metadata": {
    "collapsed": true
   },
   "outputs": [],
   "source": [
    "%%file myfile.txt\n",
    "This is the first line of my file.\n",
    "This is the second line of my file."
   ]
  },
  {
   "cell_type": "markdown",
   "metadata": {},
   "source": [
    "When it says \"<tt>Writing myfile.txt</tt>\", you know that your file has been created.  Let's use bash to take a look:"
   ]
  },
  {
   "cell_type": "code",
   "execution_count": null,
   "metadata": {
    "collapsed": true
   },
   "outputs": [],
   "source": [
    "%%bash\n",
    "ls -laF"
   ]
  },
  {
   "cell_type": "markdown",
   "metadata": {},
   "source": [
    "Here we can see a directory listing for the current directory.  You can see \"<tt>.ipynb_checkpoints</tt>\" which is a file that the Jupyter Notebook software used to keep track of where you are.  \"<tt>Lesson 00.ipynb</tt> contains the contents of this particular Notebook.  And, \"<tt>myfile.txt</tt>\" contains the file that we just created.  The \"<tt>cat</tt>\" command concatenates files and displays them as output (in this case there is not need to concatenate anything, since there is only one file, but it still displays the output).  Note that the first line of the cell above doesn't make it into the file."
   ]
  },
  {
   "cell_type": "code",
   "execution_count": null,
   "metadata": {
    "collapsed": true
   },
   "outputs": [],
   "source": [
    "%%bash\n",
    "cat myfile.txt"
   ]
  },
  {
   "cell_type": "markdown",
   "metadata": {},
   "source": [
    "## Summary\n",
    "The <tt>%%file</tt> and <tt>%%bash</tt> directives are what we will be using in the Notebooks for this course.  With them we will be able to do all sorts of examples and surround them with explanatory text."
   ]
  },
  {
   "cell_type": "markdown",
   "metadata": {},
   "source": [
    "## Limitations\n",
    "Programs can use the operating system to interact with the computer's hardware in many ways.  These include\n",
    "<ol>\n",
    "    <li> printing text to the screen, </li>\n",
    "    <li> drawing graphics on the screen, </li>\n",
    "    <li> reading keyboard input, </li>\n",
    "    <li> reading mouse input, </li>\n",
    "    <li> reading and writing files, </li>\n",
    "    <li> communicating over the network, and </li>\n",
    "    <li> communicating with other programs. </li>\n",
    "</ol>\n",
    "In this course, we will be focussing on the internal structure, organization and execution of C programs.  This will be more than enough to fill up a course.  As a result, we are purposely <b><i>not</i></b> going to look at:\n",
    "<ol>\n",
    "    <li> drawing graphics on the screen, </li>\n",
    "    <li> reading mouse input, </li>\n",
    "    <li> communicating over the network, and </li>\n",
    "    <li> communicating with other programs. </li>\n",
    "</ol>\n",
    "(Don't worry you will see these topics in other courses, once you have a very solid grasp of programming.)\n",
    "That leaves us with:\n",
    "<ol>\n",
    "    <li> printing text to the screen, </li>\n",
    "    <li> reading keyboard input, </li>\n",
    "    <li> reading and writing files, </li>\n",
    "</ol>\n",
    "We can do the first and last of these within our Notebooks, however, we cannot read the keyboard input.\n",
    "\n",
    "As an example lets remove the <tt>myfile.txt</tt> file using the <tt>rm</tt> command with the <tt>-i</tt> option.  (The <tt>-t</tt> option is for \"interactive mode\".  This causes, the <tt>rm</tt> program to ask you each time whether you really want to delete a file.  It's a very handy \"safety\" feature.)\n",
    "\n",
    "Try it:\n"
   ]
  },
  {
   "cell_type": "code",
   "execution_count": null,
   "metadata": {
    "collapsed": true
   },
   "outputs": [],
   "source": [
    "%%bash\n",
    "rm -i myfile.txt"
   ]
  },
  {
   "cell_type": "markdown",
   "metadata": {},
   "source": [
    "Note that the <tt>rm</tt> program is asking us whether we want to remove \"<tt>myfile.txt</tt>\" or not.  Lets see what happened with the <tt>ls</tt> command."
   ]
  },
  {
   "cell_type": "code",
   "execution_count": null,
   "metadata": {
    "collapsed": true
   },
   "outputs": [],
   "source": [
    "%%bash\n",
    "ls -laf"
   ]
  },
  {
   "cell_type": "markdown",
   "metadata": {},
   "source": [
    "Nothing!  The file is still there!\n",
    "\n",
    "That's because the <tt>rm</tt> program tried to read from the keyboard, but it cannot do that from within Jupyter Notebooks.\n",
    "\n",
    "If we need to interact with a program then we will need to run it within a Terminal.  You can create a Terminal tab in your browser by going to your Jupyter home page and selecting New->Terminal."
   ]
  },
  {
   "cell_type": "markdown",
   "metadata": {},
   "source": [
    "## Running, restarting, editing and refreshing Notebooks.\n",
    "\n",
    "You can run the cells in the Jupyter Notebooks one at a time by pressing the \">| Run\".  \n",
    "\n",
    "You can also run all the cells in succession by selecting <tt>Kernel</tt> in the menu, above, and picking the \"<tt>Restart & Run All</tt>\" item.  I really discourage this because you should be goint through the cells slowly, predicting what each operation will do, noting if your predictions match your observations and trying to learn as much as possible from each example.\n",
    "\n",
    "You can \"re-start\" a Notebook by selecting \"<tt>Restart & Clear Output</tt>\".\n",
    "\n",
    "If you want to save the changes that you made to the cells of the Notebook you can select \"<tt>File->Save and Checkpoint</tt>\".\n",
    "\n",
    "Finally, if you mess up your notebook, you can download a fresh, clean copy from CourseLink."
   ]
  }
 ],
 "metadata": {
  "kernelspec": {
   "display_name": "Python 3",
   "language": "python",
   "name": "python3"
  },
  "language_info": {
   "codemirror_mode": {
    "name": "ipython",
    "version": 3
   },
   "file_extension": ".py",
   "mimetype": "text/x-python",
   "name": "python",
   "nbconvert_exporter": "python",
   "pygments_lexer": "ipython3",
   "version": "3.5.3"
  }
 },
 "nbformat": 4,
 "nbformat_minor": 2
}
